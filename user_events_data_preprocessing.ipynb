{
 "cells": [
  {
   "cell_type": "code",
   "execution_count": 1,
   "id": "83b74b97",
   "metadata": {},
   "outputs": [],
   "source": [
    "import pandas as pd\n",
    "import numpy as np\n",
    "import seaborn as sns\n",
    "import matplotlib.pyplot as plt\n",
    "import os\n",
    "import ast\n",
    "import csv\n",
    "import time\n",
    "import matplotlib.ticker as mtick\n",
    "\n",
    "# 원하시는 한글 폰트 이름을 지정하세요. (예: 'Malgun Gothic', 'AppleGothic')\n",
    "plt.rc('font', family='Malgun Gothic') # Windows 환경\n",
    "# 폰트 설정 후에는 음수 부호가 깨지는 것을 방지하기 위해 설정합니다.\n",
    "plt.rcParams['axes.unicode_minus'] = False"
   ]
  },
  {
   "cell_type": "markdown",
   "id": "42fd492b",
   "metadata": {},
   "source": [
    "# 유저 이벤트 데이터.csv 파일 불러오기"
   ]
  },
  {
   "cell_type": "markdown",
   "id": "77a73fb0",
   "metadata": {},
   "source": [
    "## hackle_properties"
   ]
  },
  {
   "cell_type": "code",
   "execution_count": 2,
   "id": "7c808cb8",
   "metadata": {},
   "outputs": [],
   "source": [
    "# csv 파일 불러오기\n",
    "hackle_properties_path = r'C:\\Users\\USER\\Documents\\codeit_study\\codeit_study\\HYPE 프로젝트\\hackle_properties.csv'\n",
    "hackle_properties_column_names = ['id', 'session_id', 'user_id', 'language', 'osname', 'osversion', 'versionname', 'device_id']\n",
    "hackle_properties_df = pd.read_csv(hackle_properties_path, header=None, names=hackle_properties_column_names)"
   ]
  },
  {
   "cell_type": "code",
   "execution_count": 3,
   "id": "31ef1e70",
   "metadata": {},
   "outputs": [
    {
     "data": {
      "text/html": [
       "<div>\n",
       "<style scoped>\n",
       "    .dataframe tbody tr th:only-of-type {\n",
       "        vertical-align: middle;\n",
       "    }\n",
       "\n",
       "    .dataframe tbody tr th {\n",
       "        vertical-align: top;\n",
       "    }\n",
       "\n",
       "    .dataframe thead th {\n",
       "        text-align: right;\n",
       "    }\n",
       "</style>\n",
       "<table border=\"1\" class=\"dataframe\">\n",
       "  <thead>\n",
       "    <tr style=\"text-align: right;\">\n",
       "      <th></th>\n",
       "      <th>id</th>\n",
       "      <th>session_id</th>\n",
       "      <th>user_id</th>\n",
       "      <th>language</th>\n",
       "      <th>osname</th>\n",
       "      <th>osversion</th>\n",
       "      <th>versionname</th>\n",
       "      <th>device_id</th>\n",
       "    </tr>\n",
       "  </thead>\n",
       "  <tbody>\n",
       "    <tr>\n",
       "      <th>0</th>\n",
       "      <td>1</td>\n",
       "      <td>4OzYh3seq3VKytpSn5pvQkZNQii1</td>\n",
       "      <td>NaN</td>\n",
       "      <td>ko-KR</td>\n",
       "      <td>iOS</td>\n",
       "      <td>16.0</td>\n",
       "      <td>2.0.0</td>\n",
       "      <td>590E7C79-CBA0-44D8-8BE3-3C9BFABBBC74</td>\n",
       "    </tr>\n",
       "    <tr>\n",
       "      <th>1</th>\n",
       "      <td>2</td>\n",
       "      <td>8QXy31PQxbW9qLzq0Y1dhR8Ypm52</td>\n",
       "      <td>1046711</td>\n",
       "      <td>ko-KR</td>\n",
       "      <td>iOS</td>\n",
       "      <td>16.5.1</td>\n",
       "      <td>2.0.3</td>\n",
       "      <td>D5417226-F71B-4A9E-A180-CD072F2AB279</td>\n",
       "    </tr>\n",
       "    <tr>\n",
       "      <th>2</th>\n",
       "      <td>3</td>\n",
       "      <td>6bcea65d-9f40-46fc-888c-700fe707483f</td>\n",
       "      <td>1545130</td>\n",
       "      <td>ko</td>\n",
       "      <td>Android</td>\n",
       "      <td>13</td>\n",
       "      <td>2.0.5</td>\n",
       "      <td>6bcea65d-9f40-46fc-888c-700fe707483f</td>\n",
       "    </tr>\n",
       "    <tr>\n",
       "      <th>3</th>\n",
       "      <td>4</td>\n",
       "      <td>XVYNT6zfhFWqIg9omwg2AHDjTLx2</td>\n",
       "      <td>1224793</td>\n",
       "      <td>ko</td>\n",
       "      <td>Android</td>\n",
       "      <td>13</td>\n",
       "      <td>2.0.5</td>\n",
       "      <td>a05c1595-3e05-434b-8684-218b528bd725</td>\n",
       "    </tr>\n",
       "    <tr>\n",
       "      <th>4</th>\n",
       "      <td>5</td>\n",
       "      <td>XFB2SPiGfjbVhvJ3Q3DBsaT3m2B3</td>\n",
       "      <td>1329450</td>\n",
       "      <td>ko-US</td>\n",
       "      <td>iOS</td>\n",
       "      <td>16.5.1</td>\n",
       "      <td>2.0.5</td>\n",
       "      <td>EAC6C0B3-7CE8-40EA-8A91-9977C0BA5EF3</td>\n",
       "    </tr>\n",
       "  </tbody>\n",
       "</table>\n",
       "</div>"
      ],
      "text/plain": [
       "   id                            session_id  user_id language   osname  \\\n",
       "0   1          4OzYh3seq3VKytpSn5pvQkZNQii1      NaN    ko-KR      iOS   \n",
       "1   2          8QXy31PQxbW9qLzq0Y1dhR8Ypm52  1046711    ko-KR      iOS   \n",
       "2   3  6bcea65d-9f40-46fc-888c-700fe707483f  1545130       ko  Android   \n",
       "3   4          XVYNT6zfhFWqIg9omwg2AHDjTLx2  1224793       ko  Android   \n",
       "4   5          XFB2SPiGfjbVhvJ3Q3DBsaT3m2B3  1329450    ko-US      iOS   \n",
       "\n",
       "  osversion versionname                             device_id  \n",
       "0      16.0       2.0.0  590E7C79-CBA0-44D8-8BE3-3C9BFABBBC74  \n",
       "1    16.5.1       2.0.3  D5417226-F71B-4A9E-A180-CD072F2AB279  \n",
       "2        13       2.0.5  6bcea65d-9f40-46fc-888c-700fe707483f  \n",
       "3        13       2.0.5  a05c1595-3e05-434b-8684-218b528bd725  \n",
       "4    16.5.1       2.0.5  EAC6C0B3-7CE8-40EA-8A91-9977C0BA5EF3  "
      ]
     },
     "execution_count": 3,
     "metadata": {},
     "output_type": "execute_result"
    }
   ],
   "source": [
    "hackle_properties_df.head()"
   ]
  },
  {
   "cell_type": "code",
   "execution_count": 4,
   "id": "39257968",
   "metadata": {},
   "outputs": [
    {
     "name": "stdout",
     "output_type": "stream",
     "text": [
      "<class 'pandas.core.frame.DataFrame'>\n",
      "RangeIndex: 525350 entries, 0 to 525349\n",
      "Data columns (total 8 columns):\n",
      " #   Column       Non-Null Count   Dtype \n",
      "---  ------       --------------   ----- \n",
      " 0   id           525350 non-null  int64 \n",
      " 1   session_id   525350 non-null  object\n",
      " 2   user_id      443095 non-null  object\n",
      " 3   language     525350 non-null  object\n",
      " 4   osname       525350 non-null  object\n",
      " 5   osversion    525350 non-null  object\n",
      " 6   versionname  525350 non-null  object\n",
      " 7   device_id    525350 non-null  object\n",
      "dtypes: int64(1), object(7)\n",
      "memory usage: 32.1+ MB\n"
     ]
    }
   ],
   "source": [
    "hackle_properties_df.info()"
   ]
  },
  {
   "cell_type": "code",
   "execution_count": 5,
   "id": "9cdf8665",
   "metadata": {},
   "outputs": [
    {
     "data": {
      "text/plain": [
       "id                 0\n",
       "session_id         0\n",
       "user_id        82255\n",
       "language           0\n",
       "osname             0\n",
       "osversion          0\n",
       "versionname        0\n",
       "device_id          0\n",
       "dtype: int64"
      ]
     },
     "execution_count": 5,
     "metadata": {},
     "output_type": "execute_result"
    }
   ],
   "source": [
    "# 결측치 확인\n",
    "hackle_properties_df.isnull().sum()"
   ]
  },
  {
   "cell_type": "code",
   "execution_count": 6,
   "id": "d5e4ee6a",
   "metadata": {},
   "outputs": [],
   "source": [
    "# user_id가 null인 데이터 -> 로그인 하지 않은 유저들에 대한 정보라 분석하기 어려움 -> 삭제\n",
    "hackle_properties_cleaned = hackle_properties_df.copy()\n",
    "hackle_properties_cleaned.dropna(subset=['user_id'], inplace=True)"
   ]
  },
  {
   "cell_type": "code",
   "execution_count": 7,
   "id": "8a018c92",
   "metadata": {},
   "outputs": [
    {
     "data": {
      "text/plain": [
       "id             0\n",
       "session_id     0\n",
       "user_id        0\n",
       "language       0\n",
       "osname         0\n",
       "osversion      0\n",
       "versionname    0\n",
       "device_id      0\n",
       "dtype: int64"
      ]
     },
     "execution_count": 7,
     "metadata": {},
     "output_type": "execute_result"
    }
   ],
   "source": [
    "hackle_properties_cleaned.isnull().sum()"
   ]
  },
  {
   "cell_type": "code",
   "execution_count": 8,
   "id": "b33d5a3b",
   "metadata": {},
   "outputs": [
    {
     "data": {
      "text/html": [
       "<div>\n",
       "<style scoped>\n",
       "    .dataframe tbody tr th:only-of-type {\n",
       "        vertical-align: middle;\n",
       "    }\n",
       "\n",
       "    .dataframe tbody tr th {\n",
       "        vertical-align: top;\n",
       "    }\n",
       "\n",
       "    .dataframe thead th {\n",
       "        text-align: right;\n",
       "    }\n",
       "</style>\n",
       "<table border=\"1\" class=\"dataframe\">\n",
       "  <thead>\n",
       "    <tr style=\"text-align: right;\">\n",
       "      <th></th>\n",
       "      <th>id</th>\n",
       "      <th>session_id</th>\n",
       "      <th>user_id</th>\n",
       "      <th>language</th>\n",
       "      <th>osname</th>\n",
       "      <th>osversion</th>\n",
       "      <th>versionname</th>\n",
       "      <th>device_id</th>\n",
       "    </tr>\n",
       "  </thead>\n",
       "  <tbody>\n",
       "  </tbody>\n",
       "</table>\n",
       "</div>"
      ],
      "text/plain": [
       "Empty DataFrame\n",
       "Columns: [id, session_id, user_id, language, osname, osversion, versionname, device_id]\n",
       "Index: []"
      ]
     },
     "execution_count": 8,
     "metadata": {},
     "output_type": "execute_result"
    }
   ],
   "source": [
    "# 데이터 중복 확인\n",
    "hackle_properties_cleaned[hackle_properties_cleaned.duplicated()]"
   ]
  },
  {
   "cell_type": "markdown",
   "id": "ec6b83b2",
   "metadata": {},
   "source": [
    "## device_properties"
   ]
  },
  {
   "cell_type": "code",
   "execution_count": 9,
   "id": "fa11ad93",
   "metadata": {},
   "outputs": [],
   "source": [
    "# csv 파일 불러오기\n",
    "device_properties_path = r'C:\\Users\\USER\\Documents\\codeit_study\\codeit_study\\HYPE 프로젝트\\device_properties.csv'\n",
    "device_properties_column_names = ['id', 'device_id', 'device_model', 'device_vendor']\n",
    "device_properties_df = pd.read_csv(device_properties_path, header=None, names=device_properties_column_names)"
   ]
  },
  {
   "cell_type": "code",
   "execution_count": 10,
   "id": "238fddf3",
   "metadata": {},
   "outputs": [
    {
     "data": {
      "text/html": [
       "<div>\n",
       "<style scoped>\n",
       "    .dataframe tbody tr th:only-of-type {\n",
       "        vertical-align: middle;\n",
       "    }\n",
       "\n",
       "    .dataframe tbody tr th {\n",
       "        vertical-align: top;\n",
       "    }\n",
       "\n",
       "    .dataframe thead th {\n",
       "        text-align: right;\n",
       "    }\n",
       "</style>\n",
       "<table border=\"1\" class=\"dataframe\">\n",
       "  <thead>\n",
       "    <tr style=\"text-align: right;\">\n",
       "      <th></th>\n",
       "      <th>id</th>\n",
       "      <th>device_id</th>\n",
       "      <th>device_model</th>\n",
       "      <th>device_vendor</th>\n",
       "    </tr>\n",
       "  </thead>\n",
       "  <tbody>\n",
       "    <tr>\n",
       "      <th>0</th>\n",
       "      <td>1</td>\n",
       "      <td>000007C9-E103-4EB5-9777-A9084D4952DF</td>\n",
       "      <td>iPhone14,7</td>\n",
       "      <td>Apple</td>\n",
       "    </tr>\n",
       "    <tr>\n",
       "      <th>1</th>\n",
       "      <td>2</td>\n",
       "      <td>00002245-458F-4CDD-8533-B448CD43DBD2</td>\n",
       "      <td>iPhone14,7</td>\n",
       "      <td>Apple</td>\n",
       "    </tr>\n",
       "    <tr>\n",
       "      <th>2</th>\n",
       "      <td>3</td>\n",
       "      <td>00012620-313A-4502-9F8D-8DAB7443215B</td>\n",
       "      <td>iPhone14,5</td>\n",
       "      <td>Apple</td>\n",
       "    </tr>\n",
       "    <tr>\n",
       "      <th>3</th>\n",
       "      <td>4</td>\n",
       "      <td>000137bc-80de-4bb5-b61d-df7f217a4501</td>\n",
       "      <td>SM-F711N</td>\n",
       "      <td>samsung</td>\n",
       "    </tr>\n",
       "    <tr>\n",
       "      <th>4</th>\n",
       "      <td>5</td>\n",
       "      <td>000227D6-B782-4367-91C4-486B76DF9E37</td>\n",
       "      <td>iPhone12,3</td>\n",
       "      <td>Apple</td>\n",
       "    </tr>\n",
       "  </tbody>\n",
       "</table>\n",
       "</div>"
      ],
      "text/plain": [
       "   id                             device_id device_model device_vendor\n",
       "0   1  000007C9-E103-4EB5-9777-A9084D4952DF   iPhone14,7         Apple\n",
       "1   2  00002245-458F-4CDD-8533-B448CD43DBD2   iPhone14,7         Apple\n",
       "2   3  00012620-313A-4502-9F8D-8DAB7443215B   iPhone14,5         Apple\n",
       "3   4  000137bc-80de-4bb5-b61d-df7f217a4501     SM-F711N       samsung\n",
       "4   5  000227D6-B782-4367-91C4-486B76DF9E37   iPhone12,3         Apple"
      ]
     },
     "execution_count": 10,
     "metadata": {},
     "output_type": "execute_result"
    }
   ],
   "source": [
    "device_properties_df.head()"
   ]
  },
  {
   "cell_type": "code",
   "execution_count": 11,
   "id": "8743b62f",
   "metadata": {},
   "outputs": [
    {
     "name": "stdout",
     "output_type": "stream",
     "text": [
      "<class 'pandas.core.frame.DataFrame'>\n",
      "RangeIndex: 252380 entries, 0 to 252379\n",
      "Data columns (total 4 columns):\n",
      " #   Column         Non-Null Count   Dtype \n",
      "---  ------         --------------   ----- \n",
      " 0   id             252380 non-null  int64 \n",
      " 1   device_id      252380 non-null  object\n",
      " 2   device_model   252380 non-null  object\n",
      " 3   device_vendor  252380 non-null  object\n",
      "dtypes: int64(1), object(3)\n",
      "memory usage: 7.7+ MB\n"
     ]
    }
   ],
   "source": [
    "device_properties_df.info()"
   ]
  },
  {
   "cell_type": "code",
   "execution_count": 12,
   "id": "4a4f616e",
   "metadata": {},
   "outputs": [
    {
     "data": {
      "text/plain": [
       "id               0\n",
       "device_id        0\n",
       "device_model     0\n",
       "device_vendor    0\n",
       "dtype: int64"
      ]
     },
     "execution_count": 12,
     "metadata": {},
     "output_type": "execute_result"
    }
   ],
   "source": [
    "# 결측치 확인\n",
    "device_properties_df.isnull().sum()"
   ]
  },
  {
   "cell_type": "code",
   "execution_count": 13,
   "id": "b4bcaa53",
   "metadata": {},
   "outputs": [
    {
     "data": {
      "text/html": [
       "<div>\n",
       "<style scoped>\n",
       "    .dataframe tbody tr th:only-of-type {\n",
       "        vertical-align: middle;\n",
       "    }\n",
       "\n",
       "    .dataframe tbody tr th {\n",
       "        vertical-align: top;\n",
       "    }\n",
       "\n",
       "    .dataframe thead th {\n",
       "        text-align: right;\n",
       "    }\n",
       "</style>\n",
       "<table border=\"1\" class=\"dataframe\">\n",
       "  <thead>\n",
       "    <tr style=\"text-align: right;\">\n",
       "      <th></th>\n",
       "      <th>id</th>\n",
       "      <th>device_id</th>\n",
       "      <th>device_model</th>\n",
       "      <th>device_vendor</th>\n",
       "    </tr>\n",
       "  </thead>\n",
       "  <tbody>\n",
       "  </tbody>\n",
       "</table>\n",
       "</div>"
      ],
      "text/plain": [
       "Empty DataFrame\n",
       "Columns: [id, device_id, device_model, device_vendor]\n",
       "Index: []"
      ]
     },
     "execution_count": 13,
     "metadata": {},
     "output_type": "execute_result"
    }
   ],
   "source": [
    "# 데이터 중복 확인\n",
    "device_properties_df[device_properties_df.duplicated()]"
   ]
  },
  {
   "cell_type": "markdown",
   "id": "f24ade47",
   "metadata": {},
   "source": [
    "## hackle_events"
   ]
  },
  {
   "cell_type": "code",
   "execution_count": 14,
   "id": "d9e1b650",
   "metadata": {},
   "outputs": [],
   "source": [
    "# csv 파일 불러오기\n",
    "hackle_events_path = r'C:\\Users\\USER\\Documents\\codeit_study\\codeit_study\\HYPE 프로젝트\\hackle_events.csv'\n",
    "hackle_events_df = pd.read_csv(hackle_events_path)"
   ]
  },
  {
   "cell_type": "code",
   "execution_count": 15,
   "id": "3586b607",
   "metadata": {},
   "outputs": [
    {
     "data": {
      "text/html": [
       "<div>\n",
       "<style scoped>\n",
       "    .dataframe tbody tr th:only-of-type {\n",
       "        vertical-align: middle;\n",
       "    }\n",
       "\n",
       "    .dataframe tbody tr th {\n",
       "        vertical-align: top;\n",
       "    }\n",
       "\n",
       "    .dataframe thead th {\n",
       "        text-align: right;\n",
       "    }\n",
       "</style>\n",
       "<table border=\"1\" class=\"dataframe\">\n",
       "  <thead>\n",
       "    <tr style=\"text-align: right;\">\n",
       "      <th></th>\n",
       "      <th>event_id</th>\n",
       "      <th>event_datetime</th>\n",
       "      <th>event_key</th>\n",
       "      <th>session_id</th>\n",
       "      <th>id</th>\n",
       "      <th>item_name</th>\n",
       "      <th>page_name</th>\n",
       "      <th>friend_count</th>\n",
       "      <th>votes_count</th>\n",
       "      <th>heart_balance</th>\n",
       "      <th>question_id</th>\n",
       "    </tr>\n",
       "  </thead>\n",
       "  <tbody>\n",
       "    <tr>\n",
       "      <th>0</th>\n",
       "      <td>00000533-3f1c-4b3b-81f1-0c8f35754b4e</td>\n",
       "      <td>2023-07-18 19:40:17</td>\n",
       "      <td>$session_start</td>\n",
       "      <td>4OzYh3seq3VKytpSn5pvQkZNQii1</td>\n",
       "      <td>00000533-3f1c-4b3b-81f1-0c8f35754b4e</td>\n",
       "      <td>NaN</td>\n",
       "      <td>NaN</td>\n",
       "      <td>NaN</td>\n",
       "      <td>NaN</td>\n",
       "      <td>NaN</td>\n",
       "      <td>NaN</td>\n",
       "    </tr>\n",
       "    <tr>\n",
       "      <th>1</th>\n",
       "      <td>00000716-27e9-4e72-a602-d0ce61784b06</td>\n",
       "      <td>2023-07-18 21:07:24</td>\n",
       "      <td>click_question_open</td>\n",
       "      <td>8QXy31PQxbW9qLzq0Y1dhR8Ypm52</td>\n",
       "      <td>00000716-27e9-4e72-a602-d0ce61784b06</td>\n",
       "      <td>NaN</td>\n",
       "      <td>NaN</td>\n",
       "      <td>64.0</td>\n",
       "      <td>436.0</td>\n",
       "      <td>4830.0</td>\n",
       "      <td>NaN</td>\n",
       "    </tr>\n",
       "    <tr>\n",
       "      <th>2</th>\n",
       "      <td>000007c8-68ce-40e6-9b1e-f0e34e8ff9cc</td>\n",
       "      <td>2023-08-06 20:18:03</td>\n",
       "      <td>click_bottom_navigation_profile</td>\n",
       "      <td>6bcea65d-9f40-46fc-888c-700fe707483f</td>\n",
       "      <td>000007c8-68ce-40e6-9b1e-f0e34e8ff9cc</td>\n",
       "      <td>NaN</td>\n",
       "      <td>NaN</td>\n",
       "      <td>26.0</td>\n",
       "      <td>174.0</td>\n",
       "      <td>4729.0</td>\n",
       "      <td>NaN</td>\n",
       "    </tr>\n",
       "    <tr>\n",
       "      <th>3</th>\n",
       "      <td>00000981-5e2a-4111-993e-4f1891ad9a53</td>\n",
       "      <td>2023-08-05 01:46:10</td>\n",
       "      <td>view_shop</td>\n",
       "      <td>XVYNT6zfhFWqIg9omwg2AHDjTLx2</td>\n",
       "      <td>00000981-5e2a-4111-993e-4f1891ad9a53</td>\n",
       "      <td>NaN</td>\n",
       "      <td>NaN</td>\n",
       "      <td>61.0</td>\n",
       "      <td>44.0</td>\n",
       "      <td>142.0</td>\n",
       "      <td>NaN</td>\n",
       "    </tr>\n",
       "    <tr>\n",
       "      <th>4</th>\n",
       "      <td>00000a7a-ba72-4332-b4a9-7910670aaeb2</td>\n",
       "      <td>2023-07-24 15:03:37</td>\n",
       "      <td>click_bottom_navigation_lab</td>\n",
       "      <td>XFB2SPiGfjbVhvJ3Q3DBsaT3m2B3</td>\n",
       "      <td>00000a7a-ba72-4332-b4a9-7910670aaeb2</td>\n",
       "      <td>NaN</td>\n",
       "      <td>NaN</td>\n",
       "      <td>119.0</td>\n",
       "      <td>545.0</td>\n",
       "      <td>3287.0</td>\n",
       "      <td>NaN</td>\n",
       "    </tr>\n",
       "  </tbody>\n",
       "</table>\n",
       "</div>"
      ],
      "text/plain": [
       "                               event_id       event_datetime  \\\n",
       "0  00000533-3f1c-4b3b-81f1-0c8f35754b4e  2023-07-18 19:40:17   \n",
       "1  00000716-27e9-4e72-a602-d0ce61784b06  2023-07-18 21:07:24   \n",
       "2  000007c8-68ce-40e6-9b1e-f0e34e8ff9cc  2023-08-06 20:18:03   \n",
       "3  00000981-5e2a-4111-993e-4f1891ad9a53  2023-08-05 01:46:10   \n",
       "4  00000a7a-ba72-4332-b4a9-7910670aaeb2  2023-07-24 15:03:37   \n",
       "\n",
       "                         event_key                            session_id  \\\n",
       "0                   $session_start          4OzYh3seq3VKytpSn5pvQkZNQii1   \n",
       "1              click_question_open          8QXy31PQxbW9qLzq0Y1dhR8Ypm52   \n",
       "2  click_bottom_navigation_profile  6bcea65d-9f40-46fc-888c-700fe707483f   \n",
       "3                        view_shop          XVYNT6zfhFWqIg9omwg2AHDjTLx2   \n",
       "4      click_bottom_navigation_lab          XFB2SPiGfjbVhvJ3Q3DBsaT3m2B3   \n",
       "\n",
       "                                     id item_name page_name  friend_count  \\\n",
       "0  00000533-3f1c-4b3b-81f1-0c8f35754b4e       NaN       NaN           NaN   \n",
       "1  00000716-27e9-4e72-a602-d0ce61784b06       NaN       NaN          64.0   \n",
       "2  000007c8-68ce-40e6-9b1e-f0e34e8ff9cc       NaN       NaN          26.0   \n",
       "3  00000981-5e2a-4111-993e-4f1891ad9a53       NaN       NaN          61.0   \n",
       "4  00000a7a-ba72-4332-b4a9-7910670aaeb2       NaN       NaN         119.0   \n",
       "\n",
       "   votes_count  heart_balance  question_id  \n",
       "0          NaN            NaN          NaN  \n",
       "1        436.0         4830.0          NaN  \n",
       "2        174.0         4729.0          NaN  \n",
       "3         44.0          142.0          NaN  \n",
       "4        545.0         3287.0          NaN  "
      ]
     },
     "execution_count": 15,
     "metadata": {},
     "output_type": "execute_result"
    }
   ],
   "source": [
    "hackle_events_df.head()"
   ]
  },
  {
   "cell_type": "code",
   "execution_count": 16,
   "id": "084923b4",
   "metadata": {},
   "outputs": [
    {
     "name": "stdout",
     "output_type": "stream",
     "text": [
      "<class 'pandas.core.frame.DataFrame'>\n",
      "RangeIndex: 11441319 entries, 0 to 11441318\n",
      "Data columns (total 11 columns):\n",
      " #   Column          Dtype  \n",
      "---  ------          -----  \n",
      " 0   event_id        object \n",
      " 1   event_datetime  object \n",
      " 2   event_key       object \n",
      " 3   session_id      object \n",
      " 4   id              object \n",
      " 5   item_name       object \n",
      " 6   page_name       object \n",
      " 7   friend_count    float64\n",
      " 8   votes_count     float64\n",
      " 9   heart_balance   float64\n",
      " 10  question_id     float64\n",
      "dtypes: float64(4), object(7)\n",
      "memory usage: 960.2+ MB\n"
     ]
    }
   ],
   "source": [
    "hackle_events_df.info()"
   ]
  },
  {
   "cell_type": "code",
   "execution_count": 17,
   "id": "42fffb0a",
   "metadata": {},
   "outputs": [
    {
     "data": {
      "text/plain": [
       "event_id                 0\n",
       "event_datetime           0\n",
       "event_key                0\n",
       "session_id               0\n",
       "id                       0\n",
       "item_name         11428280\n",
       "page_name         10652540\n",
       "friend_count        752556\n",
       "votes_count         754554\n",
       "heart_balance       728643\n",
       "question_id       10991835\n",
       "dtype: int64"
      ]
     },
     "execution_count": 17,
     "metadata": {},
     "output_type": "execute_result"
    }
   ],
   "source": [
    "# 결측치 확인\n",
    "hackle_events_df.isnull().sum()"
   ]
  },
  {
   "cell_type": "code",
   "execution_count": 18,
   "id": "98605dcd",
   "metadata": {},
   "outputs": [
    {
     "data": {
      "text/html": [
       "<div>\n",
       "<style scoped>\n",
       "    .dataframe tbody tr th:only-of-type {\n",
       "        vertical-align: middle;\n",
       "    }\n",
       "\n",
       "    .dataframe tbody tr th {\n",
       "        vertical-align: top;\n",
       "    }\n",
       "\n",
       "    .dataframe thead th {\n",
       "        text-align: right;\n",
       "    }\n",
       "</style>\n",
       "<table border=\"1\" class=\"dataframe\">\n",
       "  <thead>\n",
       "    <tr style=\"text-align: right;\">\n",
       "      <th></th>\n",
       "      <th>event_id</th>\n",
       "      <th>event_datetime</th>\n",
       "      <th>event_key</th>\n",
       "      <th>session_id</th>\n",
       "      <th>id</th>\n",
       "      <th>item_name</th>\n",
       "      <th>page_name</th>\n",
       "      <th>friend_count</th>\n",
       "      <th>votes_count</th>\n",
       "      <th>heart_balance</th>\n",
       "      <th>question_id</th>\n",
       "    </tr>\n",
       "  </thead>\n",
       "  <tbody>\n",
       "  </tbody>\n",
       "</table>\n",
       "</div>"
      ],
      "text/plain": [
       "Empty DataFrame\n",
       "Columns: [event_id, event_datetime, event_key, session_id, id, item_name, page_name, friend_count, votes_count, heart_balance, question_id]\n",
       "Index: []"
      ]
     },
     "execution_count": 18,
     "metadata": {},
     "output_type": "execute_result"
    }
   ],
   "source": [
    "# 데이터 중복 확인\n",
    "# 중복 없음\n",
    "hackle_events_df[hackle_events_df.duplicated()]"
   ]
  },
  {
   "cell_type": "code",
   "execution_count": 19,
   "id": "a2ff3173",
   "metadata": {},
   "outputs": [
    {
     "name": "stdout",
     "output_type": "stream",
     "text": [
      "<class 'pandas.core.frame.DataFrame'>\n",
      "RangeIndex: 11441319 entries, 0 to 11441318\n",
      "Data columns (total 11 columns):\n",
      " #   Column          Dtype         \n",
      "---  ------          -----         \n",
      " 0   event_id        object        \n",
      " 1   event_datetime  datetime64[ns]\n",
      " 2   event_key       object        \n",
      " 3   session_id      object        \n",
      " 4   id              object        \n",
      " 5   item_name       object        \n",
      " 6   page_name       object        \n",
      " 7   friend_count    float64       \n",
      " 8   votes_count     float64       \n",
      " 9   heart_balance   float64       \n",
      " 10  question_id     float64       \n",
      "dtypes: datetime64[ns](1), float64(4), object(6)\n",
      "memory usage: 960.2+ MB\n"
     ]
    }
   ],
   "source": [
    "# event_datetime 컬럼을 datetime으로 변환\n",
    "hackle_events_df['event_datetime'] = pd.to_datetime(hackle_events_df['event_datetime'], errors='coerce')\n",
    "hackle_events_df.info()"
   ]
  },
  {
   "cell_type": "markdown",
   "id": "3e25f8bc",
   "metadata": {},
   "source": [
    "## user_properties_df"
   ]
  },
  {
   "cell_type": "code",
   "execution_count": 66,
   "id": "5f5e7bd4",
   "metadata": {},
   "outputs": [
    {
     "name": "stderr",
     "output_type": "stream",
     "text": [
      "C:\\Users\\USER\\AppData\\Local\\Temp\\ipykernel_15612\\2515436470.py:4: DtypeWarning: Columns (0) have mixed types. Specify dtype option on import or set low_memory=False.\n",
      "  user_properties_df = pd.read_csv(user_properties_path, header=None, names=user_properties_column_names)\n"
     ]
    }
   ],
   "source": [
    "# csv 파일 불러오기\n",
    "user_properties_path = r'C:\\Users\\USER\\Documents\\codeit_study\\codeit_study\\HYPE 프로젝트\\user_properties.csv'\n",
    "user_properties_column_names = ['user_id', 'class', 'gender', 'grade', 'school_id']\n",
    "user_properties_df = pd.read_csv(user_properties_path, header=None, names=user_properties_column_names)"
   ]
  },
  {
   "cell_type": "code",
   "execution_count": 67,
   "id": "115739c1",
   "metadata": {},
   "outputs": [
    {
     "data": {
      "text/html": [
       "<div>\n",
       "<style scoped>\n",
       "    .dataframe tbody tr th:only-of-type {\n",
       "        vertical-align: middle;\n",
       "    }\n",
       "\n",
       "    .dataframe tbody tr th {\n",
       "        vertical-align: top;\n",
       "    }\n",
       "\n",
       "    .dataframe thead th {\n",
       "        text-align: right;\n",
       "    }\n",
       "</style>\n",
       "<table border=\"1\" class=\"dataframe\">\n",
       "  <thead>\n",
       "    <tr style=\"text-align: right;\">\n",
       "      <th></th>\n",
       "      <th>user_id</th>\n",
       "      <th>class</th>\n",
       "      <th>gender</th>\n",
       "      <th>grade</th>\n",
       "      <th>school_id</th>\n",
       "    </tr>\n",
       "  </thead>\n",
       "  <tbody>\n",
       "    <tr>\n",
       "      <th>0</th>\n",
       "      <td>1000000</td>\n",
       "      <td>1</td>\n",
       "      <td>M</td>\n",
       "      <td>1</td>\n",
       "      <td>1885</td>\n",
       "    </tr>\n",
       "    <tr>\n",
       "      <th>1</th>\n",
       "      <td>1000009</td>\n",
       "      <td>10</td>\n",
       "      <td>F</td>\n",
       "      <td>2</td>\n",
       "      <td>3869</td>\n",
       "    </tr>\n",
       "    <tr>\n",
       "      <th>2</th>\n",
       "      <td>1000012</td>\n",
       "      <td>10</td>\n",
       "      <td>F</td>\n",
       "      <td>1</td>\n",
       "      <td>5091</td>\n",
       "    </tr>\n",
       "    <tr>\n",
       "      <th>3</th>\n",
       "      <td>1000013</td>\n",
       "      <td>8</td>\n",
       "      <td>F</td>\n",
       "      <td>2</td>\n",
       "      <td>1743</td>\n",
       "    </tr>\n",
       "    <tr>\n",
       "      <th>4</th>\n",
       "      <td>1000015</td>\n",
       "      <td>2</td>\n",
       "      <td>F</td>\n",
       "      <td>3</td>\n",
       "      <td>5078</td>\n",
       "    </tr>\n",
       "  </tbody>\n",
       "</table>\n",
       "</div>"
      ],
      "text/plain": [
       "   user_id  class gender  grade  school_id\n",
       "0  1000000      1      M      1       1885\n",
       "1  1000009     10      F      2       3869\n",
       "2  1000012     10      F      1       5091\n",
       "3  1000013      8      F      2       1743\n",
       "4  1000015      2      F      3       5078"
      ]
     },
     "execution_count": 67,
     "metadata": {},
     "output_type": "execute_result"
    }
   ],
   "source": [
    "user_properties_df.head()"
   ]
  },
  {
   "cell_type": "code",
   "execution_count": 68,
   "id": "220d6d0d",
   "metadata": {},
   "outputs": [
    {
     "name": "stdout",
     "output_type": "stream",
     "text": [
      "<class 'pandas.core.frame.DataFrame'>\n",
      "RangeIndex: 230819 entries, 0 to 230818\n",
      "Data columns (total 5 columns):\n",
      " #   Column     Non-Null Count   Dtype \n",
      "---  ------     --------------   ----- \n",
      " 0   user_id    230819 non-null  object\n",
      " 1   class      230819 non-null  int64 \n",
      " 2   gender     230819 non-null  object\n",
      " 3   grade      230819 non-null  int64 \n",
      " 4   school_id  230819 non-null  int64 \n",
      "dtypes: int64(3), object(2)\n",
      "memory usage: 8.8+ MB\n"
     ]
    }
   ],
   "source": [
    "user_properties_df.info()"
   ]
  },
  {
   "cell_type": "code",
   "execution_count": 69,
   "id": "bd58cee8",
   "metadata": {},
   "outputs": [
    {
     "data": {
      "text/plain": [
       "user_id      0\n",
       "class        0\n",
       "gender       0\n",
       "grade        0\n",
       "school_id    0\n",
       "dtype: int64"
      ]
     },
     "execution_count": 69,
     "metadata": {},
     "output_type": "execute_result"
    }
   ],
   "source": [
    "# 결측치 확인\n",
    "user_properties_df.isnull().sum()"
   ]
  },
  {
   "cell_type": "code",
   "execution_count": 70,
   "id": "4a8f89db",
   "metadata": {},
   "outputs": [
    {
     "data": {
      "text/html": [
       "<div>\n",
       "<style scoped>\n",
       "    .dataframe tbody tr th:only-of-type {\n",
       "        vertical-align: middle;\n",
       "    }\n",
       "\n",
       "    .dataframe tbody tr th {\n",
       "        vertical-align: top;\n",
       "    }\n",
       "\n",
       "    .dataframe thead th {\n",
       "        text-align: right;\n",
       "    }\n",
       "</style>\n",
       "<table border=\"1\" class=\"dataframe\">\n",
       "  <thead>\n",
       "    <tr style=\"text-align: right;\">\n",
       "      <th></th>\n",
       "      <th>user_id</th>\n",
       "      <th>class</th>\n",
       "      <th>gender</th>\n",
       "      <th>grade</th>\n",
       "      <th>school_id</th>\n",
       "    </tr>\n",
       "  </thead>\n",
       "  <tbody>\n",
       "  </tbody>\n",
       "</table>\n",
       "</div>"
      ],
      "text/plain": [
       "Empty DataFrame\n",
       "Columns: [user_id, class, gender, grade, school_id]\n",
       "Index: []"
      ]
     },
     "execution_count": 70,
     "metadata": {},
     "output_type": "execute_result"
    }
   ],
   "source": [
    "# 데이터 중복 확인\n",
    "user_properties_df[user_properties_df.duplicated()]"
   ]
  },
  {
   "cell_type": "markdown",
   "id": "5327de5e",
   "metadata": {},
   "source": [
    "## 서비스 내부 데이터.csv 파일 불러오기"
   ]
  },
  {
   "cell_type": "markdown",
   "id": "3cb14c64",
   "metadata": {},
   "source": [
    "유저 이벤트 데이터와 서비스 내부 데이터 확인하기 위한 절차"
   ]
  },
  {
   "cell_type": "markdown",
   "id": "c32d7f85",
   "metadata": {},
   "source": [
    "## account_user_df"
   ]
  },
  {
   "cell_type": "code",
   "execution_count": 42,
   "id": "5209b5bd",
   "metadata": {},
   "outputs": [
    {
     "name": "stderr",
     "output_type": "stream",
     "text": [
      "C:\\Users\\USER\\AppData\\Local\\Temp\\ipykernel_15612\\2431421688.py:6: DtypeWarning: Columns (15) have mixed types. Specify dtype option on import or set low_memory=False.\n",
      "  accounts_user_df = pd.read_csv(accounts_user_path, header=None, names=user_column_names)\n"
     ]
    }
   ],
   "source": [
    "# csv 파일 불러오기\n",
    "accounts_user_path = r'C:\\Users\\USER\\Documents\\codeit_study\\codeit_study\\HYPE 프로젝트\\accounts_user.csv'\n",
    "user_column_names = ['id', 'is_superuser', 'is_staff', 'gender', 'point', 'friend_id_list', 'is_push_on',\n",
    "                 'created_at', 'block_user_id_list', 'hide_user_id_list', 'ban_status', 'report_count',\n",
    "                'alarm_count', 'pending_chat', 'pending_votes', 'group_id']\n",
    "accounts_user_df = pd.read_csv(accounts_user_path, header=None, names=user_column_names)"
   ]
  },
  {
   "cell_type": "code",
   "execution_count": 43,
   "id": "716b1311",
   "metadata": {},
   "outputs": [
    {
     "data": {
      "text/html": [
       "<div>\n",
       "<style scoped>\n",
       "    .dataframe tbody tr th:only-of-type {\n",
       "        vertical-align: middle;\n",
       "    }\n",
       "\n",
       "    .dataframe tbody tr th {\n",
       "        vertical-align: top;\n",
       "    }\n",
       "\n",
       "    .dataframe thead th {\n",
       "        text-align: right;\n",
       "    }\n",
       "</style>\n",
       "<table border=\"1\" class=\"dataframe\">\n",
       "  <thead>\n",
       "    <tr style=\"text-align: right;\">\n",
       "      <th></th>\n",
       "      <th>id</th>\n",
       "      <th>is_superuser</th>\n",
       "      <th>is_staff</th>\n",
       "      <th>gender</th>\n",
       "      <th>point</th>\n",
       "      <th>friend_id_list</th>\n",
       "      <th>is_push_on</th>\n",
       "      <th>created_at</th>\n",
       "      <th>block_user_id_list</th>\n",
       "      <th>hide_user_id_list</th>\n",
       "      <th>ban_status</th>\n",
       "      <th>report_count</th>\n",
       "      <th>alarm_count</th>\n",
       "      <th>pending_chat</th>\n",
       "      <th>pending_votes</th>\n",
       "      <th>group_id</th>\n",
       "    </tr>\n",
       "  </thead>\n",
       "  <tbody>\n",
       "    <tr>\n",
       "      <th>0</th>\n",
       "      <td>831956</td>\n",
       "      <td>1</td>\n",
       "      <td>1</td>\n",
       "      <td>\\N</td>\n",
       "      <td>600</td>\n",
       "      <td>[1292473, 913158, 1488461, 1064695, 1043565, 1...</td>\n",
       "      <td>0</td>\n",
       "      <td>2023-03-29 03:44:14.047130</td>\n",
       "      <td>[]</td>\n",
       "      <td>[]</td>\n",
       "      <td>N</td>\n",
       "      <td>0</td>\n",
       "      <td>0</td>\n",
       "      <td>0</td>\n",
       "      <td>0</td>\n",
       "      <td>\\N</td>\n",
       "    </tr>\n",
       "    <tr>\n",
       "      <th>1</th>\n",
       "      <td>831962</td>\n",
       "      <td>0</td>\n",
       "      <td>0</td>\n",
       "      <td>F</td>\n",
       "      <td>2248</td>\n",
       "      <td>[833025, 832642, 982531, 879496, 838541, 83752...</td>\n",
       "      <td>1</td>\n",
       "      <td>2023-03-29 05:18:56.162368</td>\n",
       "      <td>[]</td>\n",
       "      <td>[]</td>\n",
       "      <td>N</td>\n",
       "      <td>253</td>\n",
       "      <td>40878</td>\n",
       "      <td>5499</td>\n",
       "      <td>110</td>\n",
       "      <td>12</td>\n",
       "    </tr>\n",
       "    <tr>\n",
       "      <th>2</th>\n",
       "      <td>832151</td>\n",
       "      <td>0</td>\n",
       "      <td>0</td>\n",
       "      <td>M</td>\n",
       "      <td>1519</td>\n",
       "      <td>[838785, 982531, 882567, 879496, 838541, 83649...</td>\n",
       "      <td>0</td>\n",
       "      <td>2023-03-29 12:56:34.989468</td>\n",
       "      <td>[]</td>\n",
       "      <td>[]</td>\n",
       "      <td>N</td>\n",
       "      <td>0</td>\n",
       "      <td>37</td>\n",
       "      <td>0</td>\n",
       "      <td>47</td>\n",
       "      <td>1</td>\n",
       "    </tr>\n",
       "    <tr>\n",
       "      <th>3</th>\n",
       "      <td>832340</td>\n",
       "      <td>0</td>\n",
       "      <td>0</td>\n",
       "      <td>F</td>\n",
       "      <td>57</td>\n",
       "      <td>[841345, 982531, 838785, 963714, 882567, 83252...</td>\n",
       "      <td>1</td>\n",
       "      <td>2023-03-29 12:56:35.020790</td>\n",
       "      <td>[]</td>\n",
       "      <td>[]</td>\n",
       "      <td>N</td>\n",
       "      <td>0</td>\n",
       "      <td>19</td>\n",
       "      <td>0</td>\n",
       "      <td>21</td>\n",
       "      <td>1</td>\n",
       "    </tr>\n",
       "    <tr>\n",
       "      <th>4</th>\n",
       "      <td>832520</td>\n",
       "      <td>0</td>\n",
       "      <td>0</td>\n",
       "      <td>M</td>\n",
       "      <td>1039</td>\n",
       "      <td>[874050, 849763, 874212, 844297, 838541, 84004...</td>\n",
       "      <td>0</td>\n",
       "      <td>2023-03-29 12:56:35.049311</td>\n",
       "      <td>[]</td>\n",
       "      <td>[]</td>\n",
       "      <td>N</td>\n",
       "      <td>0</td>\n",
       "      <td>29</td>\n",
       "      <td>0</td>\n",
       "      <td>15</td>\n",
       "      <td>12</td>\n",
       "    </tr>\n",
       "  </tbody>\n",
       "</table>\n",
       "</div>"
      ],
      "text/plain": [
       "       id  is_superuser  is_staff gender  point  \\\n",
       "0  831956             1         1     \\N    600   \n",
       "1  831962             0         0      F   2248   \n",
       "2  832151             0         0      M   1519   \n",
       "3  832340             0         0      F     57   \n",
       "4  832520             0         0      M   1039   \n",
       "\n",
       "                                      friend_id_list  is_push_on  \\\n",
       "0  [1292473, 913158, 1488461, 1064695, 1043565, 1...           0   \n",
       "1  [833025, 832642, 982531, 879496, 838541, 83752...           1   \n",
       "2  [838785, 982531, 882567, 879496, 838541, 83649...           0   \n",
       "3  [841345, 982531, 838785, 963714, 882567, 83252...           1   \n",
       "4  [874050, 849763, 874212, 844297, 838541, 84004...           0   \n",
       "\n",
       "                   created_at block_user_id_list hide_user_id_list ban_status  \\\n",
       "0  2023-03-29 03:44:14.047130                 []                []          N   \n",
       "1  2023-03-29 05:18:56.162368                 []                []          N   \n",
       "2  2023-03-29 12:56:34.989468                 []                []          N   \n",
       "3  2023-03-29 12:56:35.020790                 []                []          N   \n",
       "4  2023-03-29 12:56:35.049311                 []                []          N   \n",
       "\n",
       "   report_count  alarm_count  pending_chat  pending_votes group_id  \n",
       "0             0            0             0              0       \\N  \n",
       "1           253        40878          5499            110       12  \n",
       "2             0           37             0             47        1  \n",
       "3             0           19             0             21        1  \n",
       "4             0           29             0             15       12  "
      ]
     },
     "execution_count": 43,
     "metadata": {},
     "output_type": "execute_result"
    }
   ],
   "source": [
    "accounts_user_df.head()"
   ]
  },
  {
   "cell_type": "code",
   "execution_count": 44,
   "id": "e965fc94",
   "metadata": {},
   "outputs": [
    {
     "name": "stdout",
     "output_type": "stream",
     "text": [
      "<class 'pandas.core.frame.DataFrame'>\n",
      "RangeIndex: 677085 entries, 0 to 677084\n",
      "Data columns (total 16 columns):\n",
      " #   Column              Non-Null Count   Dtype \n",
      "---  ------              --------------   ----- \n",
      " 0   id                  677085 non-null  int64 \n",
      " 1   is_superuser        677085 non-null  int64 \n",
      " 2   is_staff            677085 non-null  int64 \n",
      " 3   gender              677085 non-null  object\n",
      " 4   point               677085 non-null  int64 \n",
      " 5   friend_id_list      677085 non-null  object\n",
      " 6   is_push_on          677085 non-null  int64 \n",
      " 7   created_at          677085 non-null  object\n",
      " 8   block_user_id_list  677085 non-null  object\n",
      " 9   hide_user_id_list   677085 non-null  object\n",
      " 10  ban_status          677085 non-null  object\n",
      " 11  report_count        677085 non-null  int64 \n",
      " 12  alarm_count         677085 non-null  int64 \n",
      " 13  pending_chat        677085 non-null  int64 \n",
      " 14  pending_votes       677085 non-null  int64 \n",
      " 15  group_id            677085 non-null  object\n",
      "dtypes: int64(9), object(7)\n",
      "memory usage: 82.7+ MB\n"
     ]
    }
   ],
   "source": [
    "accounts_user_df.info()"
   ]
  },
  {
   "cell_type": "code",
   "execution_count": 45,
   "id": "32fc8fa8",
   "metadata": {},
   "outputs": [
    {
     "data": {
      "text/html": [
       "<div>\n",
       "<style scoped>\n",
       "    .dataframe tbody tr th:only-of-type {\n",
       "        vertical-align: middle;\n",
       "    }\n",
       "\n",
       "    .dataframe tbody tr th {\n",
       "        vertical-align: top;\n",
       "    }\n",
       "\n",
       "    .dataframe thead th {\n",
       "        text-align: right;\n",
       "    }\n",
       "</style>\n",
       "<table border=\"1\" class=\"dataframe\">\n",
       "  <thead>\n",
       "    <tr style=\"text-align: right;\">\n",
       "      <th></th>\n",
       "      <th>id</th>\n",
       "      <th>is_superuser</th>\n",
       "      <th>is_staff</th>\n",
       "      <th>gender</th>\n",
       "      <th>point</th>\n",
       "      <th>friend_id_list</th>\n",
       "      <th>is_push_on</th>\n",
       "      <th>created_at</th>\n",
       "      <th>block_user_id_list</th>\n",
       "      <th>hide_user_id_list</th>\n",
       "      <th>ban_status</th>\n",
       "      <th>report_count</th>\n",
       "      <th>alarm_count</th>\n",
       "      <th>pending_chat</th>\n",
       "      <th>pending_votes</th>\n",
       "      <th>group_id</th>\n",
       "    </tr>\n",
       "  </thead>\n",
       "  <tbody>\n",
       "  </tbody>\n",
       "</table>\n",
       "</div>"
      ],
      "text/plain": [
       "Empty DataFrame\n",
       "Columns: [id, is_superuser, is_staff, gender, point, friend_id_list, is_push_on, created_at, block_user_id_list, hide_user_id_list, ban_status, report_count, alarm_count, pending_chat, pending_votes, group_id]\n",
       "Index: []"
      ]
     },
     "execution_count": 45,
     "metadata": {},
     "output_type": "execute_result"
    }
   ],
   "source": [
    "# 데이터 중복 확인\n",
    "# 중복된 데이터 X\n",
    "accounts_user_df[accounts_user_df.duplicated()]"
   ]
  },
  {
   "cell_type": "code",
   "execution_count": 46,
   "id": "c2414e83",
   "metadata": {},
   "outputs": [
    {
     "data": {
      "text/plain": [
       "id                    0\n",
       "is_superuser          0\n",
       "is_staff              0\n",
       "gender                0\n",
       "point                 0\n",
       "friend_id_list        0\n",
       "is_push_on            0\n",
       "created_at            0\n",
       "block_user_id_list    0\n",
       "hide_user_id_list     0\n",
       "ban_status            0\n",
       "report_count          0\n",
       "alarm_count           0\n",
       "pending_chat          0\n",
       "pending_votes         0\n",
       "group_id              0\n",
       "dtype: int64"
      ]
     },
     "execution_count": 46,
     "metadata": {},
     "output_type": "execute_result"
    }
   ],
   "source": [
    "# 결측치 확인\n",
    "# 결측치 없음\n",
    "accounts_user_df.isnull().sum()"
   ]
  },
  {
   "cell_type": "code",
   "execution_count": 47,
   "id": "68b60bf3",
   "metadata": {},
   "outputs": [
    {
     "name": "stdout",
     "output_type": "stream",
     "text": [
      "<class 'pandas.core.frame.DataFrame'>\n",
      "RangeIndex: 677085 entries, 0 to 677084\n",
      "Data columns (total 16 columns):\n",
      " #   Column              Non-Null Count   Dtype         \n",
      "---  ------              --------------   -----         \n",
      " 0   id                  677085 non-null  int64         \n",
      " 1   is_superuser        677085 non-null  int64         \n",
      " 2   is_staff            677085 non-null  int64         \n",
      " 3   gender              677085 non-null  object        \n",
      " 4   point               677085 non-null  int64         \n",
      " 5   friend_id_list      677085 non-null  object        \n",
      " 6   is_push_on          677085 non-null  int64         \n",
      " 7   created_at          677085 non-null  datetime64[ns]\n",
      " 8   block_user_id_list  677085 non-null  object        \n",
      " 9   hide_user_id_list   677085 non-null  object        \n",
      " 10  ban_status          677085 non-null  object        \n",
      " 11  report_count        677085 non-null  int64         \n",
      " 12  alarm_count         677085 non-null  int64         \n",
      " 13  pending_chat        677085 non-null  int64         \n",
      " 14  pending_votes       677085 non-null  int64         \n",
      " 15  group_id            677085 non-null  object        \n",
      "dtypes: datetime64[ns](1), int64(9), object(6)\n",
      "memory usage: 82.7+ MB\n"
     ]
    }
   ],
   "source": [
    "# created_at 컬럼의 dtype을 datetime으로 변환\n",
    "accounts_user_df['created_at'] = pd.to_datetime(accounts_user_df['created_at'], errors='coerce')\n",
    "accounts_user_df.info()"
   ]
  },
  {
   "cell_type": "markdown",
   "id": "03e5210e",
   "metadata": {},
   "source": [
    "# 유저 이벤트 데이터 파일 전처리"
   ]
  },
  {
   "cell_type": "markdown",
   "id": "2c2c0fee",
   "metadata": {},
   "source": [
    "### event_id"
   ]
  },
  {
   "cell_type": "code",
   "execution_count": 33,
   "id": "8263c724",
   "metadata": {},
   "outputs": [
    {
     "data": {
      "text/html": [
       "<div>\n",
       "<style scoped>\n",
       "    .dataframe tbody tr th:only-of-type {\n",
       "        vertical-align: middle;\n",
       "    }\n",
       "\n",
       "    .dataframe tbody tr th {\n",
       "        vertical-align: top;\n",
       "    }\n",
       "\n",
       "    .dataframe thead th {\n",
       "        text-align: right;\n",
       "    }\n",
       "</style>\n",
       "<table border=\"1\" class=\"dataframe\">\n",
       "  <thead>\n",
       "    <tr style=\"text-align: right;\">\n",
       "      <th></th>\n",
       "      <th>event_id</th>\n",
       "      <th>event_datetime</th>\n",
       "      <th>event_key</th>\n",
       "      <th>session_id</th>\n",
       "      <th>id</th>\n",
       "      <th>item_name</th>\n",
       "      <th>page_name</th>\n",
       "      <th>friend_count</th>\n",
       "      <th>votes_count</th>\n",
       "      <th>heart_balance</th>\n",
       "      <th>question_id</th>\n",
       "    </tr>\n",
       "  </thead>\n",
       "  <tbody>\n",
       "    <tr>\n",
       "      <th>0</th>\n",
       "      <td>00000533-3f1c-4b3b-81f1-0c8f35754b4e</td>\n",
       "      <td>2023-07-18 19:40:17</td>\n",
       "      <td>$session_start</td>\n",
       "      <td>4OzYh3seq3VKytpSn5pvQkZNQii1</td>\n",
       "      <td>00000533-3f1c-4b3b-81f1-0c8f35754b4e</td>\n",
       "      <td>NaN</td>\n",
       "      <td>NaN</td>\n",
       "      <td>NaN</td>\n",
       "      <td>NaN</td>\n",
       "      <td>NaN</td>\n",
       "      <td>NaN</td>\n",
       "    </tr>\n",
       "    <tr>\n",
       "      <th>1</th>\n",
       "      <td>00000716-27e9-4e72-a602-d0ce61784b06</td>\n",
       "      <td>2023-07-18 21:07:24</td>\n",
       "      <td>click_question_open</td>\n",
       "      <td>8QXy31PQxbW9qLzq0Y1dhR8Ypm52</td>\n",
       "      <td>00000716-27e9-4e72-a602-d0ce61784b06</td>\n",
       "      <td>NaN</td>\n",
       "      <td>NaN</td>\n",
       "      <td>64.0</td>\n",
       "      <td>436.0</td>\n",
       "      <td>4830.0</td>\n",
       "      <td>NaN</td>\n",
       "    </tr>\n",
       "    <tr>\n",
       "      <th>2</th>\n",
       "      <td>000007c8-68ce-40e6-9b1e-f0e34e8ff9cc</td>\n",
       "      <td>2023-08-06 20:18:03</td>\n",
       "      <td>click_bottom_navigation_profile</td>\n",
       "      <td>6bcea65d-9f40-46fc-888c-700fe707483f</td>\n",
       "      <td>000007c8-68ce-40e6-9b1e-f0e34e8ff9cc</td>\n",
       "      <td>NaN</td>\n",
       "      <td>NaN</td>\n",
       "      <td>26.0</td>\n",
       "      <td>174.0</td>\n",
       "      <td>4729.0</td>\n",
       "      <td>NaN</td>\n",
       "    </tr>\n",
       "    <tr>\n",
       "      <th>3</th>\n",
       "      <td>00000981-5e2a-4111-993e-4f1891ad9a53</td>\n",
       "      <td>2023-08-05 01:46:10</td>\n",
       "      <td>view_shop</td>\n",
       "      <td>XVYNT6zfhFWqIg9omwg2AHDjTLx2</td>\n",
       "      <td>00000981-5e2a-4111-993e-4f1891ad9a53</td>\n",
       "      <td>NaN</td>\n",
       "      <td>NaN</td>\n",
       "      <td>61.0</td>\n",
       "      <td>44.0</td>\n",
       "      <td>142.0</td>\n",
       "      <td>NaN</td>\n",
       "    </tr>\n",
       "    <tr>\n",
       "      <th>4</th>\n",
       "      <td>00000a7a-ba72-4332-b4a9-7910670aaeb2</td>\n",
       "      <td>2023-07-24 15:03:37</td>\n",
       "      <td>click_bottom_navigation_lab</td>\n",
       "      <td>XFB2SPiGfjbVhvJ3Q3DBsaT3m2B3</td>\n",
       "      <td>00000a7a-ba72-4332-b4a9-7910670aaeb2</td>\n",
       "      <td>NaN</td>\n",
       "      <td>NaN</td>\n",
       "      <td>119.0</td>\n",
       "      <td>545.0</td>\n",
       "      <td>3287.0</td>\n",
       "      <td>NaN</td>\n",
       "    </tr>\n",
       "  </tbody>\n",
       "</table>\n",
       "</div>"
      ],
      "text/plain": [
       "                               event_id      event_datetime  \\\n",
       "0  00000533-3f1c-4b3b-81f1-0c8f35754b4e 2023-07-18 19:40:17   \n",
       "1  00000716-27e9-4e72-a602-d0ce61784b06 2023-07-18 21:07:24   \n",
       "2  000007c8-68ce-40e6-9b1e-f0e34e8ff9cc 2023-08-06 20:18:03   \n",
       "3  00000981-5e2a-4111-993e-4f1891ad9a53 2023-08-05 01:46:10   \n",
       "4  00000a7a-ba72-4332-b4a9-7910670aaeb2 2023-07-24 15:03:37   \n",
       "\n",
       "                         event_key                            session_id  \\\n",
       "0                   $session_start          4OzYh3seq3VKytpSn5pvQkZNQii1   \n",
       "1              click_question_open          8QXy31PQxbW9qLzq0Y1dhR8Ypm52   \n",
       "2  click_bottom_navigation_profile  6bcea65d-9f40-46fc-888c-700fe707483f   \n",
       "3                        view_shop          XVYNT6zfhFWqIg9omwg2AHDjTLx2   \n",
       "4      click_bottom_navigation_lab          XFB2SPiGfjbVhvJ3Q3DBsaT3m2B3   \n",
       "\n",
       "                                     id item_name page_name  friend_count  \\\n",
       "0  00000533-3f1c-4b3b-81f1-0c8f35754b4e       NaN       NaN           NaN   \n",
       "1  00000716-27e9-4e72-a602-d0ce61784b06       NaN       NaN          64.0   \n",
       "2  000007c8-68ce-40e6-9b1e-f0e34e8ff9cc       NaN       NaN          26.0   \n",
       "3  00000981-5e2a-4111-993e-4f1891ad9a53       NaN       NaN          61.0   \n",
       "4  00000a7a-ba72-4332-b4a9-7910670aaeb2       NaN       NaN         119.0   \n",
       "\n",
       "   votes_count  heart_balance  question_id  \n",
       "0          NaN            NaN          NaN  \n",
       "1        436.0         4830.0          NaN  \n",
       "2        174.0         4729.0          NaN  \n",
       "3         44.0          142.0          NaN  \n",
       "4        545.0         3287.0          NaN  "
      ]
     },
     "execution_count": 33,
     "metadata": {},
     "output_type": "execute_result"
    }
   ],
   "source": [
    "hackle_events_df.head()"
   ]
  },
  {
   "cell_type": "code",
   "execution_count": 34,
   "id": "92ace3f8",
   "metadata": {},
   "outputs": [
    {
     "data": {
      "text/plain": [
       "(11441319, 11)"
      ]
     },
     "execution_count": 34,
     "metadata": {},
     "output_type": "execute_result"
    }
   ],
   "source": [
    "hackle_events_df.shape"
   ]
  },
  {
   "cell_type": "code",
   "execution_count": 35,
   "id": "b01d23f3",
   "metadata": {},
   "outputs": [
    {
     "data": {
      "text/plain": [
       "True    11441319\n",
       "Name: count, dtype: int64"
      ]
     },
     "execution_count": 35,
     "metadata": {},
     "output_type": "execute_result"
    }
   ],
   "source": [
    "# hackle_events_df event_id = id 여부 확인\n",
    "(hackle_events_df['event_id'] == hackle_events_df['id']).value_counts()"
   ]
  },
  {
   "cell_type": "code",
   "execution_count": 36,
   "id": "44a03ce0",
   "metadata": {},
   "outputs": [],
   "source": [
    "# hackle_event_df['id'] 삭제\n",
    "hackle_events_df.drop(columns='id', inplace=True)"
   ]
  },
  {
   "cell_type": "code",
   "execution_count": 37,
   "id": "28c89f1d",
   "metadata": {},
   "outputs": [
    {
     "name": "stdout",
     "output_type": "stream",
     "text": [
      "<class 'pandas.core.frame.DataFrame'>\n",
      "RangeIndex: 11441319 entries, 0 to 11441318\n",
      "Data columns (total 10 columns):\n",
      " #   Column          Dtype         \n",
      "---  ------          -----         \n",
      " 0   event_id        object        \n",
      " 1   event_datetime  datetime64[ns]\n",
      " 2   event_key       object        \n",
      " 3   session_id      object        \n",
      " 4   item_name       object        \n",
      " 5   page_name       object        \n",
      " 6   friend_count    float64       \n",
      " 7   votes_count     float64       \n",
      " 8   heart_balance   float64       \n",
      " 9   question_id     float64       \n",
      "dtypes: datetime64[ns](1), float64(4), object(5)\n",
      "memory usage: 872.9+ MB\n"
     ]
    }
   ],
   "source": [
    "hackle_events_df.info()"
   ]
  },
  {
   "cell_type": "code",
   "execution_count": 38,
   "id": "663373a6",
   "metadata": {},
   "outputs": [
    {
     "data": {
      "text/plain": [
       "event_id                 0\n",
       "event_datetime           0\n",
       "event_key                0\n",
       "session_id               0\n",
       "item_name         11428280\n",
       "page_name         10652540\n",
       "friend_count        752556\n",
       "votes_count         754554\n",
       "heart_balance       728643\n",
       "question_id       10991835\n",
       "dtype: int64"
      ]
     },
     "execution_count": 38,
     "metadata": {},
     "output_type": "execute_result"
    }
   ],
   "source": [
    "hackle_events_df.isna().sum()"
   ]
  },
  {
   "cell_type": "markdown",
   "id": "ad154832",
   "metadata": {},
   "source": [
    "### user_id"
   ]
  },
  {
   "cell_type": "code",
   "execution_count": 39,
   "id": "27f9b07b",
   "metadata": {},
   "outputs": [
    {
     "data": {
      "text/plain": [
       "array([nan, 'LztzUUFoRxdqTSPgQrX3MAAyNkM2',\n",
       "       'qLdDlFGK9qObRuGXK20KAGbqzRZ2', ...,\n",
       "       'RX5m5NGxa5MBJYCo8mLF0eigPu43', 'HYKUXaXF5fbAftyR95G4k9afQ3o2',\n",
       "       'cpZ6XwYLTkbwDHpBkjp9bPLjVE53'], dtype=object)"
      ]
     },
     "execution_count": 39,
     "metadata": {},
     "output_type": "execute_result"
    }
   ],
   "source": [
    "# user_id가 숫자가 아닌 값 찾기\n",
    "non_numeric_user_ids = hackle_properties_df[~hackle_properties_df['user_id'].apply(lambda x: str(x).isdigit())]\n",
    "non_numeric_user_ids['user_id'].unique()"
   ]
  },
  {
   "cell_type": "code",
   "execution_count": 40,
   "id": "ccd53e8a",
   "metadata": {},
   "outputs": [
    {
     "data": {
      "text/plain": [
       "96527"
      ]
     },
     "execution_count": 40,
     "metadata": {},
     "output_type": "execute_result"
    }
   ],
   "source": [
    "non_numeric_user_ids['user_id'].nunique()"
   ]
  },
  {
   "cell_type": "code",
   "execution_count": 49,
   "id": "59bc1392",
   "metadata": {},
   "outputs": [
    {
     "data": {
      "text/plain": [
       "array([], dtype=int64)"
      ]
     },
     "execution_count": 49,
     "metadata": {},
     "output_type": "execute_result"
    }
   ],
   "source": [
    "non_numeric_user = accounts_user_df[~accounts_user_df['id'].apply(lambda x: str(x).isdigit())]\n",
    "non_numeric_user['id'].unique()"
   ]
  },
  {
   "cell_type": "markdown",
   "id": "8b174744",
   "metadata": {},
   "source": [
    "- 서비스 내부 데이터에서 id 값이 숫자가 아닌 값은 없는 것 확인\n",
    "- 유저 이벤트 데이터에서 id 값이 숫자가 아닌 데이터들은 이상치로 판단, 삭제 처리\n",
    "    - properties 테이블에서 총 525350개 중 96,527개 값 삭제"
   ]
  },
  {
   "cell_type": "code",
   "execution_count": 50,
   "id": "02676f69",
   "metadata": {},
   "outputs": [
    {
     "name": "stdout",
     "output_type": "stream",
     "text": [
      "<class 'pandas.core.frame.DataFrame'>\n",
      "Index: 334091 entries, 1 to 525349\n",
      "Data columns (total 8 columns):\n",
      " #   Column       Non-Null Count   Dtype \n",
      "---  ------       --------------   ----- \n",
      " 0   id           334091 non-null  int64 \n",
      " 1   session_id   334091 non-null  object\n",
      " 2   user_id      334091 non-null  object\n",
      " 3   language     334091 non-null  object\n",
      " 4   osname       334091 non-null  object\n",
      " 5   osversion    334091 non-null  object\n",
      " 6   versionname  334091 non-null  object\n",
      " 7   device_id    334091 non-null  object\n",
      "dtypes: int64(1), object(7)\n",
      "memory usage: 22.9+ MB\n"
     ]
    }
   ],
   "source": [
    "hackle_properties_cleaning_df = hackle_properties_df[hackle_properties_df['user_id'].apply(lambda x: str(x).isdigit())]\n",
    "hackle_properties_cleaning_df.info()"
   ]
  },
  {
   "cell_type": "markdown",
   "id": "70fd8e83",
   "metadata": {},
   "source": [
    "### session_id"
   ]
  },
  {
   "cell_type": "code",
   "execution_count": 51,
   "id": "a13ca837",
   "metadata": {},
   "outputs": [
    {
     "data": {
      "text/plain": [
       "session_id\n",
       "A40CA2FA-CEB6-4E94-857D-7C229ECC2598    8157\n",
       "cfa76079-ab4e-4ea1-a7df-38ceaa5ef011    6551\n",
       "2iO7jwc0YtW0SI8AUjCVoV5gQ1F2            6548\n",
       "b1b6f602-17ce-4636-9eff-bf0ad5578c5a    5714\n",
       "6f2a1743-5513-405c-8425-ce11efe267b2    5684\n",
       "                                        ... \n",
       "087D89E0-2FF6-47FA-AABC-3D56E702084F       2\n",
       "F9Uz4ux3wzXdy0nGqa2WtPavTxB2               2\n",
       "CD614905-D17A-47F8-8DEB-82777BA4C0B3       2\n",
       "KBguY11Nm3UIxaYW7BLDNqSMSJ03               2\n",
       "2bde4dad-4ae4-40b0-863a-691a38aa5f1d       2\n",
       "Name: count, Length: 250830, dtype: int64"
      ]
     },
     "execution_count": 51,
     "metadata": {},
     "output_type": "execute_result"
    }
   ],
   "source": [
    "hackle_events_df['session_id'].value_counts().loc[lambda x: x > 1]"
   ]
  },
  {
   "cell_type": "code",
   "execution_count": 52,
   "id": "79721b03",
   "metadata": {},
   "outputs": [
    {
     "name": "stdout",
     "output_type": "stream",
     "text": [
      "<class 'pandas.core.frame.DataFrame'>\n",
      "RangeIndex: 525350 entries, 0 to 525349\n",
      "Data columns (total 8 columns):\n",
      " #   Column       Non-Null Count   Dtype \n",
      "---  ------       --------------   ----- \n",
      " 0   id           525350 non-null  int64 \n",
      " 1   session_id   525350 non-null  object\n",
      " 2   user_id      443095 non-null  object\n",
      " 3   language     525350 non-null  object\n",
      " 4   osname       525350 non-null  object\n",
      " 5   osversion    525350 non-null  object\n",
      " 6   versionname  525350 non-null  object\n",
      " 7   device_id    525350 non-null  object\n",
      "dtypes: int64(1), object(7)\n",
      "memory usage: 32.1+ MB\n"
     ]
    }
   ],
   "source": [
    "hackle_properties_df.info()"
   ]
  },
  {
   "cell_type": "code",
   "execution_count": 53,
   "id": "d1c3932a",
   "metadata": {},
   "outputs": [
    {
     "data": {
      "text/html": [
       "<div>\n",
       "<style scoped>\n",
       "    .dataframe tbody tr th:only-of-type {\n",
       "        vertical-align: middle;\n",
       "    }\n",
       "\n",
       "    .dataframe tbody tr th {\n",
       "        vertical-align: top;\n",
       "    }\n",
       "\n",
       "    .dataframe thead th {\n",
       "        text-align: right;\n",
       "    }\n",
       "</style>\n",
       "<table border=\"1\" class=\"dataframe\">\n",
       "  <thead>\n",
       "    <tr style=\"text-align: right;\">\n",
       "      <th></th>\n",
       "      <th>id</th>\n",
       "      <th>session_id</th>\n",
       "      <th>user_id</th>\n",
       "      <th>language</th>\n",
       "      <th>osname</th>\n",
       "      <th>osversion</th>\n",
       "      <th>versionname</th>\n",
       "      <th>device_id</th>\n",
       "    </tr>\n",
       "  </thead>\n",
       "  <tbody>\n",
       "    <tr>\n",
       "      <th>0</th>\n",
       "      <td>1</td>\n",
       "      <td>4OzYh3seq3VKytpSn5pvQkZNQii1</td>\n",
       "      <td>NaN</td>\n",
       "      <td>ko-KR</td>\n",
       "      <td>iOS</td>\n",
       "      <td>16.0</td>\n",
       "      <td>2.0.0</td>\n",
       "      <td>590E7C79-CBA0-44D8-8BE3-3C9BFABBBC74</td>\n",
       "    </tr>\n",
       "    <tr>\n",
       "      <th>1</th>\n",
       "      <td>2</td>\n",
       "      <td>8QXy31PQxbW9qLzq0Y1dhR8Ypm52</td>\n",
       "      <td>1046711</td>\n",
       "      <td>ko-KR</td>\n",
       "      <td>iOS</td>\n",
       "      <td>16.5.1</td>\n",
       "      <td>2.0.3</td>\n",
       "      <td>D5417226-F71B-4A9E-A180-CD072F2AB279</td>\n",
       "    </tr>\n",
       "    <tr>\n",
       "      <th>2</th>\n",
       "      <td>3</td>\n",
       "      <td>6bcea65d-9f40-46fc-888c-700fe707483f</td>\n",
       "      <td>1545130</td>\n",
       "      <td>ko</td>\n",
       "      <td>Android</td>\n",
       "      <td>13</td>\n",
       "      <td>2.0.5</td>\n",
       "      <td>6bcea65d-9f40-46fc-888c-700fe707483f</td>\n",
       "    </tr>\n",
       "    <tr>\n",
       "      <th>3</th>\n",
       "      <td>4</td>\n",
       "      <td>XVYNT6zfhFWqIg9omwg2AHDjTLx2</td>\n",
       "      <td>1224793</td>\n",
       "      <td>ko</td>\n",
       "      <td>Android</td>\n",
       "      <td>13</td>\n",
       "      <td>2.0.5</td>\n",
       "      <td>a05c1595-3e05-434b-8684-218b528bd725</td>\n",
       "    </tr>\n",
       "    <tr>\n",
       "      <th>4</th>\n",
       "      <td>5</td>\n",
       "      <td>XFB2SPiGfjbVhvJ3Q3DBsaT3m2B3</td>\n",
       "      <td>1329450</td>\n",
       "      <td>ko-US</td>\n",
       "      <td>iOS</td>\n",
       "      <td>16.5.1</td>\n",
       "      <td>2.0.5</td>\n",
       "      <td>EAC6C0B3-7CE8-40EA-8A91-9977C0BA5EF3</td>\n",
       "    </tr>\n",
       "  </tbody>\n",
       "</table>\n",
       "</div>"
      ],
      "text/plain": [
       "   id                            session_id  user_id language   osname  \\\n",
       "0   1          4OzYh3seq3VKytpSn5pvQkZNQii1      NaN    ko-KR      iOS   \n",
       "1   2          8QXy31PQxbW9qLzq0Y1dhR8Ypm52  1046711    ko-KR      iOS   \n",
       "2   3  6bcea65d-9f40-46fc-888c-700fe707483f  1545130       ko  Android   \n",
       "3   4          XVYNT6zfhFWqIg9omwg2AHDjTLx2  1224793       ko  Android   \n",
       "4   5          XFB2SPiGfjbVhvJ3Q3DBsaT3m2B3  1329450    ko-US      iOS   \n",
       "\n",
       "  osversion versionname                             device_id  \n",
       "0      16.0       2.0.0  590E7C79-CBA0-44D8-8BE3-3C9BFABBBC74  \n",
       "1    16.5.1       2.0.3  D5417226-F71B-4A9E-A180-CD072F2AB279  \n",
       "2        13       2.0.5  6bcea65d-9f40-46fc-888c-700fe707483f  \n",
       "3        13       2.0.5  a05c1595-3e05-434b-8684-218b528bd725  \n",
       "4    16.5.1       2.0.5  EAC6C0B3-7CE8-40EA-8A91-9977C0BA5EF3  "
      ]
     },
     "execution_count": 53,
     "metadata": {},
     "output_type": "execute_result"
    }
   ],
   "source": [
    "hackle_properties_df.head()"
   ]
  },
  {
   "cell_type": "code",
   "execution_count": 54,
   "id": "f911d00e",
   "metadata": {},
   "outputs": [
    {
     "data": {
      "text/plain": [
       "np.int64(271734)"
      ]
     },
     "execution_count": 54,
     "metadata": {},
     "output_type": "execute_result"
    }
   ],
   "source": [
    "hackle_properties_df['session_id'].duplicated().sum()"
   ]
  },
  {
   "cell_type": "code",
   "execution_count": 55,
   "id": "122287b5",
   "metadata": {},
   "outputs": [
    {
     "data": {
      "text/plain": [
       "session_id\n",
       "040914e1-61ac-40ef-b76a-718066d880dc    9\n",
       "vheiXNIAkbRNz8OPRfItfkKxm1A2            9\n",
       "GHbGo2mDG5NRtDGa9Dd8wcT21nS2            8\n",
       "KxXeIkNRmAVleq2ODKgNwCIFUqE3            8\n",
       "ShHbFaGn9xg4z8ILJAVjxbm8q672            8\n",
       "                                       ..\n",
       "UlSVf7FaWyRzv4l6gSewnIJTYL92            2\n",
       "yj4Uvtw1NVTf9gEd8xL6EPSZWUC2            2\n",
       "fLx9o8LfolfY7KQ4ZDzjBrZ1z943            2\n",
       "3B2A7F23-A212-4FE9-8E9C-27C5A5347489    2\n",
       "1mnK9pE19gOkqk8Y2qZUGk8LcSx2            2\n",
       "Name: count, Length: 196324, dtype: int64"
      ]
     },
     "execution_count": 55,
     "metadata": {},
     "output_type": "execute_result"
    }
   ],
   "source": [
    "hackle_properties_df['session_id'].value_counts().loc[lambda x: x>1]"
   ]
  },
  {
   "cell_type": "code",
   "execution_count": null,
   "id": "2cb431fb",
   "metadata": {},
   "outputs": [
    {
     "data": {
      "text/html": [
       "<div>\n",
       "<style scoped>\n",
       "    .dataframe tbody tr th:only-of-type {\n",
       "        vertical-align: middle;\n",
       "    }\n",
       "\n",
       "    .dataframe tbody tr th {\n",
       "        vertical-align: top;\n",
       "    }\n",
       "\n",
       "    .dataframe thead th {\n",
       "        text-align: right;\n",
       "    }\n",
       "</style>\n",
       "<table border=\"1\" class=\"dataframe\">\n",
       "  <thead>\n",
       "    <tr style=\"text-align: right;\">\n",
       "      <th></th>\n",
       "      <th>id</th>\n",
       "      <th>session_id</th>\n",
       "      <th>user_id</th>\n",
       "      <th>language</th>\n",
       "      <th>osname</th>\n",
       "      <th>osversion</th>\n",
       "      <th>versionname</th>\n",
       "      <th>device_id</th>\n",
       "    </tr>\n",
       "  </thead>\n",
       "  <tbody>\n",
       "    <tr>\n",
       "      <th>9253</th>\n",
       "      <td>9254</td>\n",
       "      <td>040914e1-61ac-40ef-b76a-718066d880dc</td>\n",
       "      <td>1577938</td>\n",
       "      <td>ko</td>\n",
       "      <td>Android</td>\n",
       "      <td>13</td>\n",
       "      <td>2.0.3</td>\n",
       "      <td>040914e1-61ac-40ef-b76a-718066d880dc</td>\n",
       "    </tr>\n",
       "    <tr>\n",
       "      <th>17152</th>\n",
       "      <td>17153</td>\n",
       "      <td>040914e1-61ac-40ef-b76a-718066d880dc</td>\n",
       "      <td>1577954</td>\n",
       "      <td>ko</td>\n",
       "      <td>Android</td>\n",
       "      <td>13</td>\n",
       "      <td>2.0.5</td>\n",
       "      <td>040914e1-61ac-40ef-b76a-718066d880dc</td>\n",
       "    </tr>\n",
       "    <tr>\n",
       "      <th>53799</th>\n",
       "      <td>53800</td>\n",
       "      <td>040914e1-61ac-40ef-b76a-718066d880dc</td>\n",
       "      <td>1577938</td>\n",
       "      <td>ko</td>\n",
       "      <td>Android</td>\n",
       "      <td>13</td>\n",
       "      <td>2.0.5</td>\n",
       "      <td>040914e1-61ac-40ef-b76a-718066d880dc</td>\n",
       "    </tr>\n",
       "    <tr>\n",
       "      <th>101786</th>\n",
       "      <td>101787</td>\n",
       "      <td>040914e1-61ac-40ef-b76a-718066d880dc</td>\n",
       "      <td>NaN</td>\n",
       "      <td>ko</td>\n",
       "      <td>Android</td>\n",
       "      <td>13</td>\n",
       "      <td>2.0.5</td>\n",
       "      <td>040914e1-61ac-40ef-b76a-718066d880dc</td>\n",
       "    </tr>\n",
       "    <tr>\n",
       "      <th>175568</th>\n",
       "      <td>175569</td>\n",
       "      <td>040914e1-61ac-40ef-b76a-718066d880dc</td>\n",
       "      <td>1577930</td>\n",
       "      <td>ko</td>\n",
       "      <td>Android</td>\n",
       "      <td>13</td>\n",
       "      <td>2.0.3</td>\n",
       "      <td>040914e1-61ac-40ef-b76a-718066d880dc</td>\n",
       "    </tr>\n",
       "    <tr>\n",
       "      <th>190012</th>\n",
       "      <td>190013</td>\n",
       "      <td>040914e1-61ac-40ef-b76a-718066d880dc</td>\n",
       "      <td>838541</td>\n",
       "      <td>ko</td>\n",
       "      <td>Android</td>\n",
       "      <td>13</td>\n",
       "      <td>2.0.3</td>\n",
       "      <td>040914e1-61ac-40ef-b76a-718066d880dc</td>\n",
       "    </tr>\n",
       "    <tr>\n",
       "      <th>251638</th>\n",
       "      <td>251639</td>\n",
       "      <td>040914e1-61ac-40ef-b76a-718066d880dc</td>\n",
       "      <td>1577954</td>\n",
       "      <td>ko</td>\n",
       "      <td>Android</td>\n",
       "      <td>13</td>\n",
       "      <td>2.0.3</td>\n",
       "      <td>040914e1-61ac-40ef-b76a-718066d880dc</td>\n",
       "    </tr>\n",
       "    <tr>\n",
       "      <th>258144</th>\n",
       "      <td>258145</td>\n",
       "      <td>040914e1-61ac-40ef-b76a-718066d880dc</td>\n",
       "      <td>NaN</td>\n",
       "      <td>ko</td>\n",
       "      <td>Android</td>\n",
       "      <td>13</td>\n",
       "      <td>2.0.3</td>\n",
       "      <td>040914e1-61ac-40ef-b76a-718066d880dc</td>\n",
       "    </tr>\n",
       "    <tr>\n",
       "      <th>315204</th>\n",
       "      <td>315205</td>\n",
       "      <td>040914e1-61ac-40ef-b76a-718066d880dc</td>\n",
       "      <td>849763</td>\n",
       "      <td>ko</td>\n",
       "      <td>Android</td>\n",
       "      <td>13</td>\n",
       "      <td>2.0.3</td>\n",
       "      <td>040914e1-61ac-40ef-b76a-718066d880dc</td>\n",
       "    </tr>\n",
       "  </tbody>\n",
       "</table>\n",
       "</div>"
      ],
      "text/plain": [
       "            id                            session_id  user_id language  \\\n",
       "9253      9254  040914e1-61ac-40ef-b76a-718066d880dc  1577938       ko   \n",
       "17152    17153  040914e1-61ac-40ef-b76a-718066d880dc  1577954       ko   \n",
       "53799    53800  040914e1-61ac-40ef-b76a-718066d880dc  1577938       ko   \n",
       "101786  101787  040914e1-61ac-40ef-b76a-718066d880dc      NaN       ko   \n",
       "175568  175569  040914e1-61ac-40ef-b76a-718066d880dc  1577930       ko   \n",
       "190012  190013  040914e1-61ac-40ef-b76a-718066d880dc   838541       ko   \n",
       "251638  251639  040914e1-61ac-40ef-b76a-718066d880dc  1577954       ko   \n",
       "258144  258145  040914e1-61ac-40ef-b76a-718066d880dc      NaN       ko   \n",
       "315204  315205  040914e1-61ac-40ef-b76a-718066d880dc   849763       ko   \n",
       "\n",
       "         osname osversion versionname                             device_id  \n",
       "9253    Android        13       2.0.3  040914e1-61ac-40ef-b76a-718066d880dc  \n",
       "17152   Android        13       2.0.5  040914e1-61ac-40ef-b76a-718066d880dc  \n",
       "53799   Android        13       2.0.5  040914e1-61ac-40ef-b76a-718066d880dc  \n",
       "101786  Android        13       2.0.5  040914e1-61ac-40ef-b76a-718066d880dc  \n",
       "175568  Android        13       2.0.3  040914e1-61ac-40ef-b76a-718066d880dc  \n",
       "190012  Android        13       2.0.3  040914e1-61ac-40ef-b76a-718066d880dc  \n",
       "251638  Android        13       2.0.3  040914e1-61ac-40ef-b76a-718066d880dc  \n",
       "258144  Android        13       2.0.3  040914e1-61ac-40ef-b76a-718066d880dc  \n",
       "315204  Android        13       2.0.3  040914e1-61ac-40ef-b76a-718066d880dc  "
      ]
     },
     "execution_count": 57,
     "metadata": {},
     "output_type": "execute_result"
    }
   ],
   "source": [
    "hackle_properties_df[hackle_properties_df['session_id'] == '040914e1-61ac-40ef-b76a-718066d880dc']\n",
    "# session_id는 동일하지만 user_id가 계속 변동됨"
   ]
  },
  {
   "cell_type": "code",
   "execution_count": null,
   "id": "2107037d",
   "metadata": {},
   "outputs": [
    {
     "data": {
      "text/html": [
       "<div>\n",
       "<style scoped>\n",
       "    .dataframe tbody tr th:only-of-type {\n",
       "        vertical-align: middle;\n",
       "    }\n",
       "\n",
       "    .dataframe tbody tr th {\n",
       "        vertical-align: top;\n",
       "    }\n",
       "\n",
       "    .dataframe thead th {\n",
       "        text-align: right;\n",
       "    }\n",
       "</style>\n",
       "<table border=\"1\" class=\"dataframe\">\n",
       "  <thead>\n",
       "    <tr style=\"text-align: right;\">\n",
       "      <th></th>\n",
       "      <th>id</th>\n",
       "      <th>session_id</th>\n",
       "      <th>user_id</th>\n",
       "      <th>language</th>\n",
       "      <th>osname</th>\n",
       "      <th>osversion</th>\n",
       "      <th>versionname</th>\n",
       "      <th>device_id</th>\n",
       "    </tr>\n",
       "  </thead>\n",
       "  <tbody>\n",
       "    <tr>\n",
       "      <th>39491</th>\n",
       "      <td>39492</td>\n",
       "      <td>KxXeIkNRmAVleq2ODKgNwCIFUqE3</td>\n",
       "      <td>KxXeIkNRmAVleq2ODKgNwCIFUqE3</td>\n",
       "      <td>ko-KR</td>\n",
       "      <td>iOS</td>\n",
       "      <td>15.7.7</td>\n",
       "      <td>2.0.0</td>\n",
       "      <td>28CAA88C-B36D-46EE-B10D-CE989B2176D1</td>\n",
       "    </tr>\n",
       "    <tr>\n",
       "      <th>88641</th>\n",
       "      <td>88642</td>\n",
       "      <td>KxXeIkNRmAVleq2ODKgNwCIFUqE3</td>\n",
       "      <td>1040254</td>\n",
       "      <td>ko-KR</td>\n",
       "      <td>iOS</td>\n",
       "      <td>16.5.1</td>\n",
       "      <td>2.0.3</td>\n",
       "      <td>6C9D8208-B234-4EA0-8CF2-FDC1CE083099</td>\n",
       "    </tr>\n",
       "    <tr>\n",
       "      <th>367607</th>\n",
       "      <td>367608</td>\n",
       "      <td>KxXeIkNRmAVleq2ODKgNwCIFUqE3</td>\n",
       "      <td>1040254</td>\n",
       "      <td>ko-KR</td>\n",
       "      <td>iOS</td>\n",
       "      <td>16.6</td>\n",
       "      <td>2.0.5</td>\n",
       "      <td>6C9D8208-B234-4EA0-8CF2-FDC1CE083099</td>\n",
       "    </tr>\n",
       "    <tr>\n",
       "      <th>413838</th>\n",
       "      <td>413839</td>\n",
       "      <td>KxXeIkNRmAVleq2ODKgNwCIFUqE3</td>\n",
       "      <td>1040254</td>\n",
       "      <td>ko-KR</td>\n",
       "      <td>iOS</td>\n",
       "      <td>15.7.7</td>\n",
       "      <td>2.0.0</td>\n",
       "      <td>28CAA88C-B36D-46EE-B10D-CE989B2176D1</td>\n",
       "    </tr>\n",
       "    <tr>\n",
       "      <th>417121</th>\n",
       "      <td>417122</td>\n",
       "      <td>KxXeIkNRmAVleq2ODKgNwCIFUqE3</td>\n",
       "      <td>1040254</td>\n",
       "      <td>ko-KR</td>\n",
       "      <td>iOS</td>\n",
       "      <td>15.7.7</td>\n",
       "      <td>2.0.3</td>\n",
       "      <td>28CAA88C-B36D-46EE-B10D-CE989B2176D1</td>\n",
       "    </tr>\n",
       "    <tr>\n",
       "      <th>455887</th>\n",
       "      <td>455888</td>\n",
       "      <td>KxXeIkNRmAVleq2ODKgNwCIFUqE3</td>\n",
       "      <td>1040254</td>\n",
       "      <td>ko-KR</td>\n",
       "      <td>iOS</td>\n",
       "      <td>16.5.1</td>\n",
       "      <td>2.0.5</td>\n",
       "      <td>6C9D8208-B234-4EA0-8CF2-FDC1CE083099</td>\n",
       "    </tr>\n",
       "    <tr>\n",
       "      <th>511468</th>\n",
       "      <td>511469</td>\n",
       "      <td>KxXeIkNRmAVleq2ODKgNwCIFUqE3</td>\n",
       "      <td>1040254</td>\n",
       "      <td>ko-KR</td>\n",
       "      <td>iOS</td>\n",
       "      <td>16.5.1</td>\n",
       "      <td>2.0.0</td>\n",
       "      <td>6C9D8208-B234-4EA0-8CF2-FDC1CE083099</td>\n",
       "    </tr>\n",
       "    <tr>\n",
       "      <th>513104</th>\n",
       "      <td>513105</td>\n",
       "      <td>KxXeIkNRmAVleq2ODKgNwCIFUqE3</td>\n",
       "      <td>KxXeIkNRmAVleq2ODKgNwCIFUqE3</td>\n",
       "      <td>ko-KR</td>\n",
       "      <td>iOS</td>\n",
       "      <td>16.5.1</td>\n",
       "      <td>2.0.0</td>\n",
       "      <td>6C9D8208-B234-4EA0-8CF2-FDC1CE083099</td>\n",
       "    </tr>\n",
       "  </tbody>\n",
       "</table>\n",
       "</div>"
      ],
      "text/plain": [
       "            id                    session_id                       user_id  \\\n",
       "39491    39492  KxXeIkNRmAVleq2ODKgNwCIFUqE3  KxXeIkNRmAVleq2ODKgNwCIFUqE3   \n",
       "88641    88642  KxXeIkNRmAVleq2ODKgNwCIFUqE3                       1040254   \n",
       "367607  367608  KxXeIkNRmAVleq2ODKgNwCIFUqE3                       1040254   \n",
       "413838  413839  KxXeIkNRmAVleq2ODKgNwCIFUqE3                       1040254   \n",
       "417121  417122  KxXeIkNRmAVleq2ODKgNwCIFUqE3                       1040254   \n",
       "455887  455888  KxXeIkNRmAVleq2ODKgNwCIFUqE3                       1040254   \n",
       "511468  511469  KxXeIkNRmAVleq2ODKgNwCIFUqE3                       1040254   \n",
       "513104  513105  KxXeIkNRmAVleq2ODKgNwCIFUqE3  KxXeIkNRmAVleq2ODKgNwCIFUqE3   \n",
       "\n",
       "       language osname osversion versionname  \\\n",
       "39491     ko-KR    iOS    15.7.7       2.0.0   \n",
       "88641     ko-KR    iOS    16.5.1       2.0.3   \n",
       "367607    ko-KR    iOS      16.6       2.0.5   \n",
       "413838    ko-KR    iOS    15.7.7       2.0.0   \n",
       "417121    ko-KR    iOS    15.7.7       2.0.3   \n",
       "455887    ko-KR    iOS    16.5.1       2.0.5   \n",
       "511468    ko-KR    iOS    16.5.1       2.0.0   \n",
       "513104    ko-KR    iOS    16.5.1       2.0.0   \n",
       "\n",
       "                                   device_id  \n",
       "39491   28CAA88C-B36D-46EE-B10D-CE989B2176D1  \n",
       "88641   6C9D8208-B234-4EA0-8CF2-FDC1CE083099  \n",
       "367607  6C9D8208-B234-4EA0-8CF2-FDC1CE083099  \n",
       "413838  28CAA88C-B36D-46EE-B10D-CE989B2176D1  \n",
       "417121  28CAA88C-B36D-46EE-B10D-CE989B2176D1  \n",
       "455887  6C9D8208-B234-4EA0-8CF2-FDC1CE083099  \n",
       "511468  6C9D8208-B234-4EA0-8CF2-FDC1CE083099  \n",
       "513104  6C9D8208-B234-4EA0-8CF2-FDC1CE083099  "
      ]
     },
     "execution_count": 56,
     "metadata": {},
     "output_type": "execute_result"
    }
   ],
   "source": [
    "hackle_properties_df[hackle_properties_df['session_id'] == 'KxXeIkNRmAVleq2ODKgNwCIFUqE3']\n",
    "# 가끔 user_id와 session_id가 동일하게 나타나는 경우 존재"
   ]
  },
  {
   "cell_type": "markdown",
   "id": "f6bafb8e",
   "metadata": {},
   "source": [
    "- session_id = 040914e1-61ac-40ef-b76a-718066d880dc 를 제외하고는 user_id가 nan이거나 문자열인 애를 제외하면 1개의 값으로 중복 제거 될 듯 함\n",
    "- 같은 session_id, user_id 이지만 다른 device_id\n",
    "    - 유저 이벤트 데이터를 수집할 때 세션을 생성하는 로직이 누락될 가능성\n",
    "    - 앱에서 세션을 새로 만들어야 할 시점(재접속, 전환 등)에 새로운 session_id를 만들지 않고 이전 값을 재사용했을 가능성"
   ]
  },
  {
   "cell_type": "code",
   "execution_count": 58,
   "id": "63b35961",
   "metadata": {},
   "outputs": [
    {
     "name": "stdout",
     "output_type": "stream",
     "text": [
      "<class 'pandas.core.frame.DataFrame'>\n",
      "Index: 233668 entries, 1 to 525346\n",
      "Data columns (total 8 columns):\n",
      " #   Column       Non-Null Count   Dtype \n",
      "---  ------       --------------   ----- \n",
      " 0   id           233668 non-null  int64 \n",
      " 1   session_id   233668 non-null  object\n",
      " 2   user_id      233668 non-null  object\n",
      " 3   language     233668 non-null  object\n",
      " 4   osname       233668 non-null  object\n",
      " 5   osversion    233668 non-null  object\n",
      " 6   versionname  233668 non-null  object\n",
      " 7   device_id    233668 non-null  object\n",
      "dtypes: int64(1), object(7)\n",
      "memory usage: 16.0+ MB\n"
     ]
    }
   ],
   "source": [
    "hackle_properties_cleaning_df = hackle_properties_cleaning_df.drop_duplicates(subset=['session_id', 'user_id'])\n",
    "hackle_properties_cleaning_df.info()"
   ]
  },
  {
   "cell_type": "code",
   "execution_count": 59,
   "id": "b0782c4f",
   "metadata": {},
   "outputs": [
    {
     "data": {
      "text/plain": [
       "session_id\n",
       "040914e1-61ac-40ef-b76a-718066d880dc    5\n",
       "B941F9F9-CF53-4DAE-A204-75E666B5D277    3\n",
       "23235867-49A8-4240-8B34-6342357440F9    3\n",
       "SDCe4wZnO9eBy8aQ1SxAHAIlg7f2            2\n",
       "b0b04f86-cf77-4cbd-85d9-814ec2bf015e    2\n",
       "                                       ..\n",
       "9B0ABDE8-D744-4462-AF6D-876B2DE45CEA    2\n",
       "D76921C5-5CA5-483E-A32C-F278E49BACC9    2\n",
       "5c89abcf-a789-4944-8c26-da288ee48d2a    2\n",
       "21ef715c-d365-405b-a5ad-cdba4fc79ff3    2\n",
       "96C2C47D-7BC2-4144-8AC6-1FADE599F10A    2\n",
       "Name: count, Length: 62, dtype: int64"
      ]
     },
     "execution_count": 59,
     "metadata": {},
     "output_type": "execute_result"
    }
   ],
   "source": [
    "hackle_properties_cleaning_df['session_id'].value_counts().loc[lambda x: x>1]"
   ]
  },
  {
   "cell_type": "code",
   "execution_count": 60,
   "id": "462e34f2",
   "metadata": {},
   "outputs": [
    {
     "data": {
      "text/html": [
       "<div>\n",
       "<style scoped>\n",
       "    .dataframe tbody tr th:only-of-type {\n",
       "        vertical-align: middle;\n",
       "    }\n",
       "\n",
       "    .dataframe tbody tr th {\n",
       "        vertical-align: top;\n",
       "    }\n",
       "\n",
       "    .dataframe thead th {\n",
       "        text-align: right;\n",
       "    }\n",
       "</style>\n",
       "<table border=\"1\" class=\"dataframe\">\n",
       "  <thead>\n",
       "    <tr style=\"text-align: right;\">\n",
       "      <th></th>\n",
       "      <th>id</th>\n",
       "      <th>session_id</th>\n",
       "      <th>user_id</th>\n",
       "      <th>language</th>\n",
       "      <th>osname</th>\n",
       "      <th>osversion</th>\n",
       "      <th>versionname</th>\n",
       "      <th>device_id</th>\n",
       "    </tr>\n",
       "  </thead>\n",
       "  <tbody>\n",
       "    <tr>\n",
       "      <th>99326</th>\n",
       "      <td>99327</td>\n",
       "      <td>SDCe4wZnO9eBy8aQ1SxAHAIlg7f2</td>\n",
       "      <td>1086267</td>\n",
       "      <td>ko-KR</td>\n",
       "      <td>iOS</td>\n",
       "      <td>16.5.1</td>\n",
       "      <td>2.0.5</td>\n",
       "      <td>99DB576B-C1D6-4BCA-9523-CFE02DB3C11B</td>\n",
       "    </tr>\n",
       "    <tr>\n",
       "      <th>147595</th>\n",
       "      <td>147596</td>\n",
       "      <td>SDCe4wZnO9eBy8aQ1SxAHAIlg7f2</td>\n",
       "      <td>1120312</td>\n",
       "      <td>ko-KR</td>\n",
       "      <td>iOS</td>\n",
       "      <td>16.5.1</td>\n",
       "      <td>2.0.5</td>\n",
       "      <td>99DB576B-C1D6-4BCA-9523-CFE02DB3C11B</td>\n",
       "    </tr>\n",
       "  </tbody>\n",
       "</table>\n",
       "</div>"
      ],
      "text/plain": [
       "            id                    session_id  user_id language osname  \\\n",
       "99326    99327  SDCe4wZnO9eBy8aQ1SxAHAIlg7f2  1086267    ko-KR    iOS   \n",
       "147595  147596  SDCe4wZnO9eBy8aQ1SxAHAIlg7f2  1120312    ko-KR    iOS   \n",
       "\n",
       "       osversion versionname                             device_id  \n",
       "99326     16.5.1       2.0.5  99DB576B-C1D6-4BCA-9523-CFE02DB3C11B  \n",
       "147595    16.5.1       2.0.5  99DB576B-C1D6-4BCA-9523-CFE02DB3C11B  "
      ]
     },
     "execution_count": 60,
     "metadata": {},
     "output_type": "execute_result"
    }
   ],
   "source": [
    "hackle_properties_cleaning_df[hackle_properties_cleaning_df['session_id'] == 'SDCe4wZnO9eBy8aQ1SxAHAIlg7f2']"
   ]
  },
  {
   "cell_type": "code",
   "execution_count": 61,
   "id": "f78c7856",
   "metadata": {},
   "outputs": [
    {
     "data": {
      "text/plain": [
       "np.int64(67)"
      ]
     },
     "execution_count": 61,
     "metadata": {},
     "output_type": "execute_result"
    }
   ],
   "source": [
    "hackle_properties_cleaning_df['session_id'].duplicated().sum()"
   ]
  },
  {
   "cell_type": "markdown",
   "id": "a9be32d3",
   "metadata": {},
   "source": [
    "- session_id가 같은데 user_id가 다르면서 device_id가 같은 경우\n",
    "    - 일반 유저로 보기 어려움\n",
    "    - 관리자 계정일 가능성?\n",
    "    - 67개의 중복 -> 삭제"
   ]
  },
  {
   "cell_type": "code",
   "execution_count": 62,
   "id": "16744c14",
   "metadata": {},
   "outputs": [
    {
     "name": "stdout",
     "output_type": "stream",
     "text": [
      "<class 'pandas.core.frame.DataFrame'>\n",
      "Index: 233601 entries, 1 to 525346\n",
      "Data columns (total 8 columns):\n",
      " #   Column       Non-Null Count   Dtype \n",
      "---  ------       --------------   ----- \n",
      " 0   id           233601 non-null  int64 \n",
      " 1   session_id   233601 non-null  object\n",
      " 2   user_id      233601 non-null  object\n",
      " 3   language     233601 non-null  object\n",
      " 4   osname       233601 non-null  object\n",
      " 5   osversion    233601 non-null  object\n",
      " 6   versionname  233601 non-null  object\n",
      " 7   device_id    233601 non-null  object\n",
      "dtypes: int64(1), object(7)\n",
      "memory usage: 16.0+ MB\n"
     ]
    }
   ],
   "source": [
    "hackle_properties_cleaning_df = hackle_properties_cleaning_df.drop_duplicates(subset=['session_id'])\n",
    "hackle_properties_cleaning_df.info()"
   ]
  },
  {
   "cell_type": "code",
   "execution_count": 63,
   "id": "53e5beac",
   "metadata": {},
   "outputs": [
    {
     "data": {
      "text/plain": [
       "np.int64(0)"
      ]
     },
     "execution_count": 63,
     "metadata": {},
     "output_type": "execute_result"
    }
   ],
   "source": [
    "hackle_properties_cleaning_df['session_id'].duplicated().sum()"
   ]
  },
  {
   "cell_type": "code",
   "execution_count": 64,
   "id": "323a3742",
   "metadata": {},
   "outputs": [
    {
     "name": "stdout",
     "output_type": "stream",
     "text": [
      "<class 'pandas.core.frame.DataFrame'>\n",
      "Index: 233601 entries, 1 to 525346\n",
      "Data columns (total 8 columns):\n",
      " #   Column       Non-Null Count   Dtype \n",
      "---  ------       --------------   ----- \n",
      " 0   id           233601 non-null  int64 \n",
      " 1   session_id   233601 non-null  object\n",
      " 2   user_id      233601 non-null  object\n",
      " 3   language     233601 non-null  object\n",
      " 4   osname       233601 non-null  object\n",
      " 5   osversion    233601 non-null  object\n",
      " 6   versionname  233601 non-null  object\n",
      " 7   device_id    233601 non-null  object\n",
      "dtypes: int64(1), object(7)\n",
      "memory usage: 16.0+ MB\n"
     ]
    }
   ],
   "source": [
    "hackle_properties_cleaning_df.info()"
   ]
  },
  {
   "cell_type": "markdown",
   "id": "76ba5776",
   "metadata": {},
   "source": [
    "## user_properties_df 와 hackle_properties_df 를 merge"
   ]
  },
  {
   "cell_type": "code",
   "execution_count": 71,
   "id": "297e2b9f",
   "metadata": {},
   "outputs": [
    {
     "data": {
      "text/html": [
       "<div>\n",
       "<style scoped>\n",
       "    .dataframe tbody tr th:only-of-type {\n",
       "        vertical-align: middle;\n",
       "    }\n",
       "\n",
       "    .dataframe tbody tr th {\n",
       "        vertical-align: top;\n",
       "    }\n",
       "\n",
       "    .dataframe thead th {\n",
       "        text-align: right;\n",
       "    }\n",
       "</style>\n",
       "<table border=\"1\" class=\"dataframe\">\n",
       "  <thead>\n",
       "    <tr style=\"text-align: right;\">\n",
       "      <th></th>\n",
       "      <th>user_id</th>\n",
       "      <th>class</th>\n",
       "      <th>gender</th>\n",
       "      <th>grade</th>\n",
       "      <th>school_id</th>\n",
       "    </tr>\n",
       "  </thead>\n",
       "  <tbody>\n",
       "    <tr>\n",
       "      <th>0</th>\n",
       "      <td>1000000</td>\n",
       "      <td>1</td>\n",
       "      <td>M</td>\n",
       "      <td>1</td>\n",
       "      <td>1885</td>\n",
       "    </tr>\n",
       "    <tr>\n",
       "      <th>1</th>\n",
       "      <td>1000009</td>\n",
       "      <td>10</td>\n",
       "      <td>F</td>\n",
       "      <td>2</td>\n",
       "      <td>3869</td>\n",
       "    </tr>\n",
       "  </tbody>\n",
       "</table>\n",
       "</div>"
      ],
      "text/plain": [
       "   user_id  class gender  grade  school_id\n",
       "0  1000000      1      M      1       1885\n",
       "1  1000009     10      F      2       3869"
      ]
     },
     "execution_count": 71,
     "metadata": {},
     "output_type": "execute_result"
    }
   ],
   "source": [
    "user_properties_df.head(2)"
   ]
  },
  {
   "cell_type": "code",
   "execution_count": 74,
   "id": "070853ea",
   "metadata": {},
   "outputs": [
    {
     "data": {
      "text/html": [
       "<div>\n",
       "<style scoped>\n",
       "    .dataframe tbody tr th:only-of-type {\n",
       "        vertical-align: middle;\n",
       "    }\n",
       "\n",
       "    .dataframe tbody tr th {\n",
       "        vertical-align: top;\n",
       "    }\n",
       "\n",
       "    .dataframe thead th {\n",
       "        text-align: right;\n",
       "    }\n",
       "</style>\n",
       "<table border=\"1\" class=\"dataframe\">\n",
       "  <thead>\n",
       "    <tr style=\"text-align: right;\">\n",
       "      <th></th>\n",
       "      <th>id</th>\n",
       "      <th>session_id</th>\n",
       "      <th>user_id</th>\n",
       "      <th>language</th>\n",
       "      <th>osname</th>\n",
       "      <th>osversion</th>\n",
       "      <th>versionname</th>\n",
       "      <th>device_id</th>\n",
       "    </tr>\n",
       "  </thead>\n",
       "  <tbody>\n",
       "    <tr>\n",
       "      <th>1</th>\n",
       "      <td>2</td>\n",
       "      <td>8QXy31PQxbW9qLzq0Y1dhR8Ypm52</td>\n",
       "      <td>1046711</td>\n",
       "      <td>ko-KR</td>\n",
       "      <td>iOS</td>\n",
       "      <td>16.5.1</td>\n",
       "      <td>2.0.3</td>\n",
       "      <td>D5417226-F71B-4A9E-A180-CD072F2AB279</td>\n",
       "    </tr>\n",
       "    <tr>\n",
       "      <th>2</th>\n",
       "      <td>3</td>\n",
       "      <td>6bcea65d-9f40-46fc-888c-700fe707483f</td>\n",
       "      <td>1545130</td>\n",
       "      <td>ko</td>\n",
       "      <td>Android</td>\n",
       "      <td>13</td>\n",
       "      <td>2.0.5</td>\n",
       "      <td>6bcea65d-9f40-46fc-888c-700fe707483f</td>\n",
       "    </tr>\n",
       "  </tbody>\n",
       "</table>\n",
       "</div>"
      ],
      "text/plain": [
       "   id                            session_id  user_id language   osname  \\\n",
       "1   2          8QXy31PQxbW9qLzq0Y1dhR8Ypm52  1046711    ko-KR      iOS   \n",
       "2   3  6bcea65d-9f40-46fc-888c-700fe707483f  1545130       ko  Android   \n",
       "\n",
       "  osversion versionname                             device_id  \n",
       "1    16.5.1       2.0.3  D5417226-F71B-4A9E-A180-CD072F2AB279  \n",
       "2        13       2.0.5  6bcea65d-9f40-46fc-888c-700fe707483f  "
      ]
     },
     "execution_count": 74,
     "metadata": {},
     "output_type": "execute_result"
    }
   ],
   "source": [
    "hackle_properties_cleaning_df.head(2)"
   ]
  },
  {
   "cell_type": "code",
   "execution_count": 75,
   "id": "ad4bfb48",
   "metadata": {},
   "outputs": [
    {
     "name": "stdout",
     "output_type": "stream",
     "text": [
      "<class 'pandas.core.frame.DataFrame'>\n",
      "Index: 233601 entries, 1 to 525346\n",
      "Data columns (total 8 columns):\n",
      " #   Column       Non-Null Count   Dtype \n",
      "---  ------       --------------   ----- \n",
      " 0   id           233601 non-null  int64 \n",
      " 1   session_id   233601 non-null  object\n",
      " 2   user_id      233601 non-null  object\n",
      " 3   language     233601 non-null  object\n",
      " 4   osname       233601 non-null  object\n",
      " 5   osversion    233601 non-null  object\n",
      " 6   versionname  233601 non-null  object\n",
      " 7   device_id    233601 non-null  object\n",
      "dtypes: int64(1), object(7)\n",
      "memory usage: 16.0+ MB\n"
     ]
    }
   ],
   "source": [
    "hackle_properties_cleaning_df.info()"
   ]
  },
  {
   "cell_type": "code",
   "execution_count": 76,
   "id": "f5aea122",
   "metadata": {},
   "outputs": [
    {
     "data": {
      "text/plain": [
       "np.int64(2797)"
      ]
     },
     "execution_count": 76,
     "metadata": {},
     "output_type": "execute_result"
    }
   ],
   "source": [
    "hackle_properties_cleaning_df['user_id'].duplicated().sum()"
   ]
  },
  {
   "cell_type": "markdown",
   "id": "c0754988",
   "metadata": {},
   "source": [
    "- 세션이 다른데, 같은 유저일 수 있어 중복일 수 있음"
   ]
  },
  {
   "cell_type": "code",
   "execution_count": 77,
   "id": "f2c77490",
   "metadata": {},
   "outputs": [
    {
     "data": {
      "text/html": [
       "<div>\n",
       "<style scoped>\n",
       "    .dataframe tbody tr th:only-of-type {\n",
       "        vertical-align: middle;\n",
       "    }\n",
       "\n",
       "    .dataframe tbody tr th {\n",
       "        vertical-align: top;\n",
       "    }\n",
       "\n",
       "    .dataframe thead th {\n",
       "        text-align: right;\n",
       "    }\n",
       "</style>\n",
       "<table border=\"1\" class=\"dataframe\">\n",
       "  <thead>\n",
       "    <tr style=\"text-align: right;\">\n",
       "      <th></th>\n",
       "      <th>user_id</th>\n",
       "      <th>class</th>\n",
       "      <th>gender</th>\n",
       "      <th>grade</th>\n",
       "      <th>school_id</th>\n",
       "      <th>id</th>\n",
       "      <th>session_id</th>\n",
       "      <th>language</th>\n",
       "      <th>osname</th>\n",
       "      <th>osversion</th>\n",
       "      <th>versionname</th>\n",
       "      <th>device_id</th>\n",
       "    </tr>\n",
       "  </thead>\n",
       "  <tbody>\n",
       "    <tr>\n",
       "      <th>0</th>\n",
       "      <td>1000000</td>\n",
       "      <td>1</td>\n",
       "      <td>M</td>\n",
       "      <td>1</td>\n",
       "      <td>1885</td>\n",
       "      <td>NaN</td>\n",
       "      <td>NaN</td>\n",
       "      <td>NaN</td>\n",
       "      <td>NaN</td>\n",
       "      <td>NaN</td>\n",
       "      <td>NaN</td>\n",
       "      <td>NaN</td>\n",
       "    </tr>\n",
       "    <tr>\n",
       "      <th>1</th>\n",
       "      <td>1000009</td>\n",
       "      <td>10</td>\n",
       "      <td>F</td>\n",
       "      <td>2</td>\n",
       "      <td>3869</td>\n",
       "      <td>NaN</td>\n",
       "      <td>NaN</td>\n",
       "      <td>NaN</td>\n",
       "      <td>NaN</td>\n",
       "      <td>NaN</td>\n",
       "      <td>NaN</td>\n",
       "      <td>NaN</td>\n",
       "    </tr>\n",
       "    <tr>\n",
       "      <th>2</th>\n",
       "      <td>1000012</td>\n",
       "      <td>10</td>\n",
       "      <td>F</td>\n",
       "      <td>1</td>\n",
       "      <td>5091</td>\n",
       "      <td>NaN</td>\n",
       "      <td>NaN</td>\n",
       "      <td>NaN</td>\n",
       "      <td>NaN</td>\n",
       "      <td>NaN</td>\n",
       "      <td>NaN</td>\n",
       "      <td>NaN</td>\n",
       "    </tr>\n",
       "    <tr>\n",
       "      <th>3</th>\n",
       "      <td>1000013</td>\n",
       "      <td>8</td>\n",
       "      <td>F</td>\n",
       "      <td>2</td>\n",
       "      <td>1743</td>\n",
       "      <td>NaN</td>\n",
       "      <td>NaN</td>\n",
       "      <td>NaN</td>\n",
       "      <td>NaN</td>\n",
       "      <td>NaN</td>\n",
       "      <td>NaN</td>\n",
       "      <td>NaN</td>\n",
       "    </tr>\n",
       "    <tr>\n",
       "      <th>4</th>\n",
       "      <td>1000015</td>\n",
       "      <td>2</td>\n",
       "      <td>F</td>\n",
       "      <td>3</td>\n",
       "      <td>5078</td>\n",
       "      <td>NaN</td>\n",
       "      <td>NaN</td>\n",
       "      <td>NaN</td>\n",
       "      <td>NaN</td>\n",
       "      <td>NaN</td>\n",
       "      <td>NaN</td>\n",
       "      <td>NaN</td>\n",
       "    </tr>\n",
       "  </tbody>\n",
       "</table>\n",
       "</div>"
      ],
      "text/plain": [
       "   user_id  class gender  grade  school_id  id session_id language osname  \\\n",
       "0  1000000      1      M      1       1885 NaN        NaN      NaN    NaN   \n",
       "1  1000009     10      F      2       3869 NaN        NaN      NaN    NaN   \n",
       "2  1000012     10      F      1       5091 NaN        NaN      NaN    NaN   \n",
       "3  1000013      8      F      2       1743 NaN        NaN      NaN    NaN   \n",
       "4  1000015      2      F      3       5078 NaN        NaN      NaN    NaN   \n",
       "\n",
       "  osversion versionname device_id  \n",
       "0       NaN         NaN       NaN  \n",
       "1       NaN         NaN       NaN  \n",
       "2       NaN         NaN       NaN  \n",
       "3       NaN         NaN       NaN  \n",
       "4       NaN         NaN       NaN  "
      ]
     },
     "execution_count": 77,
     "metadata": {},
     "output_type": "execute_result"
    }
   ],
   "source": [
    "hackle_user_school_df = pd.merge(user_properties_df, hackle_properties_cleaning_df, on='user_id', how='left')\n",
    "hackle_user_school_df.head()"
   ]
  },
  {
   "cell_type": "code",
   "execution_count": 78,
   "id": "950ea2ca",
   "metadata": {},
   "outputs": [
    {
     "name": "stdout",
     "output_type": "stream",
     "text": [
      "<class 'pandas.core.frame.DataFrame'>\n",
      "RangeIndex: 232148 entries, 0 to 232147\n",
      "Data columns (total 12 columns):\n",
      " #   Column       Non-Null Count   Dtype  \n",
      "---  ------       --------------   -----  \n",
      " 0   user_id      232148 non-null  object \n",
      " 1   class        232148 non-null  int64  \n",
      " 2   gender       232148 non-null  object \n",
      " 3   grade        232148 non-null  int64  \n",
      " 4   school_id    232148 non-null  int64  \n",
      " 5   id           101037 non-null  float64\n",
      " 6   session_id   101037 non-null  object \n",
      " 7   language     101037 non-null  object \n",
      " 8   osname       101037 non-null  object \n",
      " 9   osversion    101037 non-null  object \n",
      " 10  versionname  101037 non-null  object \n",
      " 11  device_id    101037 non-null  object \n",
      "dtypes: float64(1), int64(3), object(8)\n",
      "memory usage: 21.3+ MB\n"
     ]
    }
   ],
   "source": [
    "hackle_user_school_df.info()"
   ]
  },
  {
   "cell_type": "code",
   "execution_count": 79,
   "id": "e8486835",
   "metadata": {},
   "outputs": [
    {
     "data": {
      "text/plain": [
       "user_id             0\n",
       "class               0\n",
       "gender              0\n",
       "grade               0\n",
       "school_id           0\n",
       "id             131111\n",
       "session_id     131111\n",
       "language       131111\n",
       "osname         131111\n",
       "osversion      131111\n",
       "versionname    131111\n",
       "device_id      131111\n",
       "dtype: int64"
      ]
     },
     "execution_count": 79,
     "metadata": {},
     "output_type": "execute_result"
    }
   ],
   "source": [
    "hackle_user_school_df.isna().sum()"
   ]
  },
  {
   "cell_type": "code",
   "execution_count": 80,
   "id": "894777f3",
   "metadata": {},
   "outputs": [
    {
     "data": {
      "text/html": [
       "<div>\n",
       "<style scoped>\n",
       "    .dataframe tbody tr th:only-of-type {\n",
       "        vertical-align: middle;\n",
       "    }\n",
       "\n",
       "    .dataframe tbody tr th {\n",
       "        vertical-align: top;\n",
       "    }\n",
       "\n",
       "    .dataframe thead th {\n",
       "        text-align: right;\n",
       "    }\n",
       "</style>\n",
       "<table border=\"1\" class=\"dataframe\">\n",
       "  <thead>\n",
       "    <tr style=\"text-align: right;\">\n",
       "      <th></th>\n",
       "      <th>user_id</th>\n",
       "      <th>class</th>\n",
       "      <th>gender</th>\n",
       "      <th>grade</th>\n",
       "      <th>school_id</th>\n",
       "      <th>session_id</th>\n",
       "      <th>device_id</th>\n",
       "    </tr>\n",
       "  </thead>\n",
       "  <tbody>\n",
       "    <tr>\n",
       "      <th>0</th>\n",
       "      <td>1000000</td>\n",
       "      <td>1</td>\n",
       "      <td>M</td>\n",
       "      <td>1</td>\n",
       "      <td>1885</td>\n",
       "      <td>NaN</td>\n",
       "      <td>NaN</td>\n",
       "    </tr>\n",
       "    <tr>\n",
       "      <th>1</th>\n",
       "      <td>1000009</td>\n",
       "      <td>10</td>\n",
       "      <td>F</td>\n",
       "      <td>2</td>\n",
       "      <td>3869</td>\n",
       "      <td>NaN</td>\n",
       "      <td>NaN</td>\n",
       "    </tr>\n",
       "    <tr>\n",
       "      <th>2</th>\n",
       "      <td>1000012</td>\n",
       "      <td>10</td>\n",
       "      <td>F</td>\n",
       "      <td>1</td>\n",
       "      <td>5091</td>\n",
       "      <td>NaN</td>\n",
       "      <td>NaN</td>\n",
       "    </tr>\n",
       "    <tr>\n",
       "      <th>3</th>\n",
       "      <td>1000013</td>\n",
       "      <td>8</td>\n",
       "      <td>F</td>\n",
       "      <td>2</td>\n",
       "      <td>1743</td>\n",
       "      <td>NaN</td>\n",
       "      <td>NaN</td>\n",
       "    </tr>\n",
       "    <tr>\n",
       "      <th>4</th>\n",
       "      <td>1000015</td>\n",
       "      <td>2</td>\n",
       "      <td>F</td>\n",
       "      <td>3</td>\n",
       "      <td>5078</td>\n",
       "      <td>NaN</td>\n",
       "      <td>NaN</td>\n",
       "    </tr>\n",
       "  </tbody>\n",
       "</table>\n",
       "</div>"
      ],
      "text/plain": [
       "   user_id  class gender  grade  school_id session_id device_id\n",
       "0  1000000      1      M      1       1885        NaN       NaN\n",
       "1  1000009     10      F      2       3869        NaN       NaN\n",
       "2  1000012     10      F      1       5091        NaN       NaN\n",
       "3  1000013      8      F      2       1743        NaN       NaN\n",
       "4  1000015      2      F      3       5078        NaN       NaN"
      ]
     },
     "execution_count": 80,
     "metadata": {},
     "output_type": "execute_result"
    }
   ],
   "source": [
    "hackle_user_school_df = hackle_user_school_df.drop(columns=['id', 'language', 'osname', 'osversion', 'versionname'])\n",
    "hackle_user_school_df.head()"
   ]
  },
  {
   "cell_type": "code",
   "execution_count": 81,
   "id": "dacf7cd8",
   "metadata": {},
   "outputs": [
    {
     "data": {
      "text/plain": [
       "5023"
      ]
     },
     "execution_count": 81,
     "metadata": {},
     "output_type": "execute_result"
    }
   ],
   "source": [
    "hackle_user_school_df['school_id'].nunique()"
   ]
  },
  {
   "cell_type": "markdown",
   "id": "47704132",
   "metadata": {},
   "source": [
    "- session_id에 nan값이 많아지기는 하지만, 이건 로그 기록이 없는 학교나 유저라고 간주"
   ]
  },
  {
   "cell_type": "markdown",
   "id": "19b6b2d3",
   "metadata": {},
   "source": [
    "## hackle_df 와 hackle_user_school_df 의 merge"
   ]
  },
  {
   "cell_type": "code",
   "execution_count": 82,
   "id": "3ce6daaf",
   "metadata": {},
   "outputs": [
    {
     "data": {
      "text/html": [
       "<div>\n",
       "<style scoped>\n",
       "    .dataframe tbody tr th:only-of-type {\n",
       "        vertical-align: middle;\n",
       "    }\n",
       "\n",
       "    .dataframe tbody tr th {\n",
       "        vertical-align: top;\n",
       "    }\n",
       "\n",
       "    .dataframe thead th {\n",
       "        text-align: right;\n",
       "    }\n",
       "</style>\n",
       "<table border=\"1\" class=\"dataframe\">\n",
       "  <thead>\n",
       "    <tr style=\"text-align: right;\">\n",
       "      <th></th>\n",
       "      <th>session_id</th>\n",
       "      <th>user_id</th>\n",
       "      <th>language</th>\n",
       "      <th>osname</th>\n",
       "      <th>osversion</th>\n",
       "      <th>versionname</th>\n",
       "      <th>device_id</th>\n",
       "    </tr>\n",
       "  </thead>\n",
       "  <tbody>\n",
       "    <tr>\n",
       "      <th>1</th>\n",
       "      <td>8QXy31PQxbW9qLzq0Y1dhR8Ypm52</td>\n",
       "      <td>1046711</td>\n",
       "      <td>ko-KR</td>\n",
       "      <td>iOS</td>\n",
       "      <td>16.5.1</td>\n",
       "      <td>2.0.3</td>\n",
       "      <td>D5417226-F71B-4A9E-A180-CD072F2AB279</td>\n",
       "    </tr>\n",
       "    <tr>\n",
       "      <th>2</th>\n",
       "      <td>6bcea65d-9f40-46fc-888c-700fe707483f</td>\n",
       "      <td>1545130</td>\n",
       "      <td>ko</td>\n",
       "      <td>Android</td>\n",
       "      <td>13</td>\n",
       "      <td>2.0.5</td>\n",
       "      <td>6bcea65d-9f40-46fc-888c-700fe707483f</td>\n",
       "    </tr>\n",
       "    <tr>\n",
       "      <th>3</th>\n",
       "      <td>XVYNT6zfhFWqIg9omwg2AHDjTLx2</td>\n",
       "      <td>1224793</td>\n",
       "      <td>ko</td>\n",
       "      <td>Android</td>\n",
       "      <td>13</td>\n",
       "      <td>2.0.5</td>\n",
       "      <td>a05c1595-3e05-434b-8684-218b528bd725</td>\n",
       "    </tr>\n",
       "    <tr>\n",
       "      <th>4</th>\n",
       "      <td>XFB2SPiGfjbVhvJ3Q3DBsaT3m2B3</td>\n",
       "      <td>1329450</td>\n",
       "      <td>ko-US</td>\n",
       "      <td>iOS</td>\n",
       "      <td>16.5.1</td>\n",
       "      <td>2.0.5</td>\n",
       "      <td>EAC6C0B3-7CE8-40EA-8A91-9977C0BA5EF3</td>\n",
       "    </tr>\n",
       "    <tr>\n",
       "      <th>6</th>\n",
       "      <td>d2b3ca43-4716-4852-b0e2-334848eb66f4</td>\n",
       "      <td>1018001</td>\n",
       "      <td>ko</td>\n",
       "      <td>Android</td>\n",
       "      <td>13</td>\n",
       "      <td>2.0.5</td>\n",
       "      <td>d2b3ca43-4716-4852-b0e2-334848eb66f4</td>\n",
       "    </tr>\n",
       "  </tbody>\n",
       "</table>\n",
       "</div>"
      ],
      "text/plain": [
       "                             session_id  user_id language   osname osversion  \\\n",
       "1          8QXy31PQxbW9qLzq0Y1dhR8Ypm52  1046711    ko-KR      iOS    16.5.1   \n",
       "2  6bcea65d-9f40-46fc-888c-700fe707483f  1545130       ko  Android        13   \n",
       "3          XVYNT6zfhFWqIg9omwg2AHDjTLx2  1224793       ko  Android        13   \n",
       "4          XFB2SPiGfjbVhvJ3Q3DBsaT3m2B3  1329450    ko-US      iOS    16.5.1   \n",
       "6  d2b3ca43-4716-4852-b0e2-334848eb66f4  1018001       ko  Android        13   \n",
       "\n",
       "  versionname                             device_id  \n",
       "1       2.0.3  D5417226-F71B-4A9E-A180-CD072F2AB279  \n",
       "2       2.0.5  6bcea65d-9f40-46fc-888c-700fe707483f  \n",
       "3       2.0.5  a05c1595-3e05-434b-8684-218b528bd725  \n",
       "4       2.0.5  EAC6C0B3-7CE8-40EA-8A91-9977C0BA5EF3  \n",
       "6       2.0.5  d2b3ca43-4716-4852-b0e2-334848eb66f4  "
      ]
     },
     "execution_count": 82,
     "metadata": {},
     "output_type": "execute_result"
    }
   ],
   "source": [
    "hackle_properties_cleaning_df.drop(columns='id', inplace=True)\n",
    "hackle_properties_cleaning_df.head()"
   ]
  },
  {
   "cell_type": "code",
   "execution_count": 83,
   "id": "d9df32cd",
   "metadata": {},
   "outputs": [
    {
     "data": {
      "text/plain": [
       "np.int64(0)"
      ]
     },
     "execution_count": 83,
     "metadata": {},
     "output_type": "execute_result"
    }
   ],
   "source": [
    "hackle_events_df['event_id'].duplicated().sum()"
   ]
  },
  {
   "cell_type": "code",
   "execution_count": 84,
   "id": "ea7fc170",
   "metadata": {},
   "outputs": [
    {
     "data": {
      "text/html": [
       "<div>\n",
       "<style scoped>\n",
       "    .dataframe tbody tr th:only-of-type {\n",
       "        vertical-align: middle;\n",
       "    }\n",
       "\n",
       "    .dataframe tbody tr th {\n",
       "        vertical-align: top;\n",
       "    }\n",
       "\n",
       "    .dataframe thead th {\n",
       "        text-align: right;\n",
       "    }\n",
       "</style>\n",
       "<table border=\"1\" class=\"dataframe\">\n",
       "  <thead>\n",
       "    <tr style=\"text-align: right;\">\n",
       "      <th></th>\n",
       "      <th>event_id</th>\n",
       "      <th>event_datetime</th>\n",
       "      <th>event_key</th>\n",
       "      <th>session_id</th>\n",
       "      <th>item_name</th>\n",
       "      <th>page_name</th>\n",
       "      <th>friend_count</th>\n",
       "      <th>votes_count</th>\n",
       "      <th>heart_balance</th>\n",
       "      <th>question_id</th>\n",
       "    </tr>\n",
       "  </thead>\n",
       "  <tbody>\n",
       "    <tr>\n",
       "      <th>0</th>\n",
       "      <td>00000533-3f1c-4b3b-81f1-0c8f35754b4e</td>\n",
       "      <td>2023-07-18 19:40:17</td>\n",
       "      <td>$session_start</td>\n",
       "      <td>4OzYh3seq3VKytpSn5pvQkZNQii1</td>\n",
       "      <td>NaN</td>\n",
       "      <td>NaN</td>\n",
       "      <td>NaN</td>\n",
       "      <td>NaN</td>\n",
       "      <td>NaN</td>\n",
       "      <td>NaN</td>\n",
       "    </tr>\n",
       "    <tr>\n",
       "      <th>1</th>\n",
       "      <td>00000716-27e9-4e72-a602-d0ce61784b06</td>\n",
       "      <td>2023-07-18 21:07:24</td>\n",
       "      <td>click_question_open</td>\n",
       "      <td>8QXy31PQxbW9qLzq0Y1dhR8Ypm52</td>\n",
       "      <td>NaN</td>\n",
       "      <td>NaN</td>\n",
       "      <td>64.0</td>\n",
       "      <td>436.0</td>\n",
       "      <td>4830.0</td>\n",
       "      <td>NaN</td>\n",
       "    </tr>\n",
       "    <tr>\n",
       "      <th>2</th>\n",
       "      <td>000007c8-68ce-40e6-9b1e-f0e34e8ff9cc</td>\n",
       "      <td>2023-08-06 20:18:03</td>\n",
       "      <td>click_bottom_navigation_profile</td>\n",
       "      <td>6bcea65d-9f40-46fc-888c-700fe707483f</td>\n",
       "      <td>NaN</td>\n",
       "      <td>NaN</td>\n",
       "      <td>26.0</td>\n",
       "      <td>174.0</td>\n",
       "      <td>4729.0</td>\n",
       "      <td>NaN</td>\n",
       "    </tr>\n",
       "    <tr>\n",
       "      <th>3</th>\n",
       "      <td>00000981-5e2a-4111-993e-4f1891ad9a53</td>\n",
       "      <td>2023-08-05 01:46:10</td>\n",
       "      <td>view_shop</td>\n",
       "      <td>XVYNT6zfhFWqIg9omwg2AHDjTLx2</td>\n",
       "      <td>NaN</td>\n",
       "      <td>NaN</td>\n",
       "      <td>61.0</td>\n",
       "      <td>44.0</td>\n",
       "      <td>142.0</td>\n",
       "      <td>NaN</td>\n",
       "    </tr>\n",
       "    <tr>\n",
       "      <th>4</th>\n",
       "      <td>00000a7a-ba72-4332-b4a9-7910670aaeb2</td>\n",
       "      <td>2023-07-24 15:03:37</td>\n",
       "      <td>click_bottom_navigation_lab</td>\n",
       "      <td>XFB2SPiGfjbVhvJ3Q3DBsaT3m2B3</td>\n",
       "      <td>NaN</td>\n",
       "      <td>NaN</td>\n",
       "      <td>119.0</td>\n",
       "      <td>545.0</td>\n",
       "      <td>3287.0</td>\n",
       "      <td>NaN</td>\n",
       "    </tr>\n",
       "  </tbody>\n",
       "</table>\n",
       "</div>"
      ],
      "text/plain": [
       "                               event_id      event_datetime  \\\n",
       "0  00000533-3f1c-4b3b-81f1-0c8f35754b4e 2023-07-18 19:40:17   \n",
       "1  00000716-27e9-4e72-a602-d0ce61784b06 2023-07-18 21:07:24   \n",
       "2  000007c8-68ce-40e6-9b1e-f0e34e8ff9cc 2023-08-06 20:18:03   \n",
       "3  00000981-5e2a-4111-993e-4f1891ad9a53 2023-08-05 01:46:10   \n",
       "4  00000a7a-ba72-4332-b4a9-7910670aaeb2 2023-07-24 15:03:37   \n",
       "\n",
       "                         event_key                            session_id  \\\n",
       "0                   $session_start          4OzYh3seq3VKytpSn5pvQkZNQii1   \n",
       "1              click_question_open          8QXy31PQxbW9qLzq0Y1dhR8Ypm52   \n",
       "2  click_bottom_navigation_profile  6bcea65d-9f40-46fc-888c-700fe707483f   \n",
       "3                        view_shop          XVYNT6zfhFWqIg9omwg2AHDjTLx2   \n",
       "4      click_bottom_navigation_lab          XFB2SPiGfjbVhvJ3Q3DBsaT3m2B3   \n",
       "\n",
       "  item_name page_name  friend_count  votes_count  heart_balance  question_id  \n",
       "0       NaN       NaN           NaN          NaN            NaN          NaN  \n",
       "1       NaN       NaN          64.0        436.0         4830.0          NaN  \n",
       "2       NaN       NaN          26.0        174.0         4729.0          NaN  \n",
       "3       NaN       NaN          61.0         44.0          142.0          NaN  \n",
       "4       NaN       NaN         119.0        545.0         3287.0          NaN  "
      ]
     },
     "execution_count": 84,
     "metadata": {},
     "output_type": "execute_result"
    }
   ],
   "source": [
    "hackle_events_df.head()"
   ]
  },
  {
   "cell_type": "code",
   "execution_count": 85,
   "id": "c2841c4f",
   "metadata": {},
   "outputs": [
    {
     "name": "stdout",
     "output_type": "stream",
     "text": [
      "<class 'pandas.core.frame.DataFrame'>\n",
      "RangeIndex: 11441319 entries, 0 to 11441318\n",
      "Data columns (total 10 columns):\n",
      " #   Column          Dtype         \n",
      "---  ------          -----         \n",
      " 0   event_id        object        \n",
      " 1   event_datetime  datetime64[ns]\n",
      " 2   event_key       object        \n",
      " 3   session_id      object        \n",
      " 4   item_name       object        \n",
      " 5   page_name       object        \n",
      " 6   friend_count    float64       \n",
      " 7   votes_count     float64       \n",
      " 8   heart_balance   float64       \n",
      " 9   question_id     float64       \n",
      "dtypes: datetime64[ns](1), float64(4), object(5)\n",
      "memory usage: 872.9+ MB\n"
     ]
    }
   ],
   "source": [
    "hackle_events_df.info()"
   ]
  },
  {
   "cell_type": "code",
   "execution_count": 86,
   "id": "36fd3a89",
   "metadata": {},
   "outputs": [
    {
     "data": {
      "text/html": [
       "<div>\n",
       "<style scoped>\n",
       "    .dataframe tbody tr th:only-of-type {\n",
       "        vertical-align: middle;\n",
       "    }\n",
       "\n",
       "    .dataframe tbody tr th {\n",
       "        vertical-align: top;\n",
       "    }\n",
       "\n",
       "    .dataframe thead th {\n",
       "        text-align: right;\n",
       "    }\n",
       "</style>\n",
       "<table border=\"1\" class=\"dataframe\">\n",
       "  <thead>\n",
       "    <tr style=\"text-align: right;\">\n",
       "      <th></th>\n",
       "      <th>user_id</th>\n",
       "      <th>class</th>\n",
       "      <th>gender</th>\n",
       "      <th>grade</th>\n",
       "      <th>school_id</th>\n",
       "      <th>session_id</th>\n",
       "      <th>device_id</th>\n",
       "    </tr>\n",
       "  </thead>\n",
       "  <tbody>\n",
       "    <tr>\n",
       "      <th>0</th>\n",
       "      <td>1000000</td>\n",
       "      <td>1</td>\n",
       "      <td>M</td>\n",
       "      <td>1</td>\n",
       "      <td>1885</td>\n",
       "      <td>NaN</td>\n",
       "      <td>NaN</td>\n",
       "    </tr>\n",
       "    <tr>\n",
       "      <th>1</th>\n",
       "      <td>1000009</td>\n",
       "      <td>10</td>\n",
       "      <td>F</td>\n",
       "      <td>2</td>\n",
       "      <td>3869</td>\n",
       "      <td>NaN</td>\n",
       "      <td>NaN</td>\n",
       "    </tr>\n",
       "  </tbody>\n",
       "</table>\n",
       "</div>"
      ],
      "text/plain": [
       "   user_id  class gender  grade  school_id session_id device_id\n",
       "0  1000000      1      M      1       1885        NaN       NaN\n",
       "1  1000009     10      F      2       3869        NaN       NaN"
      ]
     },
     "execution_count": 86,
     "metadata": {},
     "output_type": "execute_result"
    }
   ],
   "source": [
    "hackle_user_school_df.head(2)"
   ]
  },
  {
   "cell_type": "code",
   "execution_count": 87,
   "id": "dc8d63b3",
   "metadata": {},
   "outputs": [
    {
     "name": "stdout",
     "output_type": "stream",
     "text": [
      "<class 'pandas.core.frame.DataFrame'>\n",
      "RangeIndex: 11441319 entries, 0 to 11441318\n",
      "Data columns (total 16 columns):\n",
      " #   Column          Dtype         \n",
      "---  ------          -----         \n",
      " 0   event_id        object        \n",
      " 1   event_datetime  datetime64[ns]\n",
      " 2   event_key       object        \n",
      " 3   session_id      object        \n",
      " 4   item_name       object        \n",
      " 5   page_name       object        \n",
      " 6   friend_count    float64       \n",
      " 7   votes_count     float64       \n",
      " 8   heart_balance   float64       \n",
      " 9   question_id     float64       \n",
      " 10  user_id         object        \n",
      " 11  class           float64       \n",
      " 12  gender          object        \n",
      " 13  grade           float64       \n",
      " 14  school_id       float64       \n",
      " 15  device_id       object        \n",
      "dtypes: datetime64[ns](1), float64(7), object(8)\n",
      "memory usage: 1.4+ GB\n"
     ]
    }
   ],
   "source": [
    "hackle_df = pd.merge(hackle_events_df, hackle_user_school_df, on='session_id', how='left')\n",
    "hackle_df.info()"
   ]
  },
  {
   "cell_type": "code",
   "execution_count": 88,
   "id": "cd426025",
   "metadata": {},
   "outputs": [
    {
     "data": {
      "text/html": [
       "<div>\n",
       "<style scoped>\n",
       "    .dataframe tbody tr th:only-of-type {\n",
       "        vertical-align: middle;\n",
       "    }\n",
       "\n",
       "    .dataframe tbody tr th {\n",
       "        vertical-align: top;\n",
       "    }\n",
       "\n",
       "    .dataframe thead th {\n",
       "        text-align: right;\n",
       "    }\n",
       "</style>\n",
       "<table border=\"1\" class=\"dataframe\">\n",
       "  <thead>\n",
       "    <tr style=\"text-align: right;\">\n",
       "      <th></th>\n",
       "      <th>event_id</th>\n",
       "      <th>event_datetime</th>\n",
       "      <th>event_key</th>\n",
       "      <th>session_id</th>\n",
       "      <th>item_name</th>\n",
       "      <th>page_name</th>\n",
       "      <th>friend_count</th>\n",
       "      <th>votes_count</th>\n",
       "      <th>heart_balance</th>\n",
       "      <th>question_id</th>\n",
       "      <th>user_id</th>\n",
       "      <th>class</th>\n",
       "      <th>gender</th>\n",
       "      <th>grade</th>\n",
       "      <th>school_id</th>\n",
       "      <th>device_id</th>\n",
       "    </tr>\n",
       "  </thead>\n",
       "  <tbody>\n",
       "    <tr>\n",
       "      <th>0</th>\n",
       "      <td>00000533-3f1c-4b3b-81f1-0c8f35754b4e</td>\n",
       "      <td>2023-07-18 19:40:17</td>\n",
       "      <td>$session_start</td>\n",
       "      <td>4OzYh3seq3VKytpSn5pvQkZNQii1</td>\n",
       "      <td>NaN</td>\n",
       "      <td>NaN</td>\n",
       "      <td>NaN</td>\n",
       "      <td>NaN</td>\n",
       "      <td>NaN</td>\n",
       "      <td>NaN</td>\n",
       "      <td>NaN</td>\n",
       "      <td>NaN</td>\n",
       "      <td>NaN</td>\n",
       "      <td>NaN</td>\n",
       "      <td>NaN</td>\n",
       "      <td>NaN</td>\n",
       "    </tr>\n",
       "    <tr>\n",
       "      <th>1</th>\n",
       "      <td>00000716-27e9-4e72-a602-d0ce61784b06</td>\n",
       "      <td>2023-07-18 21:07:24</td>\n",
       "      <td>click_question_open</td>\n",
       "      <td>8QXy31PQxbW9qLzq0Y1dhR8Ypm52</td>\n",
       "      <td>NaN</td>\n",
       "      <td>NaN</td>\n",
       "      <td>64.0</td>\n",
       "      <td>436.0</td>\n",
       "      <td>4830.0</td>\n",
       "      <td>NaN</td>\n",
       "      <td>NaN</td>\n",
       "      <td>NaN</td>\n",
       "      <td>NaN</td>\n",
       "      <td>NaN</td>\n",
       "      <td>NaN</td>\n",
       "      <td>NaN</td>\n",
       "    </tr>\n",
       "    <tr>\n",
       "      <th>2</th>\n",
       "      <td>000007c8-68ce-40e6-9b1e-f0e34e8ff9cc</td>\n",
       "      <td>2023-08-06 20:18:03</td>\n",
       "      <td>click_bottom_navigation_profile</td>\n",
       "      <td>6bcea65d-9f40-46fc-888c-700fe707483f</td>\n",
       "      <td>NaN</td>\n",
       "      <td>NaN</td>\n",
       "      <td>26.0</td>\n",
       "      <td>174.0</td>\n",
       "      <td>4729.0</td>\n",
       "      <td>NaN</td>\n",
       "      <td>1545130</td>\n",
       "      <td>2.0</td>\n",
       "      <td>M</td>\n",
       "      <td>1.0</td>\n",
       "      <td>1141.0</td>\n",
       "      <td>6bcea65d-9f40-46fc-888c-700fe707483f</td>\n",
       "    </tr>\n",
       "    <tr>\n",
       "      <th>3</th>\n",
       "      <td>00000981-5e2a-4111-993e-4f1891ad9a53</td>\n",
       "      <td>2023-08-05 01:46:10</td>\n",
       "      <td>view_shop</td>\n",
       "      <td>XVYNT6zfhFWqIg9omwg2AHDjTLx2</td>\n",
       "      <td>NaN</td>\n",
       "      <td>NaN</td>\n",
       "      <td>61.0</td>\n",
       "      <td>44.0</td>\n",
       "      <td>142.0</td>\n",
       "      <td>NaN</td>\n",
       "      <td>NaN</td>\n",
       "      <td>NaN</td>\n",
       "      <td>NaN</td>\n",
       "      <td>NaN</td>\n",
       "      <td>NaN</td>\n",
       "      <td>NaN</td>\n",
       "    </tr>\n",
       "    <tr>\n",
       "      <th>4</th>\n",
       "      <td>00000a7a-ba72-4332-b4a9-7910670aaeb2</td>\n",
       "      <td>2023-07-24 15:03:37</td>\n",
       "      <td>click_bottom_navigation_lab</td>\n",
       "      <td>XFB2SPiGfjbVhvJ3Q3DBsaT3m2B3</td>\n",
       "      <td>NaN</td>\n",
       "      <td>NaN</td>\n",
       "      <td>119.0</td>\n",
       "      <td>545.0</td>\n",
       "      <td>3287.0</td>\n",
       "      <td>NaN</td>\n",
       "      <td>NaN</td>\n",
       "      <td>NaN</td>\n",
       "      <td>NaN</td>\n",
       "      <td>NaN</td>\n",
       "      <td>NaN</td>\n",
       "      <td>NaN</td>\n",
       "    </tr>\n",
       "  </tbody>\n",
       "</table>\n",
       "</div>"
      ],
      "text/plain": [
       "                               event_id      event_datetime  \\\n",
       "0  00000533-3f1c-4b3b-81f1-0c8f35754b4e 2023-07-18 19:40:17   \n",
       "1  00000716-27e9-4e72-a602-d0ce61784b06 2023-07-18 21:07:24   \n",
       "2  000007c8-68ce-40e6-9b1e-f0e34e8ff9cc 2023-08-06 20:18:03   \n",
       "3  00000981-5e2a-4111-993e-4f1891ad9a53 2023-08-05 01:46:10   \n",
       "4  00000a7a-ba72-4332-b4a9-7910670aaeb2 2023-07-24 15:03:37   \n",
       "\n",
       "                         event_key                            session_id  \\\n",
       "0                   $session_start          4OzYh3seq3VKytpSn5pvQkZNQii1   \n",
       "1              click_question_open          8QXy31PQxbW9qLzq0Y1dhR8Ypm52   \n",
       "2  click_bottom_navigation_profile  6bcea65d-9f40-46fc-888c-700fe707483f   \n",
       "3                        view_shop          XVYNT6zfhFWqIg9omwg2AHDjTLx2   \n",
       "4      click_bottom_navigation_lab          XFB2SPiGfjbVhvJ3Q3DBsaT3m2B3   \n",
       "\n",
       "  item_name page_name  friend_count  votes_count  heart_balance  question_id  \\\n",
       "0       NaN       NaN           NaN          NaN            NaN          NaN   \n",
       "1       NaN       NaN          64.0        436.0         4830.0          NaN   \n",
       "2       NaN       NaN          26.0        174.0         4729.0          NaN   \n",
       "3       NaN       NaN          61.0         44.0          142.0          NaN   \n",
       "4       NaN       NaN         119.0        545.0         3287.0          NaN   \n",
       "\n",
       "   user_id  class gender  grade  school_id  \\\n",
       "0      NaN    NaN    NaN    NaN        NaN   \n",
       "1      NaN    NaN    NaN    NaN        NaN   \n",
       "2  1545130    2.0      M    1.0     1141.0   \n",
       "3      NaN    NaN    NaN    NaN        NaN   \n",
       "4      NaN    NaN    NaN    NaN        NaN   \n",
       "\n",
       "                              device_id  \n",
       "0                                   NaN  \n",
       "1                                   NaN  \n",
       "2  6bcea65d-9f40-46fc-888c-700fe707483f  \n",
       "3                                   NaN  \n",
       "4                                   NaN  "
      ]
     },
     "execution_count": 88,
     "metadata": {},
     "output_type": "execute_result"
    }
   ],
   "source": [
    "hackle_df.head()"
   ]
  },
  {
   "cell_type": "code",
   "execution_count": 89,
   "id": "3dd28e6c",
   "metadata": {},
   "outputs": [
    {
     "data": {
      "text/plain": [
       "event_id                 0\n",
       "event_datetime           0\n",
       "event_key                0\n",
       "session_id               0\n",
       "item_name         11428280\n",
       "page_name         10652540\n",
       "friend_count        752556\n",
       "votes_count         754554\n",
       "heart_balance       728643\n",
       "question_id       10991835\n",
       "user_id            6291191\n",
       "class              6291191\n",
       "gender             6291191\n",
       "grade              6291191\n",
       "school_id          6291191\n",
       "device_id          6291191\n",
       "dtype: int64"
      ]
     },
     "execution_count": 89,
     "metadata": {},
     "output_type": "execute_result"
    }
   ],
   "source": [
    "hackle_df.isna().sum()"
   ]
  },
  {
   "cell_type": "markdown",
   "id": "4879f51d",
   "metadata": {},
   "source": [
    "- session 이나 event 가 존재하지만, user_id나 school_id를 인식하지 못하는 정보 다수 발견"
   ]
  },
  {
   "cell_type": "code",
   "execution_count": 90,
   "id": "0aa2200e",
   "metadata": {},
   "outputs": [
    {
     "name": "stdout",
     "output_type": "stream",
     "text": [
      "<class 'pandas.core.frame.DataFrame'>\n",
      "Index: 5150128 entries, 2 to 11441318\n",
      "Data columns (total 16 columns):\n",
      " #   Column          Dtype         \n",
      "---  ------          -----         \n",
      " 0   event_id        object        \n",
      " 1   event_datetime  datetime64[ns]\n",
      " 2   event_key       object        \n",
      " 3   session_id      object        \n",
      " 4   item_name       object        \n",
      " 5   page_name       object        \n",
      " 6   friend_count    float64       \n",
      " 7   votes_count     float64       \n",
      " 8   heart_balance   float64       \n",
      " 9   question_id     float64       \n",
      " 10  user_id         object        \n",
      " 11  class           float64       \n",
      " 12  gender          object        \n",
      " 13  grade           float64       \n",
      " 14  school_id       float64       \n",
      " 15  device_id       object        \n",
      "dtypes: datetime64[ns](1), float64(7), object(8)\n",
      "memory usage: 668.0+ MB\n"
     ]
    }
   ],
   "source": [
    "hackle_df = hackle_df.dropna(subset=['school_id'])\n",
    "hackle_df.info()"
   ]
  },
  {
   "cell_type": "code",
   "execution_count": 91,
   "id": "37872fda",
   "metadata": {},
   "outputs": [
    {
     "data": {
      "text/plain": [
       "event_id                0\n",
       "event_datetime          0\n",
       "event_key               0\n",
       "session_id              0\n",
       "item_name         5144652\n",
       "page_name         4785820\n",
       "friend_count       259768\n",
       "votes_count        260547\n",
       "heart_balance      251325\n",
       "question_id       4918710\n",
       "user_id                 0\n",
       "class                   0\n",
       "gender                  0\n",
       "grade                   0\n",
       "school_id               0\n",
       "device_id               0\n",
       "dtype: int64"
      ]
     },
     "execution_count": 91,
     "metadata": {},
     "output_type": "execute_result"
    }
   ],
   "source": [
    "hackle_df.isna().sum()"
   ]
  },
  {
   "cell_type": "code",
   "execution_count": 92,
   "id": "b1ec7f4f",
   "metadata": {},
   "outputs": [
    {
     "data": {
      "text/html": [
       "<div>\n",
       "<style scoped>\n",
       "    .dataframe tbody tr th:only-of-type {\n",
       "        vertical-align: middle;\n",
       "    }\n",
       "\n",
       "    .dataframe tbody tr th {\n",
       "        vertical-align: top;\n",
       "    }\n",
       "\n",
       "    .dataframe thead th {\n",
       "        text-align: right;\n",
       "    }\n",
       "</style>\n",
       "<table border=\"1\" class=\"dataframe\">\n",
       "  <thead>\n",
       "    <tr style=\"text-align: right;\">\n",
       "      <th></th>\n",
       "      <th>event_id</th>\n",
       "      <th>event_datetime</th>\n",
       "      <th>event_key</th>\n",
       "      <th>session_id</th>\n",
       "      <th>item_name</th>\n",
       "      <th>page_name</th>\n",
       "      <th>friend_count</th>\n",
       "      <th>votes_count</th>\n",
       "      <th>heart_balance</th>\n",
       "      <th>question_id</th>\n",
       "      <th>user_id</th>\n",
       "      <th>class</th>\n",
       "      <th>gender</th>\n",
       "      <th>grade</th>\n",
       "      <th>school_id</th>\n",
       "      <th>device_id</th>\n",
       "    </tr>\n",
       "  </thead>\n",
       "  <tbody>\n",
       "    <tr>\n",
       "      <th>2</th>\n",
       "      <td>000007c8-68ce-40e6-9b1e-f0e34e8ff9cc</td>\n",
       "      <td>2023-08-06 20:18:03</td>\n",
       "      <td>click_bottom_navigation_profile</td>\n",
       "      <td>6bcea65d-9f40-46fc-888c-700fe707483f</td>\n",
       "      <td>NaN</td>\n",
       "      <td>NaN</td>\n",
       "      <td>26.0</td>\n",
       "      <td>174.0</td>\n",
       "      <td>4729.0</td>\n",
       "      <td>NaN</td>\n",
       "      <td>1545130</td>\n",
       "      <td>2.0</td>\n",
       "      <td>M</td>\n",
       "      <td>1.0</td>\n",
       "      <td>1141.0</td>\n",
       "      <td>6bcea65d-9f40-46fc-888c-700fe707483f</td>\n",
       "    </tr>\n",
       "    <tr>\n",
       "      <th>7</th>\n",
       "      <td>00000d23-8055-4534-893b-bf17425ab41e</td>\n",
       "      <td>2023-08-06 12:46:17</td>\n",
       "      <td>click_bottom_navigation_lab</td>\n",
       "      <td>414540BA-1980-4371-BF37-5BFA71158C4D</td>\n",
       "      <td>NaN</td>\n",
       "      <td>NaN</td>\n",
       "      <td>45.0</td>\n",
       "      <td>148.0</td>\n",
       "      <td>141.0</td>\n",
       "      <td>NaN</td>\n",
       "      <td>1475326</td>\n",
       "      <td>5.0</td>\n",
       "      <td>F</td>\n",
       "      <td>1.0</td>\n",
       "      <td>1204.0</td>\n",
       "      <td>414540BA-1980-4371-BF37-5BFA71158C4D</td>\n",
       "    </tr>\n",
       "    <tr>\n",
       "      <th>9</th>\n",
       "      <td>000015ae-60e0-495f-a356-9c1aaa18e841</td>\n",
       "      <td>2023-07-21 16:38:37</td>\n",
       "      <td>view_lab_tap</td>\n",
       "      <td>94860349-d46f-4e98-8505-e96877376cee</td>\n",
       "      <td>NaN</td>\n",
       "      <td>NaN</td>\n",
       "      <td>21.0</td>\n",
       "      <td>286.0</td>\n",
       "      <td>547.0</td>\n",
       "      <td>NaN</td>\n",
       "      <td>1537177</td>\n",
       "      <td>1.0</td>\n",
       "      <td>M</td>\n",
       "      <td>2.0</td>\n",
       "      <td>5888.0</td>\n",
       "      <td>94860349-d46f-4e98-8505-e96877376cee</td>\n",
       "    </tr>\n",
       "    <tr>\n",
       "      <th>11</th>\n",
       "      <td>000016af-25ea-464b-bb59-6f690e9d440b</td>\n",
       "      <td>2023-07-19 00:01:15</td>\n",
       "      <td>launch_app</td>\n",
       "      <td>496C4656-1079-4284-826B-5D9A8F359ECF</td>\n",
       "      <td>NaN</td>\n",
       "      <td>NaN</td>\n",
       "      <td>70.0</td>\n",
       "      <td>485.0</td>\n",
       "      <td>13364.0</td>\n",
       "      <td>NaN</td>\n",
       "      <td>1556429</td>\n",
       "      <td>1.0</td>\n",
       "      <td>F</td>\n",
       "      <td>2.0</td>\n",
       "      <td>908.0</td>\n",
       "      <td>496C4656-1079-4284-826B-5D9A8F359ECF</td>\n",
       "    </tr>\n",
       "    <tr>\n",
       "      <th>12</th>\n",
       "      <td>0000183e-d7a2-4c47-aa1d-3467dbf41d4f</td>\n",
       "      <td>2023-07-25 19:32:04</td>\n",
       "      <td>view_questions_tap</td>\n",
       "      <td>cPM87By9qdTxpG7miXyopisBpHU2</td>\n",
       "      <td>NaN</td>\n",
       "      <td>NaN</td>\n",
       "      <td>75.0</td>\n",
       "      <td>34.0</td>\n",
       "      <td>626.0</td>\n",
       "      <td>NaN</td>\n",
       "      <td>1517211</td>\n",
       "      <td>6.0</td>\n",
       "      <td>M</td>\n",
       "      <td>2.0</td>\n",
       "      <td>4823.0</td>\n",
       "      <td>8d86a4c2-82f1-4ee6-a552-030c724ec709</td>\n",
       "    </tr>\n",
       "  </tbody>\n",
       "</table>\n",
       "</div>"
      ],
      "text/plain": [
       "                                event_id      event_datetime  \\\n",
       "2   000007c8-68ce-40e6-9b1e-f0e34e8ff9cc 2023-08-06 20:18:03   \n",
       "7   00000d23-8055-4534-893b-bf17425ab41e 2023-08-06 12:46:17   \n",
       "9   000015ae-60e0-495f-a356-9c1aaa18e841 2023-07-21 16:38:37   \n",
       "11  000016af-25ea-464b-bb59-6f690e9d440b 2023-07-19 00:01:15   \n",
       "12  0000183e-d7a2-4c47-aa1d-3467dbf41d4f 2023-07-25 19:32:04   \n",
       "\n",
       "                          event_key                            session_id  \\\n",
       "2   click_bottom_navigation_profile  6bcea65d-9f40-46fc-888c-700fe707483f   \n",
       "7       click_bottom_navigation_lab  414540BA-1980-4371-BF37-5BFA71158C4D   \n",
       "9                      view_lab_tap  94860349-d46f-4e98-8505-e96877376cee   \n",
       "11                       launch_app  496C4656-1079-4284-826B-5D9A8F359ECF   \n",
       "12               view_questions_tap          cPM87By9qdTxpG7miXyopisBpHU2   \n",
       "\n",
       "   item_name page_name  friend_count  votes_count  heart_balance  question_id  \\\n",
       "2        NaN       NaN          26.0        174.0         4729.0          NaN   \n",
       "7        NaN       NaN          45.0        148.0          141.0          NaN   \n",
       "9        NaN       NaN          21.0        286.0          547.0          NaN   \n",
       "11       NaN       NaN          70.0        485.0        13364.0          NaN   \n",
       "12       NaN       NaN          75.0         34.0          626.0          NaN   \n",
       "\n",
       "    user_id  class gender  grade  school_id  \\\n",
       "2   1545130    2.0      M    1.0     1141.0   \n",
       "7   1475326    5.0      F    1.0     1204.0   \n",
       "9   1537177    1.0      M    2.0     5888.0   \n",
       "11  1556429    1.0      F    2.0      908.0   \n",
       "12  1517211    6.0      M    2.0     4823.0   \n",
       "\n",
       "                               device_id  \n",
       "2   6bcea65d-9f40-46fc-888c-700fe707483f  \n",
       "7   414540BA-1980-4371-BF37-5BFA71158C4D  \n",
       "9   94860349-d46f-4e98-8505-e96877376cee  \n",
       "11  496C4656-1079-4284-826B-5D9A8F359ECF  \n",
       "12  8d86a4c2-82f1-4ee6-a552-030c724ec709  "
      ]
     },
     "execution_count": 92,
     "metadata": {},
     "output_type": "execute_result"
    }
   ],
   "source": [
    "hackle_df.head()"
   ]
  },
  {
   "cell_type": "code",
   "execution_count": 93,
   "id": "a8ab9f01",
   "metadata": {},
   "outputs": [
    {
     "data": {
      "text/plain": [
       "4757"
      ]
     },
     "execution_count": 93,
     "metadata": {},
     "output_type": "execute_result"
    }
   ],
   "source": [
    "hackle_df['school_id'].nunique()"
   ]
  },
  {
   "cell_type": "code",
   "execution_count": 94,
   "id": "eb0c1e73",
   "metadata": {},
   "outputs": [
    {
     "data": {
      "text/html": [
       "<div>\n",
       "<style scoped>\n",
       "    .dataframe tbody tr th:only-of-type {\n",
       "        vertical-align: middle;\n",
       "    }\n",
       "\n",
       "    .dataframe tbody tr th {\n",
       "        vertical-align: top;\n",
       "    }\n",
       "\n",
       "    .dataframe thead th {\n",
       "        text-align: right;\n",
       "    }\n",
       "</style>\n",
       "<table border=\"1\" class=\"dataframe\">\n",
       "  <thead>\n",
       "    <tr style=\"text-align: right;\">\n",
       "      <th></th>\n",
       "      <th>school_id</th>\n",
       "      <th>event_count</th>\n",
       "    </tr>\n",
       "  </thead>\n",
       "  <tbody>\n",
       "    <tr>\n",
       "      <th>0</th>\n",
       "      <td>1.0</td>\n",
       "      <td>4228</td>\n",
       "    </tr>\n",
       "    <tr>\n",
       "      <th>1</th>\n",
       "      <td>4.0</td>\n",
       "      <td>45</td>\n",
       "    </tr>\n",
       "    <tr>\n",
       "      <th>2</th>\n",
       "      <td>5.0</td>\n",
       "      <td>168</td>\n",
       "    </tr>\n",
       "    <tr>\n",
       "      <th>3</th>\n",
       "      <td>6.0</td>\n",
       "      <td>27</td>\n",
       "    </tr>\n",
       "    <tr>\n",
       "      <th>4</th>\n",
       "      <td>7.0</td>\n",
       "      <td>234</td>\n",
       "    </tr>\n",
       "  </tbody>\n",
       "</table>\n",
       "</div>"
      ],
      "text/plain": [
       "   school_id  event_count\n",
       "0        1.0         4228\n",
       "1        4.0           45\n",
       "2        5.0          168\n",
       "3        6.0           27\n",
       "4        7.0          234"
      ]
     },
     "execution_count": 94,
     "metadata": {},
     "output_type": "execute_result"
    }
   ],
   "source": [
    "event_counts_by_school = hackle_df.groupby('school_id')['event_id'].count().reset_index(name='event_count')\n",
    "event_counts_by_school.head()"
   ]
  },
  {
   "cell_type": "code",
   "execution_count": 95,
   "id": "0484ce17",
   "metadata": {},
   "outputs": [
    {
     "data": {
      "text/html": [
       "<div>\n",
       "<style scoped>\n",
       "    .dataframe tbody tr th:only-of-type {\n",
       "        vertical-align: middle;\n",
       "    }\n",
       "\n",
       "    .dataframe tbody tr th {\n",
       "        vertical-align: top;\n",
       "    }\n",
       "\n",
       "    .dataframe thead th {\n",
       "        text-align: right;\n",
       "    }\n",
       "</style>\n",
       "<table border=\"1\" class=\"dataframe\">\n",
       "  <thead>\n",
       "    <tr style=\"text-align: right;\">\n",
       "      <th></th>\n",
       "      <th>school_id</th>\n",
       "      <th>event_count</th>\n",
       "    </tr>\n",
       "  </thead>\n",
       "  <tbody>\n",
       "    <tr>\n",
       "      <th>0</th>\n",
       "      <td>1.0</td>\n",
       "      <td>4228</td>\n",
       "    </tr>\n",
       "    <tr>\n",
       "      <th>1</th>\n",
       "      <td>4.0</td>\n",
       "      <td>45</td>\n",
       "    </tr>\n",
       "    <tr>\n",
       "      <th>2</th>\n",
       "      <td>5.0</td>\n",
       "      <td>168</td>\n",
       "    </tr>\n",
       "    <tr>\n",
       "      <th>3</th>\n",
       "      <td>6.0</td>\n",
       "      <td>27</td>\n",
       "    </tr>\n",
       "    <tr>\n",
       "      <th>4</th>\n",
       "      <td>7.0</td>\n",
       "      <td>234</td>\n",
       "    </tr>\n",
       "    <tr>\n",
       "      <th>...</th>\n",
       "      <td>...</td>\n",
       "      <td>...</td>\n",
       "    </tr>\n",
       "    <tr>\n",
       "      <th>4752</th>\n",
       "      <td>5959.0</td>\n",
       "      <td>12</td>\n",
       "    </tr>\n",
       "    <tr>\n",
       "      <th>4753</th>\n",
       "      <td>5960.0</td>\n",
       "      <td>522</td>\n",
       "    </tr>\n",
       "    <tr>\n",
       "      <th>4754</th>\n",
       "      <td>5961.0</td>\n",
       "      <td>3161</td>\n",
       "    </tr>\n",
       "    <tr>\n",
       "      <th>4755</th>\n",
       "      <td>5963.0</td>\n",
       "      <td>361</td>\n",
       "    </tr>\n",
       "    <tr>\n",
       "      <th>4756</th>\n",
       "      <td>5964.0</td>\n",
       "      <td>1777</td>\n",
       "    </tr>\n",
       "  </tbody>\n",
       "</table>\n",
       "<p>4757 rows × 2 columns</p>\n",
       "</div>"
      ],
      "text/plain": [
       "      school_id  event_count\n",
       "0           1.0         4228\n",
       "1           4.0           45\n",
       "2           5.0          168\n",
       "3           6.0           27\n",
       "4           7.0          234\n",
       "...         ...          ...\n",
       "4752     5959.0           12\n",
       "4753     5960.0          522\n",
       "4754     5961.0         3161\n",
       "4755     5963.0          361\n",
       "4756     5964.0         1777\n",
       "\n",
       "[4757 rows x 2 columns]"
      ]
     },
     "execution_count": 95,
     "metadata": {},
     "output_type": "execute_result"
    }
   ],
   "source": [
    "event_counts_by_school"
   ]
  },
  {
   "cell_type": "markdown",
   "id": "eb2ba7e8",
   "metadata": {},
   "source": [
    "#### 메인 활동(question) 로그 체크"
   ]
  },
  {
   "cell_type": "code",
   "execution_count": 96,
   "id": "a7004829",
   "metadata": {},
   "outputs": [
    {
     "data": {
      "text/html": [
       "<div>\n",
       "<style scoped>\n",
       "    .dataframe tbody tr th:only-of-type {\n",
       "        vertical-align: middle;\n",
       "    }\n",
       "\n",
       "    .dataframe tbody tr th {\n",
       "        vertical-align: top;\n",
       "    }\n",
       "\n",
       "    .dataframe thead th {\n",
       "        text-align: right;\n",
       "    }\n",
       "</style>\n",
       "<table border=\"1\" class=\"dataframe\">\n",
       "  <thead>\n",
       "    <tr style=\"text-align: right;\">\n",
       "      <th></th>\n",
       "      <th>event_id</th>\n",
       "      <th>event_datetime</th>\n",
       "      <th>event_key</th>\n",
       "      <th>session_id</th>\n",
       "      <th>item_name</th>\n",
       "      <th>page_name</th>\n",
       "      <th>friend_count</th>\n",
       "      <th>votes_count</th>\n",
       "      <th>heart_balance</th>\n",
       "      <th>question_id</th>\n",
       "      <th>user_id</th>\n",
       "      <th>class</th>\n",
       "      <th>gender</th>\n",
       "      <th>grade</th>\n",
       "      <th>school_id</th>\n",
       "      <th>device_id</th>\n",
       "    </tr>\n",
       "  </thead>\n",
       "  <tbody>\n",
       "    <tr>\n",
       "      <th>2</th>\n",
       "      <td>000007c8-68ce-40e6-9b1e-f0e34e8ff9cc</td>\n",
       "      <td>2023-08-06 20:18:03</td>\n",
       "      <td>click_bottom_navigation_profile</td>\n",
       "      <td>6bcea65d-9f40-46fc-888c-700fe707483f</td>\n",
       "      <td>NaN</td>\n",
       "      <td>NaN</td>\n",
       "      <td>26.0</td>\n",
       "      <td>174.0</td>\n",
       "      <td>4729.0</td>\n",
       "      <td>NaN</td>\n",
       "      <td>1545130</td>\n",
       "      <td>2.0</td>\n",
       "      <td>M</td>\n",
       "      <td>1.0</td>\n",
       "      <td>1141.0</td>\n",
       "      <td>6bcea65d-9f40-46fc-888c-700fe707483f</td>\n",
       "    </tr>\n",
       "    <tr>\n",
       "      <th>7</th>\n",
       "      <td>00000d23-8055-4534-893b-bf17425ab41e</td>\n",
       "      <td>2023-08-06 12:46:17</td>\n",
       "      <td>click_bottom_navigation_lab</td>\n",
       "      <td>414540BA-1980-4371-BF37-5BFA71158C4D</td>\n",
       "      <td>NaN</td>\n",
       "      <td>NaN</td>\n",
       "      <td>45.0</td>\n",
       "      <td>148.0</td>\n",
       "      <td>141.0</td>\n",
       "      <td>NaN</td>\n",
       "      <td>1475326</td>\n",
       "      <td>5.0</td>\n",
       "      <td>F</td>\n",
       "      <td>1.0</td>\n",
       "      <td>1204.0</td>\n",
       "      <td>414540BA-1980-4371-BF37-5BFA71158C4D</td>\n",
       "    </tr>\n",
       "  </tbody>\n",
       "</table>\n",
       "</div>"
      ],
      "text/plain": [
       "                               event_id      event_datetime  \\\n",
       "2  000007c8-68ce-40e6-9b1e-f0e34e8ff9cc 2023-08-06 20:18:03   \n",
       "7  00000d23-8055-4534-893b-bf17425ab41e 2023-08-06 12:46:17   \n",
       "\n",
       "                         event_key                            session_id  \\\n",
       "2  click_bottom_navigation_profile  6bcea65d-9f40-46fc-888c-700fe707483f   \n",
       "7      click_bottom_navigation_lab  414540BA-1980-4371-BF37-5BFA71158C4D   \n",
       "\n",
       "  item_name page_name  friend_count  votes_count  heart_balance  question_id  \\\n",
       "2       NaN       NaN          26.0        174.0         4729.0          NaN   \n",
       "7       NaN       NaN          45.0        148.0          141.0          NaN   \n",
       "\n",
       "   user_id  class gender  grade  school_id  \\\n",
       "2  1545130    2.0      M    1.0     1141.0   \n",
       "7  1475326    5.0      F    1.0     1204.0   \n",
       "\n",
       "                              device_id  \n",
       "2  6bcea65d-9f40-46fc-888c-700fe707483f  \n",
       "7  414540BA-1980-4371-BF37-5BFA71158C4D  "
      ]
     },
     "execution_count": 96,
     "metadata": {},
     "output_type": "execute_result"
    }
   ],
   "source": [
    "hackle_df.head(2)"
   ]
  },
  {
   "cell_type": "code",
   "execution_count": 97,
   "id": "88a6496b",
   "metadata": {},
   "outputs": [
    {
     "name": "stdout",
     "output_type": "stream",
     "text": [
      "<class 'pandas.core.frame.DataFrame'>\n",
      "Index: 1444597 entries, 12 to 11441315\n",
      "Data columns (total 16 columns):\n",
      " #   Column          Non-Null Count    Dtype         \n",
      "---  ------          --------------    -----         \n",
      " 0   event_id        1444597 non-null  object        \n",
      " 1   event_datetime  1444597 non-null  datetime64[ns]\n",
      " 2   event_key       1444597 non-null  object        \n",
      " 3   session_id      1444597 non-null  object        \n",
      " 4   item_name       0 non-null        object        \n",
      " 5   page_name       169284 non-null   object        \n",
      " 6   friend_count    1444595 non-null  float64       \n",
      " 7   votes_count     1444595 non-null  float64       \n",
      " 8   heart_balance   1444595 non-null  float64       \n",
      " 9   question_id     231418 non-null   float64       \n",
      " 10  user_id         1444597 non-null  object        \n",
      " 11  class           1444597 non-null  float64       \n",
      " 12  gender          1444597 non-null  object        \n",
      " 13  grade           1444597 non-null  float64       \n",
      " 14  school_id       1444597 non-null  float64       \n",
      " 15  device_id       1444597 non-null  object        \n",
      "dtypes: datetime64[ns](1), float64(7), object(8)\n",
      "memory usage: 187.4+ MB\n"
     ]
    }
   ],
   "source": [
    "hackle_question_df = hackle_df[hackle_df['event_key'].str.contains('question', case=False, na=False)]\n",
    "hackle_question_df.info()"
   ]
  },
  {
   "cell_type": "code",
   "execution_count": 98,
   "id": "88d3abdb",
   "metadata": {},
   "outputs": [
    {
     "data": {
      "text/plain": [
       "4670"
      ]
     },
     "execution_count": 98,
     "metadata": {},
     "output_type": "execute_result"
    }
   ],
   "source": [
    "hackle_question_df['school_id'].nunique()"
   ]
  },
  {
   "cell_type": "markdown",
   "id": "b6357806",
   "metadata": {},
   "source": [
    "## 관리자 계정 삭제"
   ]
  },
  {
   "cell_type": "markdown",
   "id": "dd623ea9",
   "metadata": {},
   "source": [
    "- 관리자 계정 831956, 1580627, 1580689"
   ]
  },
  {
   "cell_type": "code",
   "execution_count": 99,
   "id": "ed88345c",
   "metadata": {},
   "outputs": [
    {
     "data": {
      "text/html": [
       "<div>\n",
       "<style scoped>\n",
       "    .dataframe tbody tr th:only-of-type {\n",
       "        vertical-align: middle;\n",
       "    }\n",
       "\n",
       "    .dataframe tbody tr th {\n",
       "        vertical-align: top;\n",
       "    }\n",
       "\n",
       "    .dataframe thead th {\n",
       "        text-align: right;\n",
       "    }\n",
       "</style>\n",
       "<table border=\"1\" class=\"dataframe\">\n",
       "  <thead>\n",
       "    <tr style=\"text-align: right;\">\n",
       "      <th></th>\n",
       "      <th>event_id</th>\n",
       "      <th>event_datetime</th>\n",
       "      <th>event_key</th>\n",
       "      <th>session_id</th>\n",
       "      <th>item_name</th>\n",
       "      <th>page_name</th>\n",
       "      <th>friend_count</th>\n",
       "      <th>votes_count</th>\n",
       "      <th>heart_balance</th>\n",
       "      <th>question_id</th>\n",
       "      <th>user_id</th>\n",
       "      <th>class</th>\n",
       "      <th>gender</th>\n",
       "      <th>grade</th>\n",
       "      <th>school_id</th>\n",
       "      <th>device_id</th>\n",
       "    </tr>\n",
       "  </thead>\n",
       "  <tbody>\n",
       "  </tbody>\n",
       "</table>\n",
       "</div>"
      ],
      "text/plain": [
       "Empty DataFrame\n",
       "Columns: [event_id, event_datetime, event_key, session_id, item_name, page_name, friend_count, votes_count, heart_balance, question_id, user_id, class, gender, grade, school_id, device_id]\n",
       "Index: []"
      ]
     },
     "execution_count": 99,
     "metadata": {},
     "output_type": "execute_result"
    }
   ],
   "source": [
    "hackle_df[hackle_df['user_id'].isin(['831956', '1580627', '1580689'])]"
   ]
  },
  {
   "cell_type": "code",
   "execution_count": 100,
   "id": "50c5f412",
   "metadata": {},
   "outputs": [
    {
     "data": {
      "text/html": [
       "<div>\n",
       "<style scoped>\n",
       "    .dataframe tbody tr th:only-of-type {\n",
       "        vertical-align: middle;\n",
       "    }\n",
       "\n",
       "    .dataframe tbody tr th {\n",
       "        vertical-align: top;\n",
       "    }\n",
       "\n",
       "    .dataframe thead th {\n",
       "        text-align: right;\n",
       "    }\n",
       "</style>\n",
       "<table border=\"1\" class=\"dataframe\">\n",
       "  <thead>\n",
       "    <tr style=\"text-align: right;\">\n",
       "      <th></th>\n",
       "      <th>event_id</th>\n",
       "      <th>event_datetime</th>\n",
       "      <th>event_key</th>\n",
       "      <th>session_id</th>\n",
       "      <th>item_name</th>\n",
       "      <th>page_name</th>\n",
       "      <th>friend_count</th>\n",
       "      <th>votes_count</th>\n",
       "      <th>heart_balance</th>\n",
       "      <th>question_id</th>\n",
       "      <th>user_id</th>\n",
       "      <th>class</th>\n",
       "      <th>gender</th>\n",
       "      <th>grade</th>\n",
       "      <th>school_id</th>\n",
       "      <th>device_id</th>\n",
       "    </tr>\n",
       "  </thead>\n",
       "  <tbody>\n",
       "  </tbody>\n",
       "</table>\n",
       "</div>"
      ],
      "text/plain": [
       "Empty DataFrame\n",
       "Columns: [event_id, event_datetime, event_key, session_id, item_name, page_name, friend_count, votes_count, heart_balance, question_id, user_id, class, gender, grade, school_id, device_id]\n",
       "Index: []"
      ]
     },
     "execution_count": 100,
     "metadata": {},
     "output_type": "execute_result"
    }
   ],
   "source": [
    "hackle_df[hackle_df['user_id'] == '1580689']"
   ]
  },
  {
   "cell_type": "code",
   "execution_count": 101,
   "id": "dc0e9f1c",
   "metadata": {},
   "outputs": [
    {
     "data": {
      "text/html": [
       "<div>\n",
       "<style scoped>\n",
       "    .dataframe tbody tr th:only-of-type {\n",
       "        vertical-align: middle;\n",
       "    }\n",
       "\n",
       "    .dataframe tbody tr th {\n",
       "        vertical-align: top;\n",
       "    }\n",
       "\n",
       "    .dataframe thead th {\n",
       "        text-align: right;\n",
       "    }\n",
       "</style>\n",
       "<table border=\"1\" class=\"dataframe\">\n",
       "  <thead>\n",
       "    <tr style=\"text-align: right;\">\n",
       "      <th></th>\n",
       "      <th>user_id</th>\n",
       "      <th>class</th>\n",
       "      <th>gender</th>\n",
       "      <th>grade</th>\n",
       "      <th>school_id</th>\n",
       "      <th>session_id</th>\n",
       "      <th>device_id</th>\n",
       "    </tr>\n",
       "  </thead>\n",
       "  <tbody>\n",
       "  </tbody>\n",
       "</table>\n",
       "</div>"
      ],
      "text/plain": [
       "Empty DataFrame\n",
       "Columns: [user_id, class, gender, grade, school_id, session_id, device_id]\n",
       "Index: []"
      ]
     },
     "execution_count": 101,
     "metadata": {},
     "output_type": "execute_result"
    }
   ],
   "source": [
    "hackle_user_school_df[hackle_user_school_df['user_id'].isin(['831956', '1580627', '1580689'])]"
   ]
  },
  {
   "cell_type": "code",
   "execution_count": 102,
   "id": "394ce51f",
   "metadata": {},
   "outputs": [
    {
     "data": {
      "text/html": [
       "<div>\n",
       "<style scoped>\n",
       "    .dataframe tbody tr th:only-of-type {\n",
       "        vertical-align: middle;\n",
       "    }\n",
       "\n",
       "    .dataframe tbody tr th {\n",
       "        vertical-align: top;\n",
       "    }\n",
       "\n",
       "    .dataframe thead th {\n",
       "        text-align: right;\n",
       "    }\n",
       "</style>\n",
       "<table border=\"1\" class=\"dataframe\">\n",
       "  <thead>\n",
       "    <tr style=\"text-align: right;\">\n",
       "      <th></th>\n",
       "      <th>user_id</th>\n",
       "      <th>class</th>\n",
       "      <th>gender</th>\n",
       "      <th>grade</th>\n",
       "      <th>school_id</th>\n",
       "    </tr>\n",
       "  </thead>\n",
       "  <tbody>\n",
       "  </tbody>\n",
       "</table>\n",
       "</div>"
      ],
      "text/plain": [
       "Empty DataFrame\n",
       "Columns: [user_id, class, gender, grade, school_id]\n",
       "Index: []"
      ]
     },
     "execution_count": 102,
     "metadata": {},
     "output_type": "execute_result"
    }
   ],
   "source": [
    "user_properties_df[user_properties_df['user_id'].isin(['831956', '1580627', '1580689'])]"
   ]
  },
  {
   "cell_type": "markdown",
   "id": "8fe773a4",
   "metadata": {},
   "source": [
    "- 전처리 과정에서 관리자 계정이 삭제되거나, 애초에 유저 이벤트 데이터에 미포함된 것으로 확인"
   ]
  },
  {
   "cell_type": "markdown",
   "id": "3572f6c3",
   "metadata": {},
   "source": [
    "## 유저 수가 적은 학교"
   ]
  },
  {
   "cell_type": "code",
   "execution_count": 103,
   "id": "eb8b8a58",
   "metadata": {},
   "outputs": [
    {
     "data": {
      "text/html": [
       "<div>\n",
       "<style scoped>\n",
       "    .dataframe tbody tr th:only-of-type {\n",
       "        vertical-align: middle;\n",
       "    }\n",
       "\n",
       "    .dataframe tbody tr th {\n",
       "        vertical-align: top;\n",
       "    }\n",
       "\n",
       "    .dataframe thead th {\n",
       "        text-align: right;\n",
       "    }\n",
       "</style>\n",
       "<table border=\"1\" class=\"dataframe\">\n",
       "  <thead>\n",
       "    <tr style=\"text-align: right;\">\n",
       "      <th></th>\n",
       "      <th>event_id</th>\n",
       "      <th>event_datetime</th>\n",
       "      <th>event_key</th>\n",
       "      <th>session_id</th>\n",
       "      <th>item_name</th>\n",
       "      <th>page_name</th>\n",
       "      <th>friend_count</th>\n",
       "      <th>votes_count</th>\n",
       "      <th>heart_balance</th>\n",
       "      <th>question_id</th>\n",
       "      <th>user_id</th>\n",
       "      <th>class</th>\n",
       "      <th>gender</th>\n",
       "      <th>grade</th>\n",
       "      <th>school_id</th>\n",
       "      <th>device_id</th>\n",
       "    </tr>\n",
       "  </thead>\n",
       "  <tbody>\n",
       "    <tr>\n",
       "      <th>2</th>\n",
       "      <td>000007c8-68ce-40e6-9b1e-f0e34e8ff9cc</td>\n",
       "      <td>2023-08-06 20:18:03</td>\n",
       "      <td>click_bottom_navigation_profile</td>\n",
       "      <td>6bcea65d-9f40-46fc-888c-700fe707483f</td>\n",
       "      <td>NaN</td>\n",
       "      <td>NaN</td>\n",
       "      <td>26.0</td>\n",
       "      <td>174.0</td>\n",
       "      <td>4729.0</td>\n",
       "      <td>NaN</td>\n",
       "      <td>1545130</td>\n",
       "      <td>2.0</td>\n",
       "      <td>M</td>\n",
       "      <td>1.0</td>\n",
       "      <td>1141.0</td>\n",
       "      <td>6bcea65d-9f40-46fc-888c-700fe707483f</td>\n",
       "    </tr>\n",
       "    <tr>\n",
       "      <th>7</th>\n",
       "      <td>00000d23-8055-4534-893b-bf17425ab41e</td>\n",
       "      <td>2023-08-06 12:46:17</td>\n",
       "      <td>click_bottom_navigation_lab</td>\n",
       "      <td>414540BA-1980-4371-BF37-5BFA71158C4D</td>\n",
       "      <td>NaN</td>\n",
       "      <td>NaN</td>\n",
       "      <td>45.0</td>\n",
       "      <td>148.0</td>\n",
       "      <td>141.0</td>\n",
       "      <td>NaN</td>\n",
       "      <td>1475326</td>\n",
       "      <td>5.0</td>\n",
       "      <td>F</td>\n",
       "      <td>1.0</td>\n",
       "      <td>1204.0</td>\n",
       "      <td>414540BA-1980-4371-BF37-5BFA71158C4D</td>\n",
       "    </tr>\n",
       "  </tbody>\n",
       "</table>\n",
       "</div>"
      ],
      "text/plain": [
       "                               event_id      event_datetime  \\\n",
       "2  000007c8-68ce-40e6-9b1e-f0e34e8ff9cc 2023-08-06 20:18:03   \n",
       "7  00000d23-8055-4534-893b-bf17425ab41e 2023-08-06 12:46:17   \n",
       "\n",
       "                         event_key                            session_id  \\\n",
       "2  click_bottom_navigation_profile  6bcea65d-9f40-46fc-888c-700fe707483f   \n",
       "7      click_bottom_navigation_lab  414540BA-1980-4371-BF37-5BFA71158C4D   \n",
       "\n",
       "  item_name page_name  friend_count  votes_count  heart_balance  question_id  \\\n",
       "2       NaN       NaN          26.0        174.0         4729.0          NaN   \n",
       "7       NaN       NaN          45.0        148.0          141.0          NaN   \n",
       "\n",
       "   user_id  class gender  grade  school_id  \\\n",
       "2  1545130    2.0      M    1.0     1141.0   \n",
       "7  1475326    5.0      F    1.0     1204.0   \n",
       "\n",
       "                              device_id  \n",
       "2  6bcea65d-9f40-46fc-888c-700fe707483f  \n",
       "7  414540BA-1980-4371-BF37-5BFA71158C4D  "
      ]
     },
     "execution_count": 103,
     "metadata": {},
     "output_type": "execute_result"
    }
   ],
   "source": [
    "hackle_df.head(2)"
   ]
  },
  {
   "cell_type": "code",
   "execution_count": 104,
   "id": "9b6c07f6",
   "metadata": {},
   "outputs": [],
   "source": [
    "school_user_counts = hackle_df.groupby('school_id')['user_id'].nunique().reset_index()\n",
    "school_user_counts.columns = ['school_id', 'unique_user_count']"
   ]
  },
  {
   "cell_type": "code",
   "execution_count": 105,
   "id": "1a7f74cf",
   "metadata": {},
   "outputs": [
    {
     "data": {
      "text/html": [
       "<div>\n",
       "<style scoped>\n",
       "    .dataframe tbody tr th:only-of-type {\n",
       "        vertical-align: middle;\n",
       "    }\n",
       "\n",
       "    .dataframe tbody tr th {\n",
       "        vertical-align: top;\n",
       "    }\n",
       "\n",
       "    .dataframe thead th {\n",
       "        text-align: right;\n",
       "    }\n",
       "</style>\n",
       "<table border=\"1\" class=\"dataframe\">\n",
       "  <thead>\n",
       "    <tr style=\"text-align: right;\">\n",
       "      <th></th>\n",
       "      <th>school_id</th>\n",
       "      <th>unique_user_count</th>\n",
       "    </tr>\n",
       "  </thead>\n",
       "  <tbody>\n",
       "    <tr>\n",
       "      <th>0</th>\n",
       "      <td>1.0</td>\n",
       "      <td>23</td>\n",
       "    </tr>\n",
       "    <tr>\n",
       "      <th>1</th>\n",
       "      <td>4.0</td>\n",
       "      <td>2</td>\n",
       "    </tr>\n",
       "    <tr>\n",
       "      <th>2</th>\n",
       "      <td>5.0</td>\n",
       "      <td>4</td>\n",
       "    </tr>\n",
       "    <tr>\n",
       "      <th>3</th>\n",
       "      <td>6.0</td>\n",
       "      <td>3</td>\n",
       "    </tr>\n",
       "    <tr>\n",
       "      <th>4</th>\n",
       "      <td>7.0</td>\n",
       "      <td>8</td>\n",
       "    </tr>\n",
       "  </tbody>\n",
       "</table>\n",
       "</div>"
      ],
      "text/plain": [
       "   school_id  unique_user_count\n",
       "0        1.0                 23\n",
       "1        4.0                  2\n",
       "2        5.0                  4\n",
       "3        6.0                  3\n",
       "4        7.0                  8"
      ]
     },
     "execution_count": 105,
     "metadata": {},
     "output_type": "execute_result"
    }
   ],
   "source": [
    "school_user_counts.head()"
   ]
  },
  {
   "cell_type": "code",
   "execution_count": 107,
   "id": "5086f72a",
   "metadata": {},
   "outputs": [
    {
     "data": {
      "text/plain": [
       "count    4757.000000\n",
       "mean       20.960269\n",
       "std        20.053301\n",
       "min         1.000000\n",
       "25%         5.000000\n",
       "50%        15.000000\n",
       "75%        31.000000\n",
       "max       157.000000\n",
       "Name: unique_user_count, dtype: float64"
      ]
     },
     "execution_count": 107,
     "metadata": {},
     "output_type": "execute_result"
    }
   ],
   "source": [
    "school_user_counts['unique_user_count'].describe()"
   ]
  },
  {
   "cell_type": "markdown",
   "id": "5b8065d2",
   "metadata": {},
   "source": [
    "- 25%가 5명 이하인 학교"
   ]
  },
  {
   "cell_type": "code",
   "execution_count": 108,
   "id": "0d078b49",
   "metadata": {},
   "outputs": [
    {
     "data": {
      "text/plain": [
       "np.int64(642)"
      ]
     },
     "execution_count": 108,
     "metadata": {},
     "output_type": "execute_result"
    }
   ],
   "source": [
    "(school_user_counts['unique_user_count'] < 3).sum()"
   ]
  },
  {
   "cell_type": "code",
   "execution_count": 109,
   "id": "41164d00",
   "metadata": {},
   "outputs": [
    {
     "data": {
      "text/plain": [
       "1          4.0\n",
       "6          9.0\n",
       "8         11.0\n",
       "12        15.0\n",
       "17        23.0\n",
       "         ...  \n",
       "4745    5950.0\n",
       "4746    5952.0\n",
       "4750    5957.0\n",
       "4752    5959.0\n",
       "4756    5964.0\n",
       "Name: school_id, Length: 642, dtype: float64"
      ]
     },
     "execution_count": 109,
     "metadata": {},
     "output_type": "execute_result"
    }
   ],
   "source": [
    "low_user_schools = school_user_counts[school_user_counts['unique_user_count'] < 3]['school_id']\n",
    "low_user_schools"
   ]
  },
  {
   "cell_type": "code",
   "execution_count": 110,
   "id": "943c9ac1",
   "metadata": {},
   "outputs": [
    {
     "name": "stdout",
     "output_type": "stream",
     "text": [
      "<class 'pandas.core.frame.DataFrame'>\n",
      "Index: 5150128 entries, 2 to 11441318\n",
      "Data columns (total 16 columns):\n",
      " #   Column          Dtype         \n",
      "---  ------          -----         \n",
      " 0   event_id        object        \n",
      " 1   event_datetime  datetime64[ns]\n",
      " 2   event_key       object        \n",
      " 3   session_id      object        \n",
      " 4   item_name       object        \n",
      " 5   page_name       object        \n",
      " 6   friend_count    float64       \n",
      " 7   votes_count     float64       \n",
      " 8   heart_balance   float64       \n",
      " 9   question_id     float64       \n",
      " 10  user_id         object        \n",
      " 11  class           float64       \n",
      " 12  gender          object        \n",
      " 13  grade           float64       \n",
      " 14  school_id       float64       \n",
      " 15  device_id       object        \n",
      "dtypes: datetime64[ns](1), float64(7), object(8)\n",
      "memory usage: 668.0+ MB\n"
     ]
    }
   ],
   "source": [
    "hackle_df.info()"
   ]
  },
  {
   "cell_type": "code",
   "execution_count": 111,
   "id": "bc8ef7d1",
   "metadata": {},
   "outputs": [
    {
     "data": {
      "text/plain": [
       "4757"
      ]
     },
     "execution_count": 111,
     "metadata": {},
     "output_type": "execute_result"
    }
   ],
   "source": [
    "hackle_df['school_id'].nunique()"
   ]
  },
  {
   "cell_type": "code",
   "execution_count": 112,
   "id": "fdaa3444",
   "metadata": {},
   "outputs": [
    {
     "name": "stdout",
     "output_type": "stream",
     "text": [
      "<class 'pandas.core.frame.DataFrame'>\n",
      "Index: 5108810 entries, 2 to 11441318\n",
      "Data columns (total 16 columns):\n",
      " #   Column          Dtype         \n",
      "---  ------          -----         \n",
      " 0   event_id        object        \n",
      " 1   event_datetime  datetime64[ns]\n",
      " 2   event_key       object        \n",
      " 3   session_id      object        \n",
      " 4   item_name       object        \n",
      " 5   page_name       object        \n",
      " 6   friend_count    float64       \n",
      " 7   votes_count     float64       \n",
      " 8   heart_balance   float64       \n",
      " 9   question_id     float64       \n",
      " 10  user_id         object        \n",
      " 11  class           float64       \n",
      " 12  gender          object        \n",
      " 13  grade           float64       \n",
      " 14  school_id       float64       \n",
      " 15  device_id       object        \n",
      "dtypes: datetime64[ns](1), float64(7), object(8)\n",
      "memory usage: 662.6+ MB\n"
     ]
    }
   ],
   "source": [
    "hackle_df = hackle_df[~hackle_df['school_id'].isin(low_user_schools)]\n",
    "hackle_df.info()"
   ]
  },
  {
   "cell_type": "code",
   "execution_count": 113,
   "id": "119b2b6e",
   "metadata": {},
   "outputs": [
    {
     "data": {
      "text/plain": [
       "4115"
      ]
     },
     "execution_count": 113,
     "metadata": {},
     "output_type": "execute_result"
    }
   ],
   "source": [
    "hackle_df['school_id'].nunique()"
   ]
  },
  {
   "cell_type": "markdown",
   "id": "79ed4893",
   "metadata": {},
   "source": [
    "### 로그가 너무 적은 학교"
   ]
  },
  {
   "cell_type": "code",
   "execution_count": 114,
   "id": "27675a65",
   "metadata": {},
   "outputs": [
    {
     "data": {
      "text/html": [
       "<div>\n",
       "<style scoped>\n",
       "    .dataframe tbody tr th:only-of-type {\n",
       "        vertical-align: middle;\n",
       "    }\n",
       "\n",
       "    .dataframe tbody tr th {\n",
       "        vertical-align: top;\n",
       "    }\n",
       "\n",
       "    .dataframe thead th {\n",
       "        text-align: right;\n",
       "    }\n",
       "</style>\n",
       "<table border=\"1\" class=\"dataframe\">\n",
       "  <thead>\n",
       "    <tr style=\"text-align: right;\">\n",
       "      <th></th>\n",
       "      <th>school_id</th>\n",
       "      <th>event_count</th>\n",
       "    </tr>\n",
       "  </thead>\n",
       "  <tbody>\n",
       "    <tr>\n",
       "      <th>0</th>\n",
       "      <td>47.0</td>\n",
       "      <td>66672</td>\n",
       "    </tr>\n",
       "    <tr>\n",
       "      <th>1</th>\n",
       "      <td>4867.0</td>\n",
       "      <td>60169</td>\n",
       "    </tr>\n",
       "    <tr>\n",
       "      <th>2</th>\n",
       "      <td>400.0</td>\n",
       "      <td>45298</td>\n",
       "    </tr>\n",
       "    <tr>\n",
       "      <th>3</th>\n",
       "      <td>215.0</td>\n",
       "      <td>43560</td>\n",
       "    </tr>\n",
       "    <tr>\n",
       "      <th>4</th>\n",
       "      <td>3592.0</td>\n",
       "      <td>38374</td>\n",
       "    </tr>\n",
       "  </tbody>\n",
       "</table>\n",
       "</div>"
      ],
      "text/plain": [
       "   school_id  event_count\n",
       "0       47.0        66672\n",
       "1     4867.0        60169\n",
       "2      400.0        45298\n",
       "3      215.0        43560\n",
       "4     3592.0        38374"
      ]
     },
     "execution_count": 114,
     "metadata": {},
     "output_type": "execute_result"
    }
   ],
   "source": [
    "school_event_counts = hackle_df['school_id'].value_counts().reset_index()\n",
    "school_event_counts.columns = ['school_id', 'event_count']\n",
    "school_event_counts.head()"
   ]
  },
  {
   "cell_type": "code",
   "execution_count": 115,
   "id": "335cb987",
   "metadata": {},
   "outputs": [
    {
     "data": {
      "text/plain": [
       "np.int64(6)"
      ]
     },
     "execution_count": 115,
     "metadata": {},
     "output_type": "execute_result"
    }
   ],
   "source": [
    "(school_event_counts['event_count'] <= 20).sum()"
   ]
  },
  {
   "cell_type": "code",
   "execution_count": 116,
   "id": "4c713907",
   "metadata": {},
   "outputs": [
    {
     "data": {
      "text/plain": [
       "count     4115.000000\n",
       "mean      1241.509113\n",
       "std       2431.461518\n",
       "min         15.000000\n",
       "25%        322.000000\n",
       "50%        733.000000\n",
       "75%       1456.000000\n",
       "max      66672.000000\n",
       "Name: event_count, dtype: float64"
      ]
     },
     "execution_count": 116,
     "metadata": {},
     "output_type": "execute_result"
    }
   ],
   "source": [
    "school_event_counts['event_count'].describe()"
   ]
  },
  {
   "cell_type": "markdown",
   "id": "4fe7ecaa",
   "metadata": {},
   "source": [
    "- 유저 수가 적은 학교를 삭제하니, 자연스럽게 삭제됨"
   ]
  },
  {
   "cell_type": "markdown",
   "id": "3bcbfc58",
   "metadata": {},
   "source": [
    "## csv 파일로 변환"
   ]
  },
  {
   "cell_type": "code",
   "execution_count": 117,
   "id": "91f932a2",
   "metadata": {},
   "outputs": [],
   "source": [
    "hackle_df = hackle_df.reset_index(drop=True)"
   ]
  },
  {
   "cell_type": "code",
   "execution_count": 118,
   "id": "72a8b7e3",
   "metadata": {},
   "outputs": [
    {
     "data": {
      "text/html": [
       "<div>\n",
       "<style scoped>\n",
       "    .dataframe tbody tr th:only-of-type {\n",
       "        vertical-align: middle;\n",
       "    }\n",
       "\n",
       "    .dataframe tbody tr th {\n",
       "        vertical-align: top;\n",
       "    }\n",
       "\n",
       "    .dataframe thead th {\n",
       "        text-align: right;\n",
       "    }\n",
       "</style>\n",
       "<table border=\"1\" class=\"dataframe\">\n",
       "  <thead>\n",
       "    <tr style=\"text-align: right;\">\n",
       "      <th></th>\n",
       "      <th>event_id</th>\n",
       "      <th>event_datetime</th>\n",
       "      <th>event_key</th>\n",
       "      <th>session_id</th>\n",
       "      <th>item_name</th>\n",
       "      <th>page_name</th>\n",
       "      <th>friend_count</th>\n",
       "      <th>votes_count</th>\n",
       "      <th>heart_balance</th>\n",
       "      <th>question_id</th>\n",
       "      <th>user_id</th>\n",
       "      <th>class</th>\n",
       "      <th>gender</th>\n",
       "      <th>grade</th>\n",
       "      <th>school_id</th>\n",
       "      <th>device_id</th>\n",
       "    </tr>\n",
       "  </thead>\n",
       "  <tbody>\n",
       "    <tr>\n",
       "      <th>0</th>\n",
       "      <td>000007c8-68ce-40e6-9b1e-f0e34e8ff9cc</td>\n",
       "      <td>2023-08-06 20:18:03</td>\n",
       "      <td>click_bottom_navigation_profile</td>\n",
       "      <td>6bcea65d-9f40-46fc-888c-700fe707483f</td>\n",
       "      <td>NaN</td>\n",
       "      <td>NaN</td>\n",
       "      <td>26.0</td>\n",
       "      <td>174.0</td>\n",
       "      <td>4729.0</td>\n",
       "      <td>NaN</td>\n",
       "      <td>1545130</td>\n",
       "      <td>2.0</td>\n",
       "      <td>M</td>\n",
       "      <td>1.0</td>\n",
       "      <td>1141.0</td>\n",
       "      <td>6bcea65d-9f40-46fc-888c-700fe707483f</td>\n",
       "    </tr>\n",
       "    <tr>\n",
       "      <th>1</th>\n",
       "      <td>00000d23-8055-4534-893b-bf17425ab41e</td>\n",
       "      <td>2023-08-06 12:46:17</td>\n",
       "      <td>click_bottom_navigation_lab</td>\n",
       "      <td>414540BA-1980-4371-BF37-5BFA71158C4D</td>\n",
       "      <td>NaN</td>\n",
       "      <td>NaN</td>\n",
       "      <td>45.0</td>\n",
       "      <td>148.0</td>\n",
       "      <td>141.0</td>\n",
       "      <td>NaN</td>\n",
       "      <td>1475326</td>\n",
       "      <td>5.0</td>\n",
       "      <td>F</td>\n",
       "      <td>1.0</td>\n",
       "      <td>1204.0</td>\n",
       "      <td>414540BA-1980-4371-BF37-5BFA71158C4D</td>\n",
       "    </tr>\n",
       "    <tr>\n",
       "      <th>2</th>\n",
       "      <td>000015ae-60e0-495f-a356-9c1aaa18e841</td>\n",
       "      <td>2023-07-21 16:38:37</td>\n",
       "      <td>view_lab_tap</td>\n",
       "      <td>94860349-d46f-4e98-8505-e96877376cee</td>\n",
       "      <td>NaN</td>\n",
       "      <td>NaN</td>\n",
       "      <td>21.0</td>\n",
       "      <td>286.0</td>\n",
       "      <td>547.0</td>\n",
       "      <td>NaN</td>\n",
       "      <td>1537177</td>\n",
       "      <td>1.0</td>\n",
       "      <td>M</td>\n",
       "      <td>2.0</td>\n",
       "      <td>5888.0</td>\n",
       "      <td>94860349-d46f-4e98-8505-e96877376cee</td>\n",
       "    </tr>\n",
       "    <tr>\n",
       "      <th>3</th>\n",
       "      <td>000016af-25ea-464b-bb59-6f690e9d440b</td>\n",
       "      <td>2023-07-19 00:01:15</td>\n",
       "      <td>launch_app</td>\n",
       "      <td>496C4656-1079-4284-826B-5D9A8F359ECF</td>\n",
       "      <td>NaN</td>\n",
       "      <td>NaN</td>\n",
       "      <td>70.0</td>\n",
       "      <td>485.0</td>\n",
       "      <td>13364.0</td>\n",
       "      <td>NaN</td>\n",
       "      <td>1556429</td>\n",
       "      <td>1.0</td>\n",
       "      <td>F</td>\n",
       "      <td>2.0</td>\n",
       "      <td>908.0</td>\n",
       "      <td>496C4656-1079-4284-826B-5D9A8F359ECF</td>\n",
       "    </tr>\n",
       "    <tr>\n",
       "      <th>4</th>\n",
       "      <td>0000183e-d7a2-4c47-aa1d-3467dbf41d4f</td>\n",
       "      <td>2023-07-25 19:32:04</td>\n",
       "      <td>view_questions_tap</td>\n",
       "      <td>cPM87By9qdTxpG7miXyopisBpHU2</td>\n",
       "      <td>NaN</td>\n",
       "      <td>NaN</td>\n",
       "      <td>75.0</td>\n",
       "      <td>34.0</td>\n",
       "      <td>626.0</td>\n",
       "      <td>NaN</td>\n",
       "      <td>1517211</td>\n",
       "      <td>6.0</td>\n",
       "      <td>M</td>\n",
       "      <td>2.0</td>\n",
       "      <td>4823.0</td>\n",
       "      <td>8d86a4c2-82f1-4ee6-a552-030c724ec709</td>\n",
       "    </tr>\n",
       "  </tbody>\n",
       "</table>\n",
       "</div>"
      ],
      "text/plain": [
       "                               event_id      event_datetime  \\\n",
       "0  000007c8-68ce-40e6-9b1e-f0e34e8ff9cc 2023-08-06 20:18:03   \n",
       "1  00000d23-8055-4534-893b-bf17425ab41e 2023-08-06 12:46:17   \n",
       "2  000015ae-60e0-495f-a356-9c1aaa18e841 2023-07-21 16:38:37   \n",
       "3  000016af-25ea-464b-bb59-6f690e9d440b 2023-07-19 00:01:15   \n",
       "4  0000183e-d7a2-4c47-aa1d-3467dbf41d4f 2023-07-25 19:32:04   \n",
       "\n",
       "                         event_key                            session_id  \\\n",
       "0  click_bottom_navigation_profile  6bcea65d-9f40-46fc-888c-700fe707483f   \n",
       "1      click_bottom_navigation_lab  414540BA-1980-4371-BF37-5BFA71158C4D   \n",
       "2                     view_lab_tap  94860349-d46f-4e98-8505-e96877376cee   \n",
       "3                       launch_app  496C4656-1079-4284-826B-5D9A8F359ECF   \n",
       "4               view_questions_tap          cPM87By9qdTxpG7miXyopisBpHU2   \n",
       "\n",
       "  item_name page_name  friend_count  votes_count  heart_balance  question_id  \\\n",
       "0       NaN       NaN          26.0        174.0         4729.0          NaN   \n",
       "1       NaN       NaN          45.0        148.0          141.0          NaN   \n",
       "2       NaN       NaN          21.0        286.0          547.0          NaN   \n",
       "3       NaN       NaN          70.0        485.0        13364.0          NaN   \n",
       "4       NaN       NaN          75.0         34.0          626.0          NaN   \n",
       "\n",
       "   user_id  class gender  grade  school_id  \\\n",
       "0  1545130    2.0      M    1.0     1141.0   \n",
       "1  1475326    5.0      F    1.0     1204.0   \n",
       "2  1537177    1.0      M    2.0     5888.0   \n",
       "3  1556429    1.0      F    2.0      908.0   \n",
       "4  1517211    6.0      M    2.0     4823.0   \n",
       "\n",
       "                              device_id  \n",
       "0  6bcea65d-9f40-46fc-888c-700fe707483f  \n",
       "1  414540BA-1980-4371-BF37-5BFA71158C4D  \n",
       "2  94860349-d46f-4e98-8505-e96877376cee  \n",
       "3  496C4656-1079-4284-826B-5D9A8F359ECF  \n",
       "4  8d86a4c2-82f1-4ee6-a552-030c724ec709  "
      ]
     },
     "execution_count": 118,
     "metadata": {},
     "output_type": "execute_result"
    }
   ],
   "source": [
    "hackle_df.head()"
   ]
  },
  {
   "cell_type": "code",
   "execution_count": null,
   "id": "6481c0c3",
   "metadata": {},
   "outputs": [],
   "source": [
    "hackle_df.to_csv('hackle_df.csv', index=False)"
   ]
  },
  {
   "cell_type": "markdown",
   "id": "16eda741",
   "metadata": {},
   "source": [
    "# 정리"
   ]
  },
  {
   "cell_type": "markdown",
   "id": "02d8b75b",
   "metadata": {},
   "source": [
    "1. hackle_event_df\n",
    "    - event_id 와 id 컬럼이 중복되어 삭제\n",
    "    - user_id가 숫자가 아닌 데이터 삭제\n",
    "2. hackle_properties_df\n",
    "    - user_id, session_id 삭제\n",
    "    - 한 session_id에서 user_id가 여러 개 존재하면서 device_id가 같은 경우 삭제\n",
    "    - session_id, user_id는 같지만 device_id가 다른 데이터 삭제\n",
    "3. merge 과정\n",
    "    - user_properties_df 와 hackle_properties_df 를 user_id 기준으로 left join (hackle_user_school_df)\n",
    "    - hackle_events_df 와 hackle_user_school_df 를 session_id 기준으로 left join (hackle_df)\n",
    "4. merge 이후 데이터 정제\n",
    "    - 학교 정보가 없는 데이터 삭제\n",
    "    - 관리자 계정 데이터 삭제\n",
    "    - 유저 수 3명 미만인 학교에 해당하는 데이터 삭제"
   ]
  }
 ],
 "metadata": {
  "kernelspec": {
   "display_name": "codeit_env",
   "language": "python",
   "name": "python3"
  },
  "language_info": {
   "codemirror_mode": {
    "name": "ipython",
    "version": 3
   },
   "file_extension": ".py",
   "mimetype": "text/x-python",
   "name": "python",
   "nbconvert_exporter": "python",
   "pygments_lexer": "ipython3",
   "version": "3.12.9"
  }
 },
 "nbformat": 4,
 "nbformat_minor": 5
}
